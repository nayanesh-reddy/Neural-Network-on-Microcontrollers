{
 "cells": [
  {
   "cell_type": "code",
   "execution_count": 1,
   "metadata": {
    "id": "PcyIxv15AzCm"
   },
   "outputs": [],
   "source": [
    "import tensorflow as tf\n",
    "import matplotlib.pyplot as plt\n",
    "import numpy as np\n",
    "import cv2 as cv\n",
    "import seaborn as sns\n",
    "import sklearn.metrics as metrics"
   ]
  },
  {
   "cell_type": "code",
   "execution_count": 2,
   "metadata": {
    "colab": {
     "base_uri": "https://localhost:8080/"
    },
    "id": "QGkzE-giECdo",
    "outputId": "46b5c31e-1929-490f-a411-d60db6072e01"
   },
   "outputs": [],
   "source": [
    "mnist = tf.keras.datasets.mnist\n",
    " \n",
    "(x_train, y_train), (x_test, y_test) = mnist.load_data()\n",
    "\n",
    "x_train[x_train>0] = 1;\n",
    "x_test[x_test>0]  = 1;"
   ]
  },
  {
   "cell_type": "code",
   "execution_count": 3,
   "metadata": {
    "colab": {
     "base_uri": "https://localhost:8080/"
    },
    "id": "ceyJtOvw01Qh",
    "outputId": "61efc917-ebfd-40ef-d04d-9e6d00e45351"
   },
   "outputs": [
    {
     "name": "stdout",
     "output_type": "stream",
     "text": [
      "(60000, 10, 10, 1) (10000, 10, 10, 1)\n"
     ]
    }
   ],
   "source": [
    "\"\"\" resizing images into r x r \"\"\"\n",
    "\n",
    "r = 10\n",
    "\n",
    "sz = x_train.shape[0]\n",
    "s  = x_test.shape[0]\n",
    "\n",
    "X_train = np.zeros((sz, r, r))\n",
    "X_test  = np.zeros((s , r, r))\n",
    "\n",
    "for i in range(sz):\n",
    "  X_train[i,:,:] = cv.resize(x_train[i,:,:], (r,r))\n",
    " \n",
    "for i in range(s):\n",
    "  X_test[i,:,:] = cv.resize(x_test[i,:,:], (r,r))\n",
    "\n",
    "X_train = np.reshape(X_train, (60000, r, r, 1))\n",
    "X_test  = np.reshape(X_test,  (10000, r, r, 1))\n",
    "\n",
    "print(X_train.shape, X_test.shape)"
   ]
  },
  {
   "cell_type": "code",
   "execution_count": 4,
   "metadata": {
    "id": "S9xmQi75EDuq"
   },
   "outputs": [],
   "source": [
    "\"\"\" Creating the layers in model \"\"\"\n",
    "\n",
    "model = tf.keras.models.Sequential([\n",
    "    \n",
    "  tf.keras.layers.Flatten(input_shape=(10, 10)),\n",
    "  tf.keras.layers.Dense(10, use_bias=False)\n",
    "    \n",
    "])"
   ]
  },
  {
   "cell_type": "code",
   "execution_count": 5,
   "metadata": {
    "id": "orRCXTmcRhK8"
   },
   "outputs": [],
   "source": [
    "\"\"\" Specifying the Loss function \"\"\"\n",
    "\n",
    "loss_fn = tf.keras.losses.SparseCategoricalCrossentropy(from_logits=True)"
   ]
  },
  {
   "cell_type": "code",
   "execution_count": 6,
   "metadata": {
    "id": "6DGDNEr0TZOV"
   },
   "outputs": [],
   "source": [
    "\"\"\" Specifying the Optimization Algorithm and \n",
    "     metrics to use for evaluation while training \"\"\"\n",
    "\n",
    "model.compile(optimizer='adam',\n",
    "              loss=loss_fn,\n",
    "              metrics=['accuracy'])"
   ]
  },
  {
   "cell_type": "code",
   "execution_count": 7,
   "metadata": {
    "colab": {
     "base_uri": "https://localhost:8080/"
    },
    "id": "mItqxFxmikoh",
    "outputId": "2b7e6595-fa57-4d10-8a7c-e6a84495ad3c"
   },
   "outputs": [
    {
     "name": "stdout",
     "output_type": "stream",
     "text": [
      "Epoch 1/20\n",
      "7500/7500 [==============================] - 6s 679us/step - loss: 1.0572 - accuracy: 0.7067\n",
      "Epoch 2/20\n",
      "7500/7500 [==============================] - 7s 906us/step - loss: 0.4986 - accuracy: 0.8524\n",
      "Epoch 3/20\n",
      "7500/7500 [==============================] - 6s 805us/step - loss: 0.4708 - accuracy: 0.8585\n",
      "Epoch 4/20\n",
      "7500/7500 [==============================] - 6s 762us/step - loss: 0.4649 - accuracy: 0.8586\n",
      "Epoch 5/20\n",
      "7500/7500 [==============================] - 6s 753us/step - loss: 0.4629 - accuracy: 0.8607\n",
      "Epoch 6/20\n",
      "7500/7500 [==============================] - 6s 786us/step - loss: 0.4480 - accuracy: 0.8632\n",
      "Epoch 7/20\n",
      "7500/7500 [==============================] - 6s 797us/step - loss: 0.4592 - accuracy: 0.8614\n",
      "Epoch 8/20\n",
      "7500/7500 [==============================] - 6s 770us/step - loss: 0.4531 - accuracy: 0.8630\n",
      "Epoch 9/20\n",
      "7500/7500 [==============================] - 6s 787us/step - loss: 0.4504 - accuracy: 0.8646\n",
      "Epoch 10/20\n",
      "7500/7500 [==============================] - 6s 811us/step - loss: 0.4553 - accuracy: 0.8626\n",
      "Epoch 11/20\n",
      "7500/7500 [==============================] - 6s 781us/step - loss: 0.4570 - accuracy: 0.8630\n",
      "Epoch 12/20\n",
      "7500/7500 [==============================] - 6s 786us/step - loss: 0.4504 - accuracy: 0.86550s - loss: 0.4\n",
      "Epoch 13/20\n",
      "7500/7500 [==============================] - 6s 764us/step - loss: 0.4583 - accuracy: 0.8631\n",
      "Epoch 14/20\n",
      "7500/7500 [==============================] - 6s 787us/step - loss: 0.4525 - accuracy: 0.8621\n",
      "Epoch 15/20\n",
      "7500/7500 [==============================] - 6s 783us/step - loss: 0.4596 - accuracy: 0.8599\n",
      "Epoch 16/20\n",
      "7500/7500 [==============================] - 6s 788us/step - loss: 0.4588 - accuracy: 0.8614\n",
      "Epoch 17/20\n",
      "7500/7500 [==============================] - 6s 779us/step - loss: 0.4522 - accuracy: 0.8652\n",
      "Epoch 18/20\n",
      "7500/7500 [==============================] - 6s 780us/step - loss: 0.4484 - accuracy: 0.8636\n",
      "Epoch 19/20\n",
      "7500/7500 [==============================] - 6s 785us/step - loss: 0.4522 - accuracy: 0.8622\n",
      "Epoch 20/20\n",
      "7500/7500 [==============================] - 6s 792us/step - loss: 0.4522 - accuracy: 0.8641\n"
     ]
    },
    {
     "data": {
      "text/plain": [
       "<tensorflow.python.keras.callbacks.History at 0x22d0d569c40>"
      ]
     },
     "execution_count": 7,
     "metadata": {},
     "output_type": "execute_result"
    }
   ],
   "source": [
    "\"\"\" Traning the model \"\"\"\n",
    "\n",
    "model.fit(X_train, y_train, epochs=20, batch_size=8, use_multiprocessing=True)"
   ]
  },
  {
   "cell_type": "code",
   "execution_count": 8,
   "metadata": {
    "colab": {
     "base_uri": "https://localhost:8080/"
    },
    "id": "wyMKqKvuTxlq",
    "outputId": "63e6fa1c-b9a9-454d-f49b-45449edcf4e6"
   },
   "outputs": [
    {
     "name": "stdout",
     "output_type": "stream",
     "text": [
      "313/313 [==============================] - 0s 664us/step - loss: 0.4410 - accuracy: 0.8704\n"
     ]
    },
    {
     "data": {
      "text/plain": [
       "[0.44100555777549744, 0.8704000115394592]"
      ]
     },
     "execution_count": 8,
     "metadata": {},
     "output_type": "execute_result"
    }
   ],
   "source": [
    "\"\"\" Evaluating the model \"\"\"\n",
    "\n",
    "model.evaluate(X_test, y_test, verbose=1)"
   ]
  },
  {
   "cell_type": "code",
   "execution_count": 9,
   "metadata": {
    "id": "K2G5-qcVUrj4"
   },
   "outputs": [],
   "source": [
    "\"\"\" Adding the Softmax layer at the end of model \"\"\"\n",
    "\n",
    "probability_model = tf.keras.Sequential([\n",
    "  model,\n",
    "  tf.keras.layers.Softmax()\n",
    "])"
   ]
  },
  {
   "cell_type": "code",
   "execution_count": 10,
   "metadata": {},
   "outputs": [],
   "source": [
    "y_prob = probability_model(X_test).numpy()\n"
   ]
  },
  {
   "cell_type": "code",
   "execution_count": 11,
   "metadata": {
    "colab": {
     "base_uri": "https://localhost:8080/"
    },
    "id": "cEUaUXUEUzT6",
    "outputId": "bb9d154a-8521-4c2d-a204-f3a695d01df5"
   },
   "outputs": [
    {
     "name": "stdout",
     "output_type": "stream",
     "text": [
      "              precision    recall  f1-score   support\n",
      "\n",
      "           0       0.91      0.97      0.94       980\n",
      "           1       0.92      0.96      0.94      1135\n",
      "           2       0.87      0.84      0.86      1032\n",
      "           3       0.85      0.85      0.85      1010\n",
      "           4       0.88      0.86      0.87       982\n",
      "           5       0.86      0.77      0.81       892\n",
      "           6       0.91      0.91      0.91       958\n",
      "           7       0.91      0.85      0.88      1028\n",
      "           8       0.79      0.83      0.81       974\n",
      "           9       0.81      0.85      0.83      1009\n",
      "\n",
      "    accuracy                           0.87     10000\n",
      "   macro avg       0.87      0.87      0.87     10000\n",
      "weighted avg       0.87      0.87      0.87     10000\n",
      "\n"
     ]
    }
   ],
   "source": [
    "y_prob = probability_model(X_test).numpy()\n",
    "\n",
    "y_pred = np.argmax( y_prob, axis=1)\n",
    "\n",
    "print(metrics.classification_report(y_test, y_pred))"
   ]
  },
  {
   "cell_type": "code",
   "execution_count": 12,
   "metadata": {},
   "outputs": [
    {
     "name": "stdout",
     "output_type": "stream",
     "text": [
      "Comfusion Matrix\n",
      " [[ 949    0    2    7    1    2    8    2    9    0]\n",
      " [   0 1084    9    4    1    6    5    0   20    6]\n",
      " [  17   12  867   24   15    5   23   12   50    7]\n",
      " [  11    9   34  858    3   37    4    9   33   12]\n",
      " [   6   11    7    1  843    1   14   10   15   74]\n",
      " [  17    3   14   53   10  685   25    6   65   14]\n",
      " [  14    6   17    2   13   23  876    0    7    0]\n",
      " [   4   22   26    9   15    1    0  874    8   69]\n",
      " [  14   18   16   33    8   30   10    8  812   25]\n",
      " [  11   18    4   14   47   10    1   37   11  856]]\n"
     ]
    },
    {
     "data": {
      "text/plain": [
       "<AxesSubplot:>"
      ]
     },
     "execution_count": 12,
     "metadata": {},
     "output_type": "execute_result"
    },
    {
     "data": {
      "image/png": "[encoded data removed]",
      "text/plain": [
       "<Figure size 432x288 with 2 Axes>"
      ]
     },
     "metadata": {
      "needs_background": "light"
     },
     "output_type": "display_data"
    }
   ],
   "source": [
    "labels = [0,1,2,3,4,5,6,7,8,9]\n",
    "\n",
    "cf_matrix = metrics.confusion_matrix( y_test, y_pred)\n",
    "\n",
    "print(\"Comfusion Matrix\\n\", cf_matrix)\n",
    "\n",
    "sns.heatmap(cf_matrix/np.sum(cf_matrix), annot=False, cmap='Blues', \n",
    "            xticklabels = labels , yticklabels = labels)"
   ]
  },
  {
   "cell_type": "code",
   "execution_count": 13,
   "metadata": {
    "id": "D_ARFX97ZSio"
   },
   "outputs": [],
   "source": [
    "\"\"\" saving the model \"\"\"\n",
    "\n",
    "model.save('mnist_Arduino.h5')"
   ]
  },
  {
   "cell_type": "code",
   "execution_count": null,
   "metadata": {},
   "outputs": [],
   "source": [
    "\n"
   ]
  },
  {
   "cell_type": "code",
   "execution_count": 14,
   "metadata": {
    "colab": {
     "base_uri": "https://localhost:8080/",
     "height": 298
    },
    "id": "EDtQb44_Vboo",
    "outputId": "23cb89cb-dfe2-47d9-c9b5-0872f1f14885"
   },
   "outputs": [
    {
     "data": {
      "text/plain": [
       "<matplotlib.image.AxesImage at 0x22d109bc250>"
      ]
     },
     "execution_count": 14,
     "metadata": {},
     "output_type": "execute_result"
    },
    {
     "data": {
      "image/png": "[encoded data removed]",
      "text/plain": [
       "<Figure size 432x288 with 1 Axes>"
      ]
     },
     "metadata": {
      "needs_background": "light"
     },
     "output_type": "display_data"
    }
   ],
   "source": [
    "idx = 253\n",
    "\n",
    "img = X_test[idx:idx+1,:]\n",
    "im = np.reshape(img, (r,r))\n",
    "\n",
    "plt.imshow(im, cmap='gray')"
   ]
  },
  {
   "cell_type": "code",
   "execution_count": 15,
   "metadata": {
    "colab": {
     "base_uri": "https://localhost:8080/"
    },
    "id": "CUIhADDzCGbm",
    "outputId": "ecc1ffdd-0fed-4202-8eb1-8d50790b2158"
   },
   "outputs": [
    {
     "data": {
      "text/plain": [
       "array([[0, 0, 0, 0, 0, 0, 0, 0, 0, 0],\n",
       "       [0, 0, 0, 0, 0, 0, 0, 0, 0, 0],\n",
       "       [0, 0, 0, 0, 1, 1, 1, 1, 0, 0],\n",
       "       [0, 0, 0, 0, 1, 0, 0, 0, 0, 0],\n",
       "       [0, 0, 0, 1, 1, 1, 0, 0, 0, 0],\n",
       "       [0, 0, 0, 0, 0, 0, 1, 0, 0, 0],\n",
       "       [0, 0, 0, 0, 0, 0, 1, 0, 0, 0],\n",
       "       [0, 0, 1, 0, 0, 1, 1, 0, 0, 0],\n",
       "       [0, 0, 0, 1, 1, 1, 0, 0, 0, 0],\n",
       "       [0, 0, 0, 0, 0, 0, 0, 0, 0, 0]])"
      ]
     },
     "execution_count": 15,
     "metadata": {},
     "output_type": "execute_result"
    }
   ],
   "source": [
    "np.int32(im)"
   ]
  },
  {
   "cell_type": "code",
   "execution_count": 16,
   "metadata": {
    "scrolled": false
   },
   "outputs": [
    {
     "name": "stdout",
     "output_type": "stream",
     "text": [
      "Predicted by model : 5\n"
     ]
    }
   ],
   "source": [
    "print(\"Predicted by model :\", np.argmax( probability_model(img).numpy(), axis=1)[0] )"
   ]
  },
  {
   "cell_type": "code",
   "execution_count": 17,
   "metadata": {},
   "outputs": [
    {
     "name": "stdout",
     "output_type": "stream",
     "text": [
      "(100, 10)\n"
     ]
    }
   ],
   "source": [
    "L1 = model.weights[0].numpy()\n",
    "L1 = 10*L1\n",
    "L1 = L1.astype(int)\n",
    "\n",
    "print(L1.shape)"
   ]
  },
  {
   "cell_type": "code",
   "execution_count": 18,
   "metadata": {
    "scrolled": false
   },
   "outputs": [
    {
     "name": "stdout",
     "output_type": "stream",
     "text": [
      "char W[10][100]=\n",
      "{\n",
      "{0,-1,-5,-26,1,-5,-31,-8,-4,1,-1,0,-8,-3,-2,0,-1,-4,-9,-31,-11,-21,-10,-6,-3,3,11,-2,-4,-37,-28,-8,-5,-4,3,0,4,6,0,-39,0,-11,3,0,-2,-30,-7,4,13,-24,-10,-1,2,9,-14,-38,-6,2,5,-45,-13,-20,5,6,-10,-12,4,1,2,-32,-14,-1,0,9,5,3,-2,-3,-4,-2,-1,-42,-3,0,12,1,-2,-8,-11,-7,0,-26,-23,-69,-76,-41,-35,-18,-13,0 },\n",
      "{1,0,-1,-7,-19,1,-13,-6,-1,1,1,-10,-16,-4,3,3,0,3,-9,-20,-6,-2,-14,-19,-10,-13,-13,-3,-9,-27,-4,-22,-9,-10,-6,11,-8,-12,-40,-9,-8,-2,-9,-20,-3,30,-14,-13,-8,-11,-1,-3,-18,-26,6,21,-29,-27,-31,-2,9,-22,-24,-4,12,0,-21,2,-7,-10,5,-6,1,-1,-2,-4,1,4,-5,-2,-2,-18,6,2,-7,7,9,-9,-19,13,-1,-23,-24,-52,-69,-38,-40,-17,-9,-1 },\n",
      "{0,-5,-16,-1,-4,5,-6,-17,-9,1,-4,0,0,3,7,6,0,-5,-22,-33,-11,0,1,1,3,1,-1,-4,-12,-15,-12,-2,1,-1,-7,-2,0,-1,-23,-9,-13,-19,-28,-23,-23,-13,-6,-3,-9,17,-13,0,-3,-3,5,0,-5,-4,-1,30,-16,0,5,4,10,4,1,3,11,12,-5,4,6,8,2,1,7,9,12,5,-1,-7,0,1,-5,-4,1,4,3,-8,0,-31,-35,-38,-58,-34,-62,-33,-26,0 },\n",
      "{-2,0,-14,-18,-27,-32,-23,-12,-3,-1,6,5,6,3,2,1,-3,-12,-40,-32,7,8,5,8,5,3,-1,-2,-14,-54,-11,5,3,-7,-8,5,8,1,-33,-47,-14,-5,-16,-13,0,7,-3,-9,-19,-40,3,-1,-10,-7,0,-6,0,-1,-1,-10,6,18,1,-15,-17,-5,2,2,-9,-50,4,9,6,1,-3,1,5,0,-6,-6,-1,9,7,5,1,0,-3,-6,-39,-4,-1,-5,-5,-2,-2,-4,-12,-15,-29,2 },\n",
      "{1,-1,-14,-24,-35,-29,-31,-17,-10,-2,1,-15,0,-10,-10,-7,-3,4,3,-11,-4,1,0,-3,-9,-16,-8,3,6,0,-14,-17,-5,-4,-2,-14,0,-6,-12,-15,-20,-7,3,15,4,0,8,1,-3,-23,7,1,11,12,4,13,11,4,-5,-25,-7,-16,-4,0,-1,12,-3,-6,-16,1,-11,-28,-22,-21,-11,-5,-6,-7,-20,-14,0,-22,-15,-4,-7,-3,0,5,-3,1,1,-4,-20,-27,-33,-25,-32,-52,-11,2 },\n",
      "{-1,0,-10,-17,-25,-49,-35,-16,-7,-1,-7,-14,-5,-1,-2,-2,0,-2,-1,1,-6,-24,-6,-1,0,-2,5,7,11,9,-28,-78,-2,4,5,-5,-9,-3,20,18,-26,-1,2,6,15,-7,-16,-17,-27,15,-8,-3,-10,-2,0,-14,-3,0,-3,-43,-14,2,2,-11,-10,-5,0,0,-1,-21,-13,1,4,7,1,2,5,1,4,-16,1,5,-6,0,5,4,1,3,-5,0,0,-23,-23,-13,0,-2,-10,0,-5,-2 },\n",
      "{-2,6,16,19,11,0,19,21,10,-1,1,-9,-5,-2,-3,-1,7,13,10,2,-3,-24,-5,-9,-10,-10,-9,-8,-10,-4,-13,-33,-10,-8,-3,-13,-20,-12,-14,-31,-11,-23,1,0,0,-11,-8,4,14,-25,-8,-22,0,7,4,1,-3,4,6,-13,-9,-36,-6,9,9,-1,4,4,0,-18,-9,-34,-13,0,21,17,9,0,-8,-4,-1,-37,-78,-15,-10,-9,-8,-10,-37,-19,1,-10,-25,-29,-75,-83,-75,-30,-24,0 },\n",
      "{0,0,-12,-9,-20,-13,-16,-2,-4,0,0,0,-41,-70,-35,-30,-102,-89,-45,-15,-4,8,11,8,4,0,0,-1,-9,-41,21,15,4,5,9,15,12,2,-13,-20,21,10,5,-2,-17,0,11,1,-3,-12,-5,1,2,-10,-31,0,12,7,-2,-40,3,-6,-12,-11,-4,3,-4,-6,-13,1,-6,-31,-18,-13,-2,-7,-18,-23,-37,-18,-2,-10,4,0,-4,-4,-12,-27,-18,-14,0,-7,10,9,7,14,9,2,2,1 },\n",
      "{0,0,-7,-28,-36,-51,-32,-14,-11,0,-4,-13,-15,-3,0,1,-1,-2,-11,2,-9,-9,-4,-2,1,1,1,2,0,1,-21,-13,2,5,0,-8,-1,5,4,3,-29,0,1,-1,4,-1,-1,2,4,0,-7,-23,-12,-9,7,-1,-9,-9,-11,-31,-22,-30,-5,6,3,-5,-3,-4,-3,-22,-12,-7,0,-1,-1,-1,-1,0,0,-23,-1,-15,-6,-2,7,8,4,2,-11,-28,-2,-33,-29,-26,-23,-36,-38,-51,-4,0 },\n",
      "{-1,0,-4,-15,-32,-11,-24,-12,-9,-1,0,-8,-51,-37,-16,-28,-26,-35,-71,-19,-8,-40,-13,-2,5,17,2,-5,-18,-39,-33,-11,1,1,5,0,1,0,-19,-43,-35,6,9,10,-4,3,12,5,-1,-43,-7,1,4,1,-2,0,6,-5,-19,-18,-9,-22,-4,-1,-8,3,-5,-12,-32,-16,-7,-14,-20,-16,-8,-6,-11,-9,-13,-17,0,-30,-4,-3,-9,-10,-5,0,12,-16,1,3,10,6,1,6,3,4,0,0 },\n",
      "};\n"
     ]
    }
   ],
   "source": [
    "\"\"\" For Arduino code \"\"\"\n",
    "\n",
    "print(\"char W[%d][%d]=\"%(L1.shape[1], L1.shape[0]))\n",
    "print(\"{\")\n",
    "for c in range(0,L1.shape[1]):\n",
    "    print(\"{\",end=\"\")\n",
    "    \n",
    "    for r in range(0,L1.shape[0]-1):\n",
    "        print(L1[r,c],end=\",\")\n",
    "    print(L1[r+1,c],\"},\")\n",
    "\n",
    "print(\"};\")"
   ]
  },
  {
   "cell_type": "code",
   "execution_count": null,
   "metadata": {},
   "outputs": [],
   "source": []
  }
 ],
 "metadata": {
  "accelerator": "TPU",
  "colab": {
   "collapsed_sections": [],
   "name": "Neural Networks on Microcontrollers.ipynb",
   "provenance": []
  },
  "kernelspec": {
   "display_name": "Python 3",
   "language": "python",
   "name": "python3"
  },
  "language_info": {
   "codemirror_mode": {
    "name": "ipython",
    "version": 3
   },
   "file_extension": ".py",
   "mimetype": "text/x-python",
   "name": "python",
   "nbconvert_exporter": "python",
   "pygments_lexer": "ipython3",
   "version": "3.8.5"
  }
 },
 "nbformat": 4,
 "nbformat_minor": 1
}
