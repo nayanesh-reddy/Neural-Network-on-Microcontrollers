{
 "cells": [
  {
   "cell_type": "code",
   "execution_count": 1,
   "metadata": {
    "id": "PcyIxv15AzCm"
   },
   "outputs": [],
   "source": [
    "import tensorflow as tf\n",
    "import matplotlib.pyplot as plt\n",
    "import numpy as np\n",
    "import cv2 as cv\n",
    "import seaborn as sns\n",
    "import sklearn.metrics as metrics"
   ]
  },
  {
   "cell_type": "code",
   "execution_count": 2,
   "metadata": {
    "colab": {
     "base_uri": "https://localhost:8080/"
    },
    "id": "QGkzE-giECdo",
    "outputId": "46b5c31e-1929-490f-a411-d60db6072e01"
   },
   "outputs": [],
   "source": [
    "mnist = tf.keras.datasets.mnist\n",
    " \n",
    "(x_train, y_train), (x_test, y_test) = mnist.load_data()"
   ]
  },
  {
   "cell_type": "code",
   "execution_count": 3,
   "metadata": {
    "colab": {
     "base_uri": "https://localhost:8080/"
    },
    "id": "ceyJtOvw01Qh",
    "outputId": "61efc917-ebfd-40ef-d04d-9e6d00e45351"
   },
   "outputs": [
    {
     "name": "stdout",
     "output_type": "stream",
     "text": [
      "(60000, 10, 10, 1) (10000, 10, 10, 1)\n"
     ]
    }
   ],
   "source": [
    "\"\"\" resizing images into r x r \"\"\"\n",
    "\n",
    "r = 10\n",
    "\n",
    "sz = x_train.shape[0]\n",
    "s  = x_test.shape[0]\n",
    "\n",
    "X_train = np.zeros((sz, r, r))\n",
    "X_test  = np.zeros((s , r, r))\n",
    "\n",
    "for i in range(sz):\n",
    "  X_train[i,:,:] = cv.resize(x_train[i,:,:], (r,r))\n",
    " \n",
    "for i in range(s):\n",
    "  X_test[i,:,:] = cv.resize(x_test[i,:,:], (r,r))\n",
    "\n",
    "X_train = np.reshape(X_train, (60000, r, r, 1))\n",
    "X_test  = np.reshape(X_test,  (10000, r, r, 1))\n",
    "\n",
    "print(X_train.shape, X_test.shape)"
   ]
  },
  {
   "cell_type": "code",
   "execution_count": 4,
   "metadata": {
    "id": "S9xmQi75EDuq"
   },
   "outputs": [],
   "source": [
    "\"\"\" Creating the layers in model \"\"\"\n",
    "\n",
    "model = tf.keras.models.Sequential([\n",
    "    \n",
    "  tf.keras.layers.Flatten(input_shape=(10, 10)),\n",
    "  tf.keras.layers.Dense(40, activation='relu',use_bias=False),\n",
    "  tf.keras.layers.Dense(20, activation='relu',use_bias=False),\n",
    "  tf.keras.layers.Dense(10, use_bias=False),\n",
    "    \n",
    "])"
   ]
  },
  {
   "cell_type": "code",
   "execution_count": 5,
   "metadata": {
    "id": "orRCXTmcRhK8"
   },
   "outputs": [],
   "source": [
    "\"\"\" Specifying the Loss function \"\"\"\n",
    "\n",
    "loss_fn = tf.keras.losses.SparseCategoricalCrossentropy(from_logits=True)"
   ]
  },
  {
   "cell_type": "code",
   "execution_count": 6,
   "metadata": {
    "id": "6DGDNEr0TZOV"
   },
   "outputs": [],
   "source": [
    "\"\"\" Specifying the Optimization Algorithm and \n",
    "     metrics to use for evaluation while training \"\"\"\n",
    "\n",
    "model.compile(optimizer='adam',\n",
    "              loss=loss_fn,\n",
    "              metrics=['accuracy'])"
   ]
  },
  {
   "cell_type": "code",
   "execution_count": 7,
   "metadata": {
    "colab": {
     "base_uri": "https://localhost:8080/"
    },
    "id": "mItqxFxmikoh",
    "outputId": "2b7e6595-fa57-4d10-8a7c-e6a84495ad3c"
   },
   "outputs": [
    {
     "name": "stdout",
     "output_type": "stream",
     "text": [
      "Epoch 1/20\n",
      "7500/7500 [==============================] - 7s 878us/step - loss: 5.2238 - accuracy: 0.3702\n",
      "Epoch 2/20\n",
      "7500/7500 [==============================] - 8s 1ms/step - loss: 0.5330 - accuracy: 0.8359\n",
      "Epoch 3/20\n",
      "7500/7500 [==============================] - 7s 876us/step - loss: 0.3021 - accuracy: 0.9133\n",
      "Epoch 4/20\n",
      "7500/7500 [==============================] - 6s 836us/step - loss: 0.2372 - accuracy: 0.9313\n",
      "Epoch 5/20\n",
      "7500/7500 [==============================] - 6s 861us/step - loss: 0.2188 - accuracy: 0.9358\n",
      "Epoch 6/20\n",
      "7500/7500 [==============================] - 7s 872us/step - loss: 0.1894 - accuracy: 0.9438\n",
      "Epoch 7/20\n",
      "7500/7500 [==============================] - 6s 861us/step - loss: 0.1803 - accuracy: 0.9459\n",
      "Epoch 8/20\n",
      "7500/7500 [==============================] - 7s 872us/step - loss: 0.1681 - accuracy: 0.9509\n",
      "Epoch 9/20\n",
      "7500/7500 [==============================] - 7s 877us/step - loss: 0.1690 - accuracy: 0.9516\n",
      "Epoch 10/20\n",
      "7500/7500 [==============================] - 7s 884us/step - loss: 0.1634 - accuracy: 0.9531\n",
      "Epoch 11/20\n",
      "7500/7500 [==============================] - 7s 871us/step - loss: 0.1546 - accuracy: 0.9565\n",
      "Epoch 12/20\n",
      "7500/7500 [==============================] - 7s 889us/step - loss: 0.1609 - accuracy: 0.9537\n",
      "Epoch 13/20\n",
      "7500/7500 [==============================] - 7s 896us/step - loss: 0.1582 - accuracy: 0.9557\n",
      "Epoch 14/20\n",
      "7500/7500 [==============================] - 7s 880us/step - loss: 0.1564 - accuracy: 0.9558\n",
      "Epoch 15/20\n",
      "7500/7500 [==============================] - 7s 887us/step - loss: 0.1480 - accuracy: 0.9585\n",
      "Epoch 16/20\n",
      "7500/7500 [==============================] - 7s 899us/step - loss: 0.1473 - accuracy: 0.9585\n",
      "Epoch 17/20\n",
      "7500/7500 [==============================] - 7s 895us/step - loss: 0.1529 - accuracy: 0.95690s - loss: 0.1529 - accuracy: 0.95\n",
      "Epoch 18/20\n",
      "7500/7500 [==============================] - 7s 903us/step - loss: 0.1478 - accuracy: 0.9592\n",
      "Epoch 19/20\n",
      "7500/7500 [==============================] - 7s 904us/step - loss: 0.1510 - accuracy: 0.9586\n",
      "Epoch 20/20\n",
      "7500/7500 [==============================] - 7s 910us/step - loss: 0.1429 - accuracy: 0.9606\n"
     ]
    },
    {
     "data": {
      "text/plain": [
       "<tensorflow.python.keras.callbacks.History at 0x2071678b340>"
      ]
     },
     "execution_count": 7,
     "metadata": {},
     "output_type": "execute_result"
    }
   ],
   "source": [
    "\"\"\" Traning the model \"\"\"\n",
    "\n",
    "model.fit(X_train, y_train, epochs=20, batch_size=8, use_multiprocessing=True)"
   ]
  },
  {
   "cell_type": "code",
   "execution_count": 8,
   "metadata": {
    "colab": {
     "base_uri": "https://localhost:8080/"
    },
    "id": "wyMKqKvuTxlq",
    "outputId": "63e6fa1c-b9a9-454d-f49b-45449edcf4e6"
   },
   "outputs": [
    {
     "name": "stdout",
     "output_type": "stream",
     "text": [
      "313/313 [==============================] - 0s 770us/step - loss: 0.1963 - accuracy: 0.9505\n"
     ]
    },
    {
     "data": {
      "text/plain": [
       "[0.19627194106578827, 0.9505000114440918]"
      ]
     },
     "execution_count": 8,
     "metadata": {},
     "output_type": "execute_result"
    }
   ],
   "source": [
    "\"\"\" Evaluating the model \"\"\"\n",
    "\n",
    "model.evaluate(X_test, y_test, verbose=1)"
   ]
  },
  {
   "cell_type": "code",
   "execution_count": 9,
   "metadata": {
    "id": "K2G5-qcVUrj4"
   },
   "outputs": [],
   "source": [
    "\"\"\" Adding the Softmax layer at the end of model \"\"\"\n",
    "\n",
    "probability_model = tf.keras.Sequential([\n",
    "  model,\n",
    "  tf.keras.layers.Softmax()\n",
    "])"
   ]
  },
  {
   "cell_type": "code",
   "execution_count": 10,
   "metadata": {
    "colab": {
     "base_uri": "https://localhost:8080/"
    },
    "id": "cEUaUXUEUzT6",
    "outputId": "bb9d154a-8521-4c2d-a204-f3a695d01df5"
   },
   "outputs": [
    {
     "name": "stdout",
     "output_type": "stream",
     "text": [
      "              precision    recall  f1-score   support\n",
      "\n",
      "           0       0.96      0.98      0.97       980\n",
      "           1       0.98      0.97      0.97      1135\n",
      "           2       0.98      0.92      0.95      1032\n",
      "           3       0.89      0.97      0.93      1010\n",
      "           4       0.97      0.92      0.94       982\n",
      "           5       0.96      0.92      0.94       892\n",
      "           6       0.97      0.96      0.96       958\n",
      "           7       0.95      0.97      0.96      1028\n",
      "           8       0.95      0.94      0.94       974\n",
      "           9       0.90      0.96      0.93      1009\n",
      "\n",
      "    accuracy                           0.95     10000\n",
      "   macro avg       0.95      0.95      0.95     10000\n",
      "weighted avg       0.95      0.95      0.95     10000\n",
      "\n"
     ]
    }
   ],
   "source": [
    "y_prob = probability_model(X_test)\n",
    "\n",
    "y_pred = np.argmax( y_prob, axis=1)\n",
    "\n",
    "print(metrics.classification_report(y_test, y_pred))"
   ]
  },
  {
   "cell_type": "code",
   "execution_count": 11,
   "metadata": {},
   "outputs": [
    {
     "name": "stdout",
     "output_type": "stream",
     "text": [
      "Comfusion Matrix\n",
      " [[ 961    1    0    1    3    1    5    1    4    3]\n",
      " [   0 1098    1    4    1    1    5    8   15    2]\n",
      " [   5    3  946   51    6    0    2    6   12    1]\n",
      " [   3    1    3  977    0    9    0    8    1    8]\n",
      " [   0    2    1    0  905    0    6    5    5   58]\n",
      " [   7    3    0   27    0  825    6    5    7   12]\n",
      " [   9    4    2    1    8   14  916    0    4    0]\n",
      " [   0    3    6    3    4    0    0  993    1   18]\n",
      " [   8    0    7   19    2    5    2    7  915    9]\n",
      " [   3    3    0   11    5    1    0   13    4  969]]\n"
     ]
    },
    {
     "data": {
      "text/plain": [
       "<AxesSubplot:>"
      ]
     },
     "execution_count": 11,
     "metadata": {},
     "output_type": "execute_result"
    },
    {
     "data": {
      "image/png": "[encoded data removed]",
      "text/plain": [
       "<Figure size 432x288 with 2 Axes>"
      ]
     },
     "metadata": {
      "needs_background": "light"
     },
     "output_type": "display_data"
    }
   ],
   "source": [
    "labels = [0,1,2,3,4,5,6,7,8,9]\n",
    "\n",
    "cf_matrix = metrics.confusion_matrix( y_test, y_pred)\n",
    "\n",
    "print(\"Comfusion Matrix\\n\", cf_matrix)\n",
    "\n",
    "sns.heatmap(cf_matrix/np.sum(cf_matrix), annot=False, cmap='Blues', \n",
    "            xticklabels = labels , yticklabels = labels)"
   ]
  },
  {
   "cell_type": "code",
   "execution_count": 12,
   "metadata": {
    "id": "D_ARFX97ZSio"
   },
   "outputs": [],
   "source": [
    "\"\"\" saving the model \"\"\"\n",
    "\n",
    "model.save('mnist_ESP32.h5')"
   ]
  },
  {
   "cell_type": "code",
   "execution_count": null,
   "metadata": {},
   "outputs": [],
   "source": [
    "\n"
   ]
  },
  {
   "cell_type": "code",
   "execution_count": 13,
   "metadata": {
    "colab": {
     "base_uri": "https://localhost:8080/",
     "height": 298
    },
    "id": "EDtQb44_Vboo",
    "outputId": "23cb89cb-dfe2-47d9-c9b5-0872f1f14885"
   },
   "outputs": [
    {
     "data": {
      "text/plain": [
       "<matplotlib.image.AxesImage at 0x2071ab757f0>"
      ]
     },
     "execution_count": 13,
     "metadata": {},
     "output_type": "execute_result"
    },
    {
     "data": {
      "image/png": "[encoded data removed]",
      "text/plain": [
       "<Figure size 432x288 with 1 Axes>"
      ]
     },
     "metadata": {
      "needs_background": "light"
     },
     "output_type": "display_data"
    }
   ],
   "source": [
    "idx = 253\n",
    "\n",
    "img = X_test[idx:idx+1,:]\n",
    "im = np.reshape(img, (r,r))\n",
    "\n",
    "plt.imshow(im, cmap='gray')"
   ]
  },
  {
   "cell_type": "code",
   "execution_count": 14,
   "metadata": {
    "colab": {
     "base_uri": "https://localhost:8080/"
    },
    "id": "CUIhADDzCGbm",
    "outputId": "ecc1ffdd-0fed-4202-8eb1-8d50790b2158"
   },
   "outputs": [
    {
     "data": {
      "text/plain": [
       "array([[  0,   0,   0,   0,   0,   0,   0,   0,   0,   0],\n",
       "       [  0,   0,   0,   0,   0,   0,   0,   0,   0,   0],\n",
       "       [  0,   0,   0,   0, 232, 185,  76,  64,   0,   0],\n",
       "       [  0,   0,   0,   0, 226,   0,   0,   0,   0,   0],\n",
       "       [  0,   0,   0,  70, 214, 130,   4,   0,   0,   0],\n",
       "       [  0,   0,   0,   4,   0,   5, 222,   0,   0,   0],\n",
       "       [  0,   0,   0,   0,   0,   0, 209,   0,   0,   0],\n",
       "       [  0,   0,  73,   7,   0,  59,  59,   0,   0,   0],\n",
       "       [  0,   0,   0, 215, 179, 140,   0,   0,   0,   0],\n",
       "       [  0,   0,   0,   0,   0,   0,   0,   0,   0,   0]])"
      ]
     },
     "execution_count": 14,
     "metadata": {},
     "output_type": "execute_result"
    }
   ],
   "source": [
    "np.int32(im)"
   ]
  },
  {
   "cell_type": "code",
   "execution_count": 15,
   "metadata": {
    "scrolled": false
   },
   "outputs": [
    {
     "name": "stdout",
     "output_type": "stream",
     "text": [
      "Predicted by model : 5\n"
     ]
    }
   ],
   "source": [
    "print(\"Predicted by model :\", np.argmax( probability_model(img).numpy(), axis=1)[0] )"
   ]
  },
  {
   "cell_type": "code",
   "execution_count": null,
   "metadata": {},
   "outputs": [],
   "source": []
  },
  {
   "cell_type": "code",
   "execution_count": 16,
   "metadata": {
    "scrolled": false
   },
   "outputs": [],
   "source": [
    "L1 = model.weights[0].numpy()"
   ]
  },
  {
   "cell_type": "code",
   "execution_count": 17,
   "metadata": {
    "scrolled": true
   },
   "outputs": [],
   "source": [
    "L2 = model.weights[1].numpy()"
   ]
  },
  {
   "cell_type": "code",
   "execution_count": 18,
   "metadata": {},
   "outputs": [],
   "source": [
    "L3 = model.weights[2].numpy()"
   ]
  },
  {
   "cell_type": "code",
   "execution_count": 19,
   "metadata": {},
   "outputs": [
    {
     "name": "stdout",
     "output_type": "stream",
     "text": [
      "char W[40][100]=\n",
      "{\n",
      "{0.13862501,-0.0035517458,-0.22371408,-0.44188842,-0.37922707,-0.8288191,-0.60441875,-0.45089486,0.10916839,0.0015382767,-0.05846224,-0.44635552,0.1028518,0.29369873,0.032109674,-0.009051031,-0.08327531,0.0227492,-0.21797828,-0.9524195,-0.8426721,0.33394498,-0.32769862,-0.47166774,-0.29545203,-0.30994445,-0.43079543,-0.036498804,0.2870721,0.16258208,-0.9590474,-0.5150557,-0.4460091,-0.33281878,0.02547629,-0.4723707,-0.3714991,-0.15676022,-0.34584433,-0.69655377,-0.78303754,0.0977538,0.0994163,0.43494406,0.3139542,0.021249587,0.10331176,0.06616663,0.527013,-0.4210689,-0.17566466,0.57215524,0.6815849,0.52848405,0.35252115,0.29398546,0.11997143,0.26019904,0.560405,0.40580076,-0.9761954,0.08709669,0.2229915,0.26605493,0.2686998,0.2937593,0.28392062,0.110032775,0.06558057,0.30559224,-0.38160214,-0.09876016,-0.34363434,-0.13001072,0.061232895,-0.03628518,-0.0044010924,-0.25741103,0.25061426,0.42688197,0.19913791,0.37582597,-0.3581963,-0.13961102,-0.35934526,-0.28331384,-0.033771746,0.43487144,-0.034197103,0.23803242,-0.08146694,-0.07119836,-1.0046349,-0.5190307,-0.56664157,0.085329875,-1.2153037,-0.83207166,-0.1540519,0.038435936 },\n",
      "{0.050196156,-0.0788787,0.22588852,-0.0060333186,-0.26568237,-0.33237883,0.116300926,0.097132504,0.14924495,-0.10648485,0.2793257,0.5666765,0.32558757,-0.03143947,0.22476014,0.054562125,-0.14287442,0.16299297,0.9988467,0.79551667,1.2083179,-0.40729323,0.061940413,0.25249225,0.06259188,0.23627311,0.4021514,0.1142752,0.2526304,0.4155423,0.8131685,-0.23776838,-0.05165015,-0.0153025435,0.02780666,0.13956225,-0.1622402,-0.20455313,-0.2228491,0.42848384,0.21056156,-0.026895238,-0.0714224,-0.0070237913,-0.020525767,-0.08131072,-0.027239641,-0.45046622,0.1605601,0.6050964,0.53436303,0.28520027,0.20791826,0.10259641,-0.10261214,-0.033509955,-0.21157508,-0.90907985,-0.43243828,0.9763003,1.027166,0.15308757,-0.97922724,-0.81573874,-0.3650563,0.10999905,0.43263865,-1.3240415,-0.52226555,-0.21582747,0.565527,0.27528328,0.029961133,-0.36966774,-0.071881995,-0.02383202,-0.07282941,-0.8605516,-0.23830277,0.007924569,-0.14246866,0.3620676,0.23476766,0.38762522,0.067752026,-0.24745107,-0.8081673,-0.27790272,0.08396672,0.2571063,0.063556746,0.7364229,0.80842733,0.5906843,0.3065306,0.101145245,0.90814954,1.073976,0.66091996,-0.021116942 },\n",
      "{-0.01241672,0.1490612,0.16209061,0.96947974,0.13669825,0.1465078,0.15942904,0.114666454,0.13095227,-0.17512314,-0.076671384,0.5111358,0.43226805,-0.23009141,0.2561719,-0.021572597,-0.2133652,-0.59575796,-0.2602777,-0.18892854,0.37320793,-0.4265758,0.13912895,0.0010490585,-0.043937903,0.20676374,0.048210256,-0.73243415,-1.578539,-0.52930695,0.7240091,-0.31401363,0.10864156,-0.061952613,-0.07692452,0.66249096,-0.24510686,-1.401693,-0.7184475,-0.16393922,0.104006946,-0.81644595,-0.25089145,-0.2561182,0.1162433,0.303062,-0.32747343,-0.27194163,0.45166585,0.46034318,-0.0004946894,-0.024078287,-0.35112953,-0.10722545,0.14406645,0.014227109,-0.12094146,0.26664463,-0.015125438,0.50992197,0.30845916,-0.2935758,0.26035857,-0.009370572,0.10809775,-0.22775932,-0.08726004,0.114047065,0.43977103,0.5353208,-0.30447853,0.23000692,0.16525795,0.0018797446,-0.0031257265,-0.08707654,-0.058998346,-0.34579784,-0.22233763,0.3051536,0.10793103,-0.086479545,0.08571551,0.13151665,0.020763624,0.0022471633,0.09946607,0.01063787,-0.21278697,0.6674519,0.02902779,0.14626437,0.27969342,-0.6340967,-0.32411283,-0.40423083,-0.36565068,0.10683084,-0.0924051,0.056107745 },\n",
      "{0.043927297,-0.15020084,-0.18824586,-0.7486009,-0.68605286,-0.71903694,-0.7430286,0.19242552,-0.109144464,0.10261114,-0.008816622,-0.2892479,0.05115093,-0.95767665,-0.8254355,-1.1175753,-0.34343356,-0.025413778,0.00883139,-0.3216058,-0.23003906,0.6647328,0.23569179,0.039345432,-0.061639585,-0.024868535,0.33125487,0.011795297,-0.17743248,0.43010753,0.7639464,0.16184352,0.22850433,0.19331485,0.0074992976,-0.043009922,0.13346942,0.012652924,-0.05200796,0.34506664,0.18468969,0.3384319,0.2091764,0.18139486,-0.06680389,0.055860765,0.26905942,0.388002,0.25856146,-0.5447036,-0.2510473,0.31103215,0.08019331,0.15756722,-0.11208132,0.30003384,0.4511557,0.3298691,0.14403076,0.20912549,0.061834447,-0.35227564,-0.19873552,-0.31739265,-0.3253791,0.20982756,0.016197663,0.08436572,-0.67889416,-0.34655353,-0.5111918,-0.9581712,-0.7752459,-0.35585967,-0.070310414,0.05831339,-0.696568,-1.0319388,-0.7693908,-0.6179891,0.17720069,-0.27349737,-0.35803908,-0.22408304,-0.18292928,-0.027111398,-0.24614806,-0.6928877,-0.73892576,-0.2113078,0.20470192,0.49852702,-0.2932994,0.4851331,0.164626,0.3544734,0.25393248,0.18953362,0.7851673,0.15443827 },\n",
      "{0.10221459,-0.20288406,-0.14186735,0.12952486,-0.27763337,-0.48437437,-0.41861248,0.9324674,-0.1342478,-0.17729308,0.09367443,0.17014687,0.06723502,-0.10982413,-2.3434699,-0.3782454,0.11089486,-0.014608304,0.28814933,0.040798787,-0.16673669,0.417751,0.22571713,-0.32241383,-1.4250331,0.12209223,-0.0456918,-0.21020876,0.12767284,-0.0030049433,-0.25050893,0.18572773,-0.4614292,-0.48615247,-0.22235712,0.31383523,-0.20474876,-0.21661755,0.43707624,0.336946,0.4304813,-1.0662149,0.0072922288,-0.18556148,0.27148598,-0.12228587,-0.3259074,-0.60311514,-0.79098547,-1.1240219,0.16497487,-0.0863648,-0.22104153,0.03026605,0.131938,-0.04464244,0.122821026,0.008924917,-0.28694078,-0.91068065,-0.11148783,0.4150356,0.036871392,0.05672327,0.0494916,0.028507927,0.113635615,-0.10018432,-0.6985402,0.17664093,-0.6338917,-0.14513308,0.024446696,0.0761328,0.14723474,0.02107309,-0.06220813,-0.33580807,-0.14000611,0.2778472,0.16581537,-0.15082264,0.31597987,0.007750376,0.023677735,-0.19423735,0.20249315,-0.26587996,0.6995304,0.35879403,0.018627554,0.31075257,-0.11922078,-0.11107336,0.11359458,-0.16614784,-0.073393,0.19821693,-0.043609593,0.016313538 },\n",
      "{0.067381844,0.1005014,0.0489429,0.020377308,-0.20199087,0.022632852,-0.04648698,-0.03402798,0.14102219,0.051649258,0.03658539,0.18106265,0.5971401,-1.2322704,0.07591654,0.1685023,0.112558626,-0.018471107,-0.060126778,-0.14144075,0.07534431,0.6532954,-0.08343576,-3.0906856,-0.11585455,-0.043291613,-0.13887614,-0.043252606,-0.39764878,-0.022156687,-0.07628463,0.2516153,0.18508808,-1.3099006,-0.23286195,0.22682169,-0.01802603,-0.10075381,-0.005480471,0.26576415,-0.147389,0.4739694,-0.06401326,-1.0386015,-0.043866638,0.175653,-0.027914127,0.009295354,-0.06309116,0.4324136,0.02623786,0.5257274,0.3502807,-0.020727294,0.016982172,-0.10277975,-0.6193816,-0.39209527,-0.37977135,0.15333953,0.6572852,-0.36431345,0.0029914868,0.0749043,0.26831385,-0.0011778763,-0.8669184,0.0004058003,0.13072518,0.53988624,0.41238952,0.49339995,-0.49644604,-0.0707225,0.06959836,-0.08032449,-0.8441919,-0.8468413,0.2967402,0.6773671,0.016265467,0.0077864034,0.2162348,0.202014,0.15322532,0.20940238,0.15139696,-0.14312018,0.49090743,0.9782449,0.11723758,0.07496087,-0.2122609,-0.67752814,-0.6551887,-0.6380321,-0.25539717,0.12821715,0.0760148,-0.16857924 },\n",
      "{0.15501164,-0.03584221,0.076541305,-0.18012518,4.0759034e-05,-0.25540188,-0.6668273,-0.31522274,-0.32600567,0.029355377,-0.16564396,-0.08370771,0.545582,0.059228186,-0.47499478,-0.4625075,-0.10785596,0.2730991,-0.25595698,-0.4108394,0.25135267,0.23220493,-0.21735376,0.17034602,0.27404663,-0.10957746,0.00031893636,0.118291184,0.29283494,0.23596677,0.40785,-0.6710702,0.12894116,0.10786836,0.0049831737,0.023659399,0.2820618,0.21326777,-0.075355515,-0.66713655,0.080340356,-0.44458854,-0.06929588,0.043296304,-0.0130808605,0.23954369,0.10562937,0.13041832,0.018594481,-0.34028417,-0.04817933,-0.18416227,0.028674977,-0.044502534,0.04915335,0.2724815,-0.073469795,-0.008339921,-0.2575205,-1.4132082,0.550955,-0.3892468,-0.44377708,-0.18653144,0.16811809,-0.30089182,-0.22435202,-0.18378627,-0.21100228,0.4779621,-0.05492787,-0.38569853,-0.31910858,-0.010804994,0.04630589,-1.1279697,-1.3106862,0.13858974,-0.79317534,-0.068216704,0.18117566,0.108459905,0.3207067,-0.026596589,0.117986985,-0.43799695,-2.938584,-0.33013508,0.23812823,0.20439455,0.016707897,0.13484026,0.21993951,-0.096745014,0.23390143,0.27092344,-0.14893046,0.008981394,0.14397162,-0.14594875 },\n",
      "{0.13600473,-0.16471787,-0.065536864,-0.46431968,-0.09270493,0.12320987,0.19111653,-0.029126853,0.06386019,-0.061195254,-0.15471299,-0.004289002,0.22716875,0.25216937,-0.985407,-0.0020704705,-0.08449542,-0.06181907,0.08933077,-0.008639074,0.014559446,0.20218328,0.16975503,0.046779998,-0.9775767,-0.016171494,0.08665752,0.2154263,-0.1702551,-0.2777842,-0.31577775,-0.31484193,0.20283227,0.5448068,-1.5424596,0.2972641,-0.07584523,-0.047919016,-0.112161525,-0.044931013,-0.38983977,-0.8332228,0.15354148,0.26550642,-0.38060617,0.030956555,0.13266972,0.24464285,0.02065293,0.14642881,0.023081394,-0.185626,0.11235902,0.014400074,0.07453213,0.059294827,0.1012501,-0.025832057,-0.3487666,0.13064283,0.01357236,0.23397665,-0.0005779742,-0.23643316,-0.337203,-0.21790473,-0.13211629,-0.24912888,-0.5328978,0.2664404,0.04611695,0.13244388,0.4572003,-0.42531273,-0.4439734,0.10822854,-0.00052738696,-0.17396572,0.11590026,-0.09416165,0.056775495,-0.7482039,-0.06515836,0.017993804,0.087722585,0.0342263,0.019995091,0.054575767,0.5656727,0.4817923,0.1261348,0.036447026,0.3950961,-0.014116503,0.31329507,0.14327587,0.46987355,-0.56850046,-0.059000924,0.08790679 },\n",
      "{0.06446339,-0.061851546,0.100836,0.00051033235,0.1819381,0.0026823967,0.22606836,-0.3644488,-0.47871366,-0.19108471,0.20505817,-0.19728242,-0.8187091,-1.044237,-0.84415364,-0.4652398,-0.47234803,-0.89779615,-0.71094704,0.10783958,0.047825143,0.013765883,-0.5387858,-1.1692617,-1.6032755,-1.4263747,-1.1502103,-1.2610191,-0.30073294,0.29292303,0.49411878,-0.23751056,0.014363819,-0.31104594,-0.36788198,-0.4291031,0.040053837,0.03672062,0.09379076,-0.007215534,0.65317696,0.43629667,0.20490119,0.22694993,0.3531337,0.51613283,0.05059961,0.04478641,0.27475208,0.25435823,-0.07503694,-0.077386655,0.077026725,-0.039323404,-0.20269935,-0.1478496,-0.02169528,0.054662786,0.3362461,0.28790897,0.22620782,0.5472177,0.045769412,0.04152413,0.113610536,0.051178064,0.18381463,0.06991302,-0.4937781,0.25098416,0.05159442,0.06980986,0.020098394,0.07767703,0.12923771,-0.1916427,0.08497491,-0.4940503,-0.40407902,-0.2217365,0.161781,0.6773377,-0.12803556,-0.16276944,-0.2795561,0.026066907,-0.10620532,-0.5812375,-0.73801947,-0.021397144,-0.15063222,0.18263814,0.75753176,-0.2998674,0.23160873,0.024727263,-0.029977314,-0.22456199,-0.17136443,-0.062462553 },\n"
     ]
    },
    {
     "name": "stdout",
     "output_type": "stream",
     "text": [
      "{0.11718358,-0.12182442,-0.10500129,0.12784371,-0.0856793,0.03862942,0.18416016,0.20344572,0.11466898,-0.16255675,-0.14449558,-0.01685977,-0.05863072,0.0631118,-0.46426272,-0.21007058,0.19577192,0.19945948,0.11156207,-0.2040145,0.08366628,-0.18885699,0.24476711,0.039832897,-0.03376345,0.04648757,-0.1396081,0.049613602,0.29719323,0.10993452,0.47526813,0.27482945,0.12023982,0.44641924,-0.18245503,-0.40610847,-0.28231928,-0.16845159,0.16815792,-0.057551403,0.27288154,0.47795373,0.32326385,-0.15282372,-0.2472064,-0.020679468,-0.09678065,-0.008902526,0.1057157,-0.18616791,0.25428247,0.12236048,0.011549842,-0.42133296,-1.1992778,-0.70342183,-0.5665673,-0.24470897,0.24365538,-0.17288695,0.13165815,0.14426458,-0.19779254,-0.14284705,-0.704393,-0.86213475,-0.268137,0.20806694,0.319541,0.107944846,0.16075046,0.28335005,0.006585068,0.07343638,-0.2523248,-0.018090066,0.17436054,0.42905512,0.102460995,0.1546016,0.0968229,0.2037211,-0.21228354,0.15246333,0.0589584,-0.27219546,0.25947276,0.34398758,-0.071473144,0.10290821,-0.17649774,0.05363895,0.07184746,0.052709457,0.73313975,0.71872693,0.9666175,0.6895308,0.5817004,0.04142867 },\n",
      "{0.13338317,-0.13086101,-0.3263468,-1.0282086,0.006899667,0.38884938,0.11454274,-0.23470156,0.05430779,0.09114705,-0.17082505,0.3527285,-0.25357506,-0.021500597,-0.073281795,-0.07187673,-0.10354691,0.18085831,0.05308065,-0.17437953,0.4170937,0.14520024,0.0606799,-0.24903852,-0.14441492,0.07014902,-0.12371762,-0.2679763,-0.08653457,-0.23816772,1.6313574,0.053935386,0.07487073,0.06783452,-0.18527298,-0.111835405,-0.06316664,-0.073693074,-0.31682318,-0.29122922,0.8397207,-0.053005252,0.31388435,0.37938252,-0.48609102,-0.057286594,0.11242044,0.17156585,-0.06853869,0.27862045,0.34892508,0.23274224,0.14571056,0.090309784,-0.5215744,-0.5820717,0.006906615,0.3217946,-0.23729745,0.62889075,-0.041996036,-0.025182579,0.34124416,0.16056733,-0.44507042,-0.13182129,0.5827028,0.1398483,-0.11121125,0.062135417,0.11314838,-0.33828267,0.17716043,-0.20335875,-0.9169808,-0.23232913,0.52395105,-0.31250423,0.099498056,0.00024187054,0.14676033,-0.26919395,-1.0807159,-1.4619548,-1.7413098,-0.18085447,0.4040098,0.40625525,-0.12363692,0.1587056,-0.18517748,0.09735761,0.29851672,0.5204803,-0.01762708,-0.4954634,0.2079407,0.14116846,-0.21279451,0.044249997 },\n",
      "{-0.16430227,-0.010264099,0.14499043,0.002011608,-0.28844565,-0.054407693,-0.076116815,0.06068492,0.09814133,-0.026382625,-0.07538484,0.14196561,0.31657568,-0.14098679,0.1160553,-0.10889441,-0.173226,-0.17289044,-0.28283408,-0.08642387,0.4711379,0.15320161,0.12061075,0.31211525,0.10906919,0.12363837,-0.022615273,-0.0034494542,-0.49224827,-0.67962176,0.84644145,0.26114848,-0.04986006,-0.04227311,0.03725836,0.07151194,0.041368444,0.037958536,0.103145294,-0.9866807,0.6875804,0.13845445,0.33441782,0.2979895,-0.72128636,-0.40973154,-0.12356814,-0.2237752,-0.5574903,-0.09545437,0.18081798,0.31599098,0.15824762,-0.6410284,-3.5178323,-0.03027513,-0.2761401,-0.31535393,-0.50305986,-0.27018586,0.2053017,-0.2790015,-1.4469382,-1.039461,-0.12440561,0.11916557,0.05580658,-0.034584027,0.093512066,1.0179614,0.54061246,-0.7902445,-0.04702618,0.35477862,0.40944666,0.30970207,0.10973759,0.0557076,-0.009463346,0.7411558,0.14303662,-0.013119924,0.18683207,0.3223528,0.046378423,-0.0636257,-0.013234813,0.099028334,0.28577152,0.13208649,-0.0851229,-0.60166144,0.43539983,0.20474409,0.2293782,0.042883754,0.46509603,0.77587247,0.2622789,-0.20165285 },\n",
      "{0.00041525066,0.03973315,0.62175304,1.2966475,0.5152522,0.38880646,1.2844582,1.2973523,0.437293,-0.09517639,0.0210094,0.48630106,0.40140027,0.018476132,-0.16859494,-0.0926064,0.10799119,0.12523717,-0.30571103,0.03920214,0.070030704,0.5315066,-0.10006323,-0.07807294,0.041544177,-0.17411092,-0.59646785,-1.185263,-1.7462924,-0.46495798,0.13291301,-0.05473686,-0.2045222,0.0015501732,-0.073366806,-0.17569616,-0.36331764,0.053994533,-0.5008652,-0.63428104,0.34975865,-0.2898232,0.025633452,-0.10700533,-0.062041935,0.0069715795,-0.017162047,0.19595124,0.24107446,-0.18612325,0.15363073,-0.017345931,0.16570592,0.1133635,0.03576132,0.13835207,-0.010760467,0.45378867,0.32949603,0.26031736,-0.19481237,-0.2163567,0.18059467,0.17919898,0.1823494,0.09752757,0.26173395,0.06663683,-0.0135000525,0.5360132,0.054160364,-0.33147228,-0.25072232,0.062312827,0.27090842,0.14517084,-0.038570445,-0.43951866,-0.54525787,0.50664145,-0.0830679,-0.44150248,-0.5316071,-0.7948262,-1.4106475,-1.2767398,-2.569197,-0.86295706,-1.3857185,-0.03663513,-0.062305048,-0.32544425,-0.20899121,-0.3898602,-0.9962495,-0.7735295,0.111804,-0.48529652,-0.15107934,0.1805699 },\n",
      "{-0.055191517,-0.13776818,0.21404469,1.0119488,1.1798257,-0.6482474,-0.7768252,-0.17419899,0.109623626,-0.17525837,0.17068847,0.27631253,0.8978511,0.11394611,-0.08692611,-1.3494928,-0.4266823,0.18576714,0.321576,0.35532197,0.12066686,0.25643423,0.0130418455,0.22160041,-0.9490973,-1.4610823,-0.009024375,-0.13908145,-0.027109751,-0.0007772231,0.14674409,0.41571754,0.112315945,0.06946464,-2.138435,0.0016615356,0.180564,0.07259835,-0.06437937,0.44641832,0.22746909,0.39788547,0.019028312,-0.17968036,-0.19621637,0.33313137,0.18936217,0.017652148,0.41867217,-0.13866884,0.28015527,0.36124295,0.033342734,-0.14140801,0.013865441,0.05498223,-0.19988976,-0.041665558,0.4736533,0.272131,0.28961545,-0.92240965,-0.08563632,0.13558891,0.07729877,-0.16741586,0.12236917,-0.06461035,-0.021157386,-0.30645797,-0.07092173,-0.07775129,0.06672243,0.13347268,-0.08012978,0.0578074,0.013602094,-0.029652718,-0.068103634,-0.11064205,-0.02690424,-0.005807814,0.12507665,0.13676913,0.02179407,-0.02068474,-0.14029108,-0.11182405,0.15035559,0.123252735,0.04647921,0.13596202,-0.09986961,-0.10619215,0.076945975,-0.35301596,-0.59073544,-0.8028262,-0.09920851,-0.12541151 },\n",
      "{-0.1689935,-0.11075076,0.12172483,0.14949475,-0.058404814,-0.06906163,-0.08736624,0.10749461,-0.09633377,0.108248696,-0.055315956,0.02248429,-0.36289087,0.068658166,0.107332885,0.25628656,0.41834417,-0.4395017,0.19319434,-0.17478706,0.17691292,0.30217895,-0.6235286,0.11610613,0.25275674,-0.03196019,-0.28237158,-0.5047793,-0.30725747,-0.02884933,0.12728928,-0.1772174,0.15037079,0.20674677,0.06894786,-0.30259925,-0.5760855,-0.7176317,-0.5147524,0.26579967,0.11256847,0.009568126,-0.21228851,-0.96216446,0.097125605,-0.15720001,-1.6352243,-0.51760304,0.1465639,0.5126227,-0.045175195,-0.014218431,-0.07628945,-0.8826527,0.041497968,-0.06294353,-0.9695943,-0.47813293,-0.5831236,0.012169261,0.49756223,-0.4405854,-0.42568177,-1.7429639,-0.34924054,0.12087304,-0.42053422,0.29296324,-0.08141627,-0.096739635,0.0826994,-0.42701316,0.7196705,0.46419683,-0.117475994,0.28034508,0.25019917,-0.007858613,-0.37309566,0.0475377,-0.16475874,-0.17742562,-0.03951224,-0.23457211,-0.15929627,0.04569848,0.037314497,0.26578715,-0.118919745,0.70912933,-0.10714278,-0.1678993,-0.16572279,-0.19465393,-0.30618948,-0.47764793,-0.2382723,-0.21860275,-0.09940296,0.06702967 },\n",
      "{0.018783778,-0.1221863,-0.17831853,0.043034747,0.25347912,-0.31697842,-0.17404476,0.013910108,0.19851668,0.19302727,0.051444694,0.2090467,-0.34784785,-0.48835528,-0.17415306,0.03262814,0.15249267,0.12452683,-0.41059318,-0.054939054,0.08491565,0.39179832,-0.12537642,0.06745837,-0.2663365,-0.19558713,0.2283697,0.28057352,0.17447764,-0.8351306,0.13619699,-0.14412446,-0.29664367,-0.2708188,0.15739504,0.10462841,-0.49739003,0.32444328,0.5444184,-1.1295097,0.027851958,-0.3027643,0.25455332,0.12887822,-0.12956159,-0.26337954,-0.72026056,0.06095505,0.3415251,-0.10359315,0.058044776,0.07394407,0.2586066,0.037177555,-0.14796723,-0.39843622,-0.10239341,0.21444294,0.3096452,0.3425589,0.0031901428,0.14111088,0.25533843,-0.04293892,-0.33325148,-0.071823806,-0.1841319,0.06437137,0.14483456,0.3232967,0.1369782,0.35168982,0.10297006,0.0932209,-0.16866538,-0.13642086,-0.29105583,-0.5508384,-0.2885017,-0.033523485,0.057570532,-0.08823975,0.24949068,0.2952852,0.1194331,-0.23675954,-0.49932382,-0.52468973,-0.45328948,-0.17782131,-0.008249491,0.4454965,0.07778014,0.06609764,-0.16143239,0.018342948,-0.59046274,-0.0769027,0.26786456,0.19414501 },\n",
      "{0.06724675,-0.079099834,-0.63287926,-1.5350275,-0.62590504,-0.15245512,-1.2280021,-1.1848474,-0.672488,-0.154143,-0.16532452,-0.5635125,-0.27210307,-0.9024292,-0.6585351,-0.28581193,-0.34117046,-0.3821656,0.054298285,-0.3578692,0.28795445,0.34722242,0.1576008,0.17798646,0.10190554,0.08513251,0.06965622,0.11607676,0.012098348,-0.19008309,0.08014468,0.11245382,-0.16015302,0.10668145,0.1311679,-0.036873102,0.18632254,-0.06841399,0.0501129,0.36048588,-0.59865373,-0.18809786,-0.15443292,0.027238047,-0.07916808,0.20692557,0.13366623,-0.13447306,-0.8974408,-0.29858744,-0.075637475,0.31879878,0.2729551,0.20523436,0.05779111,0.22370756,0.15153727,-0.020723108,-0.014606088,-0.0424965,-0.11001929,-0.5449368,0.48049924,0.41853276,0.19173387,0.12718332,-0.06714472,-0.26339543,-0.15900272,0.6906204,-0.7767064,-0.59630823,-1.7518107,-0.9865207,-0.6094998,-0.16590124,-0.095707856,-0.11145575,-0.20944549,-0.542355,0.04124403,0.19043365,0.4403179,0.15809505,-0.18987118,-0.1456747,-0.30396208,-0.36115342,0.28192914,-0.23891851,0.039019346,0.8069384,0.4790203,-0.32710594,-0.2196128,0.56278884,0.37149775,0.83280045,0.16764842,-0.11877937 },\n",
      "{-0.06518096,0.060960308,-0.5658697,-0.4995553,-0.64526194,-0.8385512,-0.05587497,-0.21353753,-0.000586822,0.08837105,-0.019027546,0.5944936,0.09909055,-0.086487114,0.038346127,-0.48210993,-2.079091,-0.6559869,-0.1239075,-0.071046546,0.17547923,0.8651049,0.55508894,0.008908908,-0.27703,0.045904886,-1.2421945,-2.2715259,-0.8175361,-0.5405666,1.1201366,0.6643248,-0.058689676,0.02743887,0.6589167,-0.04915603,-1.2768085,-0.38844505,-0.9072993,-0.1997197,0.578815,0.52456385,-0.05112085,0.09081722,0.113776326,-0.072142914,-0.20353863,-0.073457904,0.36261317,-0.16014518,-0.019990342,-0.34782338,-0.14288674,-0.022484696,-0.20682693,-0.05797195,0.045280788,0.39759094,0.5637634,0.8136413,-0.14986266,0.03967347,-0.6743072,-0.63111657,-0.45814377,-0.17451784,0.2033208,0.38112986,-0.11813976,0.67552286,0.36936006,-0.3588917,-0.25564638,-0.07576454,-0.15452111,-0.04500645,-0.18741918,-0.118424684,0.19969624,0.31470948,-0.08375323,0.08798163,0.17486669,0.086757734,0.05076117,0.121484086,-0.24190146,-0.37662417,-0.8506677,-0.28467554,0.15102117,-0.18091793,0.5671859,0.049372613,0.18744761,-0.51349163,0.32576492,0.33812013,-0.17307782,-0.15195183 },\n",
      "{-0.17924392,0.1329581,-0.22785942,-0.24615791,-0.0937921,-0.0635545,0.040719874,0.051930673,-0.10660236,0.16453733,-0.116612874,-0.3145506,-0.6360127,-0.49662495,-0.14103393,-0.0477465,-0.5877663,0.13951777,0.57959545,-0.1020865,0.07911887,-0.16581336,-0.38935828,0.13825737,0.43171075,0.16257198,-0.13097459,-0.5899122,-0.58703685,0.25168338,-0.34618518,-0.18997513,0.13642824,0.37464696,-0.3435892,0.10271955,0.12437114,-0.04577336,-0.13913333,0.11329666,-0.8041084,0.40377715,0.17878917,-0.057850134,-0.35480905,0.03888995,-0.036135968,0.06159798,0.031386532,-0.5416766,-0.21351744,0.20066725,-0.0067959228,0.036337342,-0.07671235,-0.24338196,-0.056566253,0.046958312,0.10175914,-0.21007316,-0.079331875,0.14858809,-0.1267054,-0.008819538,0.090151586,-0.37367642,0.21304744,0.054614708,-0.29055986,-0.08992429,-0.0023474938,0.4481974,-0.08685057,-0.0472309,-0.38769096,-0.39897063,0.040162083,0.05431781,0.18788682,-0.5874268,0.196979,-0.004098326,-0.78847903,0.016989179,-0.08391725,0.04470518,0.157555,0.5403424,0.53117365,-0.2826831,-0.12751552,0.14621918,0.11435466,0.4274841,0.6072456,-0.03913105,0.30843687,0.9243875,0.84273535,-0.1838626 },\n",
      "{-0.20366007,0.33991668,0.19774535,-0.17200306,0.09230509,0.008391285,-0.32424468,0.31157023,0.45844907,0.027466029,0.0067272396,-0.46075788,0.2267494,0.19323112,0.5486607,-0.8698138,-0.1452736,0.026217166,0.6979067,-0.3620012,0.174306,-0.16643173,0.015174028,0.120327614,0.4039719,-2.2631385,0.3398875,0.19126417,0.25367054,-0.16988395,0.2832358,0.11553791,-0.5747065,0.03149949,0.1590974,-0.97819835,0.250671,0.15866652,0.06202759,-1.042013,0.22769406,0.071525075,0.0016123496,0.035893258,-0.008076977,-0.061177675,0.11091878,0.18915252,-0.28720093,-0.20865682,0.15036033,-0.23995923,-0.13304955,0.05014073,-0.060090616,0.12928669,0.07637316,0.30972832,-0.04399501,-1.0760474,-0.17814185,0.06576601,-0.0524319,0.041291393,-0.10557495,0.17149462,0.1813375,-0.02688397,0.02533835,-0.22554466,0.22326915,-0.45801175,-0.45222062,-0.5060409,-0.15240484,-0.06538607,-0.20385538,-0.025129981,-0.20094936,-0.1344848,0.20359977,-0.8779634,0.24507211,-0.14275852,-0.03531373,-0.101886764,-0.28182036,-0.0673371,0.25837126,0.34127322,-0.20158938,-0.19752307,-0.33838597,-0.011821771,0.078170486,-0.5395605,0.10874381,-0.44400805,-0.018468454,0.030068636 },\n",
      "{0.016211271,0.172834,-0.11090231,0.29288515,-0.15226056,0.5671375,0.7789475,-0.21028791,-0.16996959,0.1800075,0.35146645,0.68139493,-0.050489195,-0.20197172,-0.09413235,-0.08037702,0.18952608,-0.035250876,-0.965194,0.25329745,1.321452,0.28558668,0.14959724,0.26463416,0.21597162,0.15023325,0.059787843,0.14672767,-0.052925404,-0.5783305,0.31731963,0.8266413,0.5501048,-0.117475666,-0.3794894,-0.04032093,0.17494538,0.16194661,-0.21867187,-0.07318463,-0.11138476,-1.8621514,-2.1737964,-1.212952,-0.2646499,0.07287559,-0.03325334,-0.16847098,-0.120176606,0.57816374,0.7027183,0.11288865,0.33354425,0.56793994,0.13506982,0.14018492,0.10792742,0.13764411,0.53624135,0.4642299,0.9777556,0.5510452,-0.31572708,-0.3801882,-0.25194797,0.0027540878,0.12875082,0.20237017,-0.40218434,0.65300655,0.8148643,-0.03384092,-0.2031461,-0.1232216,-0.014851835,-0.034968175,0.013265196,0.30541125,-0.60498023,0.8960041,-0.07594979,0.7285981,0.19097,0.048462596,-0.027360274,-0.02470124,-0.06626664,-0.51557124,-0.9400111,0.04690312,-0.07756564,0.7462586,0.4079265,0.557101,0.568913,0.36098838,0.46769074,-0.23699,-0.015907362,0.018409297 },\n",
      "{0.095592186,0.025640601,-0.03471782,0.16848943,0.037096545,0.34452507,0.6122441,-0.4767036,-0.16690308,0.068412766,-0.05767424,0.8193638,0.3533734,0.10018814,-0.05732498,-0.006418669,-0.18334341,0.21335305,0.113229305,-0.1423256,1.3983487,0.35054183,-0.28113034,-0.071924396,-0.16841286,-0.05645837,0.03742499,0.106037,-0.077252164,-0.4985853,0.6839331,0.375206,0.38882604,0.5733926,0.13426028,0.015923198,0.10301204,0.027618146,-0.08988808,-0.10720279,0.9827456,0.4340374,0.28796536,-0.503798,-0.7433008,-0.029099207,0.07384734,-0.21237285,-0.56780547,0.6987742,0.46278986,-1.8686774,-2.246311,-0.6915263,-0.0122150825,0.18872422,0.13966963,0.2737404,0.3767919,0.3856615,0.7267499,0.57665503,0.1984757,0.41719544,0.15723996,0.058754176,0.09874426,-0.22915253,-0.21072769,-0.07997608,1.2501936,0.2919629,0.31987214,0.020884834,-0.06907531,-0.03431536,-0.122441135,0.30221877,0.19804797,0.57902676,-0.10660089,0.49404216,0.12958671,-0.08862805,-0.06228156,0.0062199407,0.12444468,-0.15279941,0.36118785,0.71773577,-0.13805524,-0.48900723,-0.2383222,-0.12335286,-0.26855716,0.070580296,-0.3684829,0.4566513,0.061769124,0.16939823 },\n",
      "{-0.14493604,0.34997433,0.081955686,0.861283,0.30322647,-0.34077162,0.17732391,0.4420864,0.20948033,-0.17274377,0.3449395,0.40828818,-0.6230186,0.3659728,0.19474046,0.39046255,-0.032035816,0.20410822,-0.31291083,0.6524016,0.05307625,0.22289923,-0.085283086,0.09176761,0.18035504,0.016744498,-0.10617146,0.08320715,0.51537436,0.6894534,0.26249906,-0.05807546,0.14083901,0.15285043,0.11888528,-0.26206967,-0.14243212,0.082350425,0.7377256,1.2437117,-0.07034873,0.30452028,0.24344702,0.35208943,0.25962663,0.16419004,-0.4408995,-0.40313685,0.10864747,0.59961516,0.4334771,-0.64560586,-0.12529168,0.08289131,0.28407776,0.42612362,0.004476953,-0.45120084,-0.24839438,-0.83110946,0.8047253,-0.42587414,-0.11726041,-0.10101056,0.36041838,-0.36727524,-0.4992193,-0.48177552,0.0747179,-1.2555493,-0.2427868,-0.29931033,-0.06077354,0.23815177,0.08421157,0.021839717,0.0732892,0.21649425,0.2505806,0.0069067213,-0.18086408,0.051778167,0.032037083,0.26964408,0.31051832,0.26061127,0.24708532,0.23011984,0.5660076,-0.21191877,0.11013536,0.20546135,-0.61499953,-0.24170324,-0.18811461,0.08390546,0.9255499,0.52641654,0.77839524,-0.17372939 },\n",
      "{0.06617139,-0.0051332116,0.011191383,0.15927503,0.16651009,0.09515425,0.6218429,0.38255554,0.21334846,0.112788424,0.5018435,0.8224429,0.3598347,0.23861736,0.074756205,-0.1595944,0.33256105,0.25418413,0.13067883,0.34318864,0.49585223,-0.49900132,-0.44685182,-0.004603672,0.11876475,-0.06091461,-0.020892123,0.109936915,0.13883731,-0.30375764,-0.052519046,-0.09053486,0.4579505,-0.061022222,-0.18287574,-0.6379072,0.15072814,0.2946552,0.060917467,0.089686126,-0.10838448,-0.07247417,-0.5027793,-0.26575097,0.11772792,0.22940098,0.46579567,0.18869407,-0.09282356,0.12208076,0.7946924,0.044808768,-0.2623816,-0.2160568,0.36781824,0.24413285,-0.43122414,-0.45653874,-0.6167493,-0.40287402,1.4565431,0.30021134,-0.012385255,0.0453854,-0.117639884,-0.1048246,-0.07762239,-0.061951302,0.23739068,-1.2664626,0.55338675,0.5965428,0.26048574,-0.101037696,-0.109033555,0.049325638,0.12651077,-0.051090106,0.14542198,0.29548562,-0.08729773,0.047353372,-0.057266466,0.05634484,0.03572273,-0.0041243844,0.19268298,0.38356325,0.4202036,-0.7676947,-0.12833016,0.34049898,-0.22010227,0.11242908,0.060217366,-0.3192721,0.3480752,0.32394874,0.012570644,0.006943494 },\n",
      "{-0.16272284,-0.0936779,0.050621442,-0.06757915,0.03961038,-0.06923211,-0.23384014,-0.15429755,-0.20268802,0.12989463,0.11531748,-0.03384958,0.75260854,0.21522781,-0.00026661475,0.30006787,0.21140364,0.28472,-0.0060033887,0.15617527,-0.11025967,0.69507986,0.13427097,0.009018777,-0.06306543,0.15111777,0.4833584,-0.3376128,-0.056872714,0.01897707,0.51586336,0.682503,0.16576134,0.10815402,0.036837347,-0.67180747,0.24394232,0.14874716,-0.101134144,0.0069214865,0.6486236,0.014498475,-0.24291767,0.17443867,-0.47622508,-2.271102,0.05292165,-0.034483336,0.035557084,0.3969839,-0.0349258,0.26949507,-0.04992588,0.2090889,-0.91018605,-1.5904143,-0.036924593,0.2565062,-0.044829607,0.03572368,0.040179983,0.5600351,-0.044418715,0.10399729,-0.82227385,-0.81153595,0.06857406,-0.1738856,0.046235718,-0.0808754,0.15796496,0.14697619,-0.011508282,-0.019259255,-0.23170301,-0.20689513,-0.12478673,-0.35858148,-0.21022938,0.73044974,0.14219819,0.44772732,0.009823198,-0.068584844,0.22490892,-0.26246262,-0.24331222,-0.43533272,0.26372004,0.20063747,0.18606873,-0.03807074,-0.037270445,0.39591798,0.6665749,0.3957983,0.6906003,0.19775708,0.34331432,0.14257897 },\n"
     ]
    },
    {
     "name": "stdout",
     "output_type": "stream",
     "text": [
      "{-0.20428652,0.040772706,-0.1572731,0.15153773,-0.08741238,0.26193443,0.13233006,0.077701226,-0.18548146,-0.08168347,0.009704862,0.58403045,-0.25858828,0.0970071,-0.066274844,-0.24509431,-0.26912057,-0.70154434,-0.53885746,0.19165635,-0.16761647,0.108881965,-0.22607006,-0.12628485,-0.08173925,-0.09713833,-0.12571844,0.0517901,0.35792235,1.1617528,-0.060728848,0.074588455,-0.04046692,0.031688824,0.06280936,0.23997907,0.21627598,0.5296556,0.72971004,0.76299244,0.104854815,-0.3079581,-0.11057198,0.027402336,-0.08667688,-0.66299707,-1.722595,-1.4358387,-1.338951,0.09978842,0.3810061,0.11519801,0.104324035,0.18021111,0.22250168,0.013177003,0.060860563,-0.26085088,0.26024467,-0.6219893,0.1763623,0.7181619,0.1031979,-0.4393156,-0.089766026,-0.03543086,0.06381131,0.00922205,0.104260184,0.31510177,0.14653818,-0.19515885,0.1837704,0.051826958,0.09256526,0.15258808,0.14510901,0.009239261,0.03358919,-0.2292973,-0.056422338,-0.56253165,-0.19680803,0.17848225,0.20788176,0.09600068,0.03812594,0.066455066,0.18131515,-0.15719274,0.036493093,-0.03618997,-0.6051489,-0.18755028,0.22796963,-0.20837364,-0.082947664,-0.31335685,-0.21318719,-0.1714538 },\n",
      "{0.0481344,0.0022680324,-0.020787794,-0.17144324,-0.1028338,-0.0751024,-0.30083042,-0.1187443,0.07289416,0.0364189,0.08615982,0.60394627,0.514431,-0.07863216,0.06655813,-0.081064545,-0.0077562034,0.14858109,0.18383068,0.17568547,1.126375,-0.16697124,0.19229089,-0.04602299,0.06764219,0.09265072,0.06431887,0.010000611,0.1577713,0.28021848,-0.8712358,-0.19442548,0.0782112,-0.06814331,-0.03773428,0.0077400887,-0.038789596,0.03275955,0.21163401,0.39493757,-0.9855904,-0.0031319512,0.24460806,0.06641377,0.15901642,0.30259636,0.1220662,-0.02570648,-0.07327774,-0.15424836,0.24433137,-0.7451321,-0.4516871,0.065245956,0.2797166,0.112869225,0.023939732,0.05263465,-0.12523739,0.44883266,0.21227069,-0.39640605,-1.633329,-2.0544038,-1.0522221,-0.3491912,-0.09868194,0.103727646,-0.22735152,-0.9049836,0.5325004,0.3521682,0.59097755,0.47094065,0.20906457,0.0748371,0.0020651023,-0.063864365,0.070012115,-0.27249074,-0.093842015,0.707347,0.23250367,0.3815475,0.05990385,-0.056859676,-0.008830295,-0.16530702,0.2199598,0.08295912,0.13060923,0.4767103,-0.08958776,0.14618362,-0.033880517,0.08320969,-0.044439588,0.28693,0.5330332,-0.071790785 },\n",
      "{-0.08967848,0.14846824,-0.058562588,-0.39326757,0.028078368,-0.20888992,-0.31194106,0.012539091,-0.15528889,-0.080887154,-0.11416194,-0.035657633,-0.34710652,0.054264273,0.03926827,-0.06583961,-0.15566744,0.3311883,-0.4939149,-0.4877308,0.57383007,0.24855082,0.28476107,0.057379894,0.06840439,-0.50647706,-0.118507385,0.04838858,0.5093726,-0.10943635,1.1920921,0.06737122,0.15799402,0.28201872,0.5528556,0.3963852,0.19899328,0.33889112,0.056966778,0.024014888,1.339899,-0.06860621,-0.08956168,0.29625127,-0.09600433,-0.36894977,0.13004966,0.26952085,-0.1640794,0.23502989,0.28150442,-0.41981038,0.08185193,0.19105873,-1.7024217,-0.17234306,-0.31637552,-0.05218943,0.38960937,-0.7790166,0.15520917,-0.04042515,-0.17034785,-0.6675767,-0.8506493,-0.20661652,0.04091907,0.062061686,-0.13613911,-0.24345897,0.20769288,-0.26095146,-0.2958538,0.04956969,0.0805686,-0.14429145,-0.21378303,-0.40886956,-0.17656662,0.3813622,0.16478957,-0.110081166,0.21527508,0.19028747,-0.022359936,0.17612188,0.037819862,-0.04558123,-0.9529559,-0.2726899,0.20235418,-0.6171164,-0.10363934,-0.31132624,-0.1649858,0.30506125,0.15444504,0.21763666,0.08923224,0.009928569 },\n",
      "{0.1932169,0.08294272,-0.06734634,-0.5916198,-0.41084674,-0.3738395,-0.72667736,-0.28294882,-0.27170327,-0.09558132,-0.014742952,0.4694277,0.21002743,0.110441834,0.07689876,0.18435583,0.049339753,0.18356991,-0.10998176,-0.027958265,0.5863105,0.19446154,-0.13540068,0.072771214,0.0022946978,0.041694626,-0.040578216,0.13947065,0.54308885,0.722991,-0.31470516,0.05758312,-0.16688487,-0.10977964,-0.03434192,0.11926456,0.010214245,-0.31537116,0.028936135,0.3891421,-0.11547857,-0.38670328,-1.2986337,0.07224484,0.1681984,0.085395545,0.015984347,-0.48521516,-1.3665726,-0.2409747,0.57381755,0.36324447,-1.0685159,-1.4954731,-0.5350138,-0.1958758,-0.011198905,0.2503706,-0.25020188,-0.26481843,0.6173189,1.1554527,0.9401396,0.066169195,-0.388654,-0.114431426,0.0827058,-0.012465963,0.17360364,-1.1797358,0.68078774,-0.33057597,0.11048369,0.3672778,0.14438924,-0.017029485,0.0994921,-0.0039578346,0.26612952,-0.7131201,0.19298072,-0.3230349,-0.6448944,-0.08722841,-0.08330385,-0.045954503,0.02615216,-0.013485985,-0.32372952,-0.38283935,-0.16072254,-0.19455208,-0.49124303,0.11504065,0.08415067,-0.4698491,-0.20190015,-0.5969762,-0.51605636,-0.07912396 },\n",
      "{-0.012538195,0.34494475,-0.025886979,0.61518085,0.66784596,0.20774378,0.73964137,0.18026167,0.25279483,0.17241494,-0.10108486,-0.35290375,-0.27502412,-0.21757863,-0.14500193,0.009406762,-0.32326314,0.17423849,-0.4062201,-0.60661525,0.23250817,-0.0420688,-0.4694943,-0.36817983,-0.013958146,0.1713508,-0.2176233,-0.15723453,-0.020671153,-0.57871777,0.31787118,0.22000179,-0.5047706,-0.25585246,0.09955337,-0.2918509,0.12752894,0.09311063,-0.3945773,-0.48087636,0.87738305,0.29544115,0.0030056662,0.10676834,0.42997313,-0.95313174,0.18989153,-0.26624322,0.012338486,-0.17233263,0.38954988,-0.1981505,0.15277204,0.1624007,0.027351413,-0.43532872,0.112389065,-0.0888189,0.5767586,-0.942565,-0.5670533,0.31570244,0.17701472,0.16116065,-0.11296112,-0.018409753,0.1614866,0.21442749,-0.39092416,-0.6476383,-0.32508454,0.12841086,-0.323553,-0.19067565,0.15884565,0.028808482,-0.08130784,0.24483038,0.0061395233,-0.08980702,0.03485176,-0.24543929,-0.022587674,0.26676074,0.023770612,0.14353819,-0.066070095,-0.31421262,-0.36574283,0.34891084,-0.009359539,0.11983271,0.23734763,-0.302005,0.007973803,-0.506612,-0.7576097,-0.65266454,0.24042398,0.20588253 },\n",
      "{0.2006592,0.10970276,0.2689951,0.37156424,0.031773895,-0.41740382,-0.4592633,-0.0011509836,-0.12799038,0.16920419,0.17632699,0.6441445,0.5369091,0.6580511,0.4380774,0.22914976,0.10881297,-0.20444104,-0.7672508,-0.19020945,0.65750843,0.59247434,0.38247904,0.261959,0.119542055,0.018421028,0.028472476,-0.076682314,-0.7462304,-0.6346654,0.6901635,-0.7395389,-1.7831191,-1.837345,-0.6460017,-0.09557355,-0.07021972,-0.16523309,-0.30415192,-0.2665837,0.56837755,0.06944342,0.27608126,0.60787964,0.2865435,0.073602915,-0.113187455,-0.13371494,-0.57275045,0.43611845,-0.004189265,0.40148813,0.11887059,-0.2044038,-0.08719584,0.062094186,-0.019817423,-0.088482395,0.10789648,0.3727337,0.56221366,0.019777786,0.16223891,-0.06318627,-0.008699063,-0.05391682,0.014269218,0.021397796,0.21355414,-0.0505394,0.70716906,0.2164149,-0.034634676,0.12359996,-0.047026955,0.052606627,0.0033286326,0.092401825,-0.42160785,0.42328653,0.19904135,0.23744556,0.24109766,0.1618466,0.0021773078,0.07367036,-0.03607652,0.37529704,0.33786008,0.03322945,-0.066870004,0.16897109,-0.030054007,-0.2968143,-0.55024713,-0.3953253,-0.11329984,-0.065402515,0.42584634,-0.06512977 },\n",
      "{-0.06044388,-0.034521233,0.08013892,-0.06973337,0.30997124,0.65113574,1.733088,0.24153098,0.024582393,0.089442685,-0.18128559,0.9105294,0.45750728,-0.42880553,0.16013359,0.049141638,-0.2042005,-1.0723702,-0.2678934,-0.005583162,0.22815469,-0.32214203,-0.28852376,-0.31265262,0.11391073,0.13803966,-0.62319595,-0.97832286,0.6844366,0.36576048,0.030881144,-0.7613832,0.28633577,-0.23928005,0.13617173,0.16431604,-1.7437824,0.41656682,0.42973456,-0.183091,-0.14748144,-0.16882889,-0.0711916,0.024592066,-0.1544125,0.015564693,-0.25450006,0.3291888,-0.1337446,0.07119113,-0.078100756,-0.0063463054,0.17744355,-0.12477696,-0.24588917,-0.011806635,-0.1428347,0.045928277,0.41571403,-0.4957847,0.31213212,-0.007149292,-0.24309953,-0.3920871,-0.17644654,0.19611154,-0.12774958,-0.035712685,-0.6183948,-0.070623495,-0.107294194,-0.5218852,-0.12494893,-0.046539184,0.1053755,0.20514725,0.28088772,0.14805014,-0.24340151,-0.12504628,0.19430666,0.16108254,0.1483281,0.027863195,-0.08191838,-0.08371142,-0.055575,-0.26934195,-0.42684627,0.77552855,-0.17926486,-0.024559045,0.011313483,-0.38621995,-0.3745404,-1.4114797,-0.86429095,-0.27455202,0.100264184,0.16293143 },\n",
      "{0.14554031,-0.15441455,0.066518284,0.37462822,0.15595591,0.49435064,0.7959639,-0.45044678,0.05089243,-0.002746582,-0.3910434,-0.18907706,0.055840936,0.24784133,-0.041946944,-0.17836908,0.15119357,0.01371297,-0.20003885,-0.06787471,-0.2668163,-0.2379211,-0.1512015,-0.099559724,-0.06623572,-0.059789743,0.061157074,-0.29576817,-0.3442006,0.048107546,-0.22629882,-0.39987403,-0.23679599,-0.14735349,-0.34625784,-0.309058,0.051324744,-0.3706687,-0.37668747,-0.79435015,-0.039336123,-0.79947877,-1.4979051,-0.7169633,-0.46479443,-0.73062724,-0.26872957,-0.16250965,-0.2369906,0.13882166,-0.19417179,0.10912422,0.28605306,0.19002277,0.3032601,0.04216178,-0.03734351,-0.21199998,0.08683121,1.0519258,-0.45254004,0.4733154,0.30619344,0.21929742,0.22655146,0.3375955,0.20266663,0.2585328,0.4592659,0.97416323,-0.11378379,0.30254874,0.20397067,0.2958448,0.007252318,-0.089598134,0.402756,0.5033659,0.9207014,0.9389303,0.110172346,-0.0028003235,-0.15497737,0.21911971,-0.2517648,-0.5978203,-0.4127037,0.09816133,0.21514933,0.2764054,-0.17229116,-0.1512479,-0.39490846,-0.52810955,-0.72914284,-0.6011279,-0.95219487,-0.47407362,-0.076396,0.09915282 },\n",
      "{-0.038619652,-0.094435394,0.10603379,-0.30048507,-0.71761876,-0.044689626,-0.99577963,0.21337675,-0.14088613,-0.037390843,0.1522112,0.17608352,0.08377157,-0.24067459,-0.7549288,0.1067949,0.060268488,0.27092102,0.08588797,0.03840696,1.0525328,0.4639241,0.22398262,0.19478115,-0.9352116,0.12961534,0.43926036,-0.19295876,-0.5954384,-0.42542878,-0.42882344,0.38613385,-0.1970488,-0.016733257,-0.5039407,0.32846615,0.28397974,-0.35646,-1.625476,-0.054705583,-0.45342588,0.370419,-0.067610286,0.059496112,-0.14208387,-0.032926742,-0.07162133,-0.42753345,-0.5902036,0.04909746,0.23657833,0.18378699,0.16303203,0.006896672,-0.175799,-0.020992557,-0.0020336474,0.087167434,0.17217454,0.19266723,0.4264256,0.13799454,-0.19557583,-0.10600931,-0.13902627,0.08098602,-0.0001120207,-0.01177105,0.17743099,-0.04200986,-0.18575831,0.2999431,0.41326377,-0.07472993,-0.19131096,0.1793761,0.29848662,0.14016089,0.045040097,-0.120610714,-0.04361032,0.79377025,0.2577544,0.091345586,-0.18526012,-0.0745923,-0.12421559,0.114297055,-0.6694287,0.5341721,0.18203627,-0.079717495,-0.83235514,-0.8597158,-2.19802,-0.11574198,-0.8861447,-0.8484779,-0.86095273,0.05996014 },\n",
      "{-0.19764549,0.3949493,0.5862033,0.41714653,0.6236215,0.32039258,0.6423535,1.0303264,0.6494615,0.093184575,-0.2065654,0.54880255,0.13153347,-0.09798987,-0.05134984,-0.015285949,0.22483754,0.43083182,0.2510787,0.105453774,0.18980236,-0.67659503,-0.14043695,-0.09924351,-0.1722761,0.15513112,0.2996567,0.25608957,0.30936682,0.5013435,-0.29326004,-0.68539816,-0.1717502,-0.15463123,0.03608631,-0.28762868,-1.0713805,-1.8665758,-1.3937941,-0.10394604,0.030642554,-0.26256686,-0.013382872,-0.1136328,0.0052276063,0.10336752,0.21194457,0.2565629,0.07398835,-0.48572847,0.3495896,-0.07684545,-0.13959838,0.0027319412,-0.068199344,-0.08773431,0.07870658,0.3666298,0.23025261,-1.2292665,-0.18615803,0.21317004,0.13597278,0.051145293,-0.075197555,-0.0053786053,0.078658484,0.24243608,0.10494456,-0.83222777,-0.121491075,0.32487977,-0.03351429,0.07379879,0.057274982,0.14483298,0.26038277,0.14338045,-0.2692339,-0.7075011,-0.021208495,0.3451925,-0.09126503,0.09385496,0.03707611,0.20044103,-0.0077534253,-0.26007107,-0.122762695,-0.19739056,0.034571156,-0.2134351,-0.40459082,0.11640349,0.02684177,-0.4296636,-0.27773544,0.07519568,-0.59302443,0.16589795 },\n",
      "{0.11817671,-0.1854279,-0.23428048,0.28783622,-0.048746005,-0.39121932,-0.12571229,-0.27894366,-0.32046738,-0.02268675,0.27576077,0.32466805,-0.35123008,0.4248298,0.06344169,-0.1334181,0.11706069,0.33013588,-0.4351517,1.1133717,0.24202767,0.58423704,-0.051166296,0.06318072,0.02919871,0.34729567,0.55045754,-0.06345649,0.0133007085,-0.5025577,-0.29662323,0.50472707,0.31584093,0.44472054,-0.06192104,0.5414449,0.4473366,0.046216045,-0.02118523,-0.119880475,0.57538635,-0.12739787,0.11299738,0.054456756,-0.057844225,0.0384632,0.26320413,0.5901764,0.6634622,0.44134516,0.24499446,0.13375194,-0.06933061,-0.040261287,0.07630535,-0.081997834,0.08142474,0.20772077,-0.21600798,-0.7753902,0.3224139,-0.0022645073,-0.19948712,-0.06446971,0.18470858,-0.1646033,0.11703755,-0.0042694355,-0.086538605,-1.1041169,0.58092225,0.09550063,0.24274409,0.37966877,0.2540259,0.1262539,0.27897552,0.06988998,0.38795188,-0.2131013,0.09091188,0.26645276,0.17861216,0.29883158,0.1658362,0.036382616,0.14866649,-0.14084935,-0.0055461614,-0.68806744,0.10281913,0.25496823,0.6016236,0.13061446,0.29438087,0.6119276,0.77524024,0.3598357,0.24381621,-0.028404117 },\n",
      "{-0.13398187,0.003585413,-0.1287875,-0.11003552,0.10051893,0.1866499,-0.19020876,-0.17448016,-0.024081096,0.109985575,-0.20434599,-0.1333256,-0.020377874,0.092082515,-0.14708404,0.0893299,-0.11579554,0.050142553,-0.14321046,0.17410584,0.17449875,0.12162088,-0.08542462,0.12895653,-0.12846439,-0.1263398,0.05928876,-0.1982626,-0.12523398,0.12934212,-0.051315397,0.06371386,-0.10050476,0.0068879677,-0.035138234,-0.16192886,-0.082352564,-0.0853456,0.09857021,0.17119147,0.16513889,0.12438847,-0.15663274,-0.16435313,-0.1382496,-0.1336543,-0.154823,-0.12520279,0.047058508,0.023058668,0.011278003,0.06665249,-0.18843481,-0.06198132,-0.15516225,-0.026695976,-0.14499694,0.06747751,-0.1195949,-0.15245849,0.046336725,-0.18568283,-0.020387247,0.05889661,0.05516643,-0.15738842,-0.066806376,-0.14870514,-0.012649193,0.03289108,0.064937964,-0.12640868,-0.16847031,0.11088171,-0.18545254,-0.19706085,-0.0840875,-0.15659153,-0.027554318,0.19455348,0.076460734,-0.02558744,-0.10288764,0.0127055375,-0.092741765,0.032896504,-0.016386777,0.123486266,0.06820972,0.09920715,-0.011601388,-0.100034095,-0.18763009,0.028320149,0.11827956,0.11501108,0.14172037,0.06536169,-0.0036408007,-0.20476241 },\n",
      "{-0.100178756,0.10570211,-0.00026002186,0.3086131,-0.10608074,-0.13560212,0.4200924,0.9449636,0.58997804,0.057535782,0.10930651,0.0997991,-0.4067078,-1.0457008,-0.02862238,-0.29317537,-0.3400809,-0.28573272,-0.1801236,0.3574362,-1.0435481,0.17278053,-1.6080189,-1.5857753,-0.1592214,0.26184955,0.37012687,0.018219676,-0.37032756,0.16001862,-0.80964303,-0.50596523,-0.72092044,0.23759568,0.025422575,0.075110584,-0.046715733,0.07565444,-0.042049516,0.06844116,-0.15358344,-0.5706001,-0.010296333,0.20287709,-0.3908653,0.13333309,0.35618857,0.35513964,0.059588604,-0.033135146,-0.6750015,-0.32851472,-0.16652687,-0.037187546,-0.039835818,-0.05323732,0.05476389,-0.23631465,-1.1913797,-0.6095598,-0.33873755,-0.7884511,0.15110673,0.1554751,-0.12872525,-0.055042338,-0.13783681,-0.55554664,-0.57422733,-0.06875398,0.15150447,-0.51806134,0.1922414,-0.5058041,-0.23104306,-0.028292827,-0.030730182,-0.31067175,0.1697393,-0.02201735,-0.11836052,-0.88851756,-0.03695767,-0.008532841,-0.16990441,-0.1476559,-0.05083947,-0.5026495,0.39889765,-0.6720125,0.0336231,0.761138,0.8096578,0.42647016,0.41153705,0.6942115,0.4674551,0.98300654,-0.17704093,-0.16163017 },\n",
      "{-0.029863909,-0.04833056,0.044934914,-0.002130827,0.26877385,0.14645293,0.28325462,0.18658267,0.10820119,0.15506588,-0.07572925,-0.29525733,0.06516863,-0.035941217,0.12573794,0.119077556,0.22089426,-0.35337725,-0.08932549,0.18978179,-0.057768375,-0.53854054,-0.103711925,0.09968243,0.21659297,0.16514118,0.18352188,0.16574281,0.011446724,-0.93934214,-0.07353174,0.16826417,0.18304639,0.05313222,-0.13463406,-0.18824695,-0.06232294,0.16347563,0.28153634,0.17878759,-0.06909026,0.05479442,-0.31728113,-0.25004232,-0.55799836,-0.27578157,-0.37530187,-0.14655471,0.09423225,-0.2610323,-0.16695687,-0.67572904,-0.32746166,-0.3280841,-0.21189728,-0.31236807,-0.7883861,-0.22196518,-0.35774943,0.73059994,-0.3710022,-0.59099126,0.27667108,0.23218131,0.23610157,-0.7531083,-0.6815881,-0.16325656,-0.060242902,0.6904045,0.1224755,0.37673247,0.13097028,0.30100083,0.16214776,0.24558517,0.302724,0.083095714,0.21469139,0.9625147,0.16195513,0.615711,-0.029281812,-0.024494696,-0.01474132,0.16713025,0.35585192,0.38665286,0.38482875,0.06434554,-0.19294958,0.78340423,0.6260047,0.025823055,-0.32299584,-0.017089905,-0.25462145,-0.12665205,0.04951079,-0.123295516 },\n",
      "{0.005173236,0.17921548,0.16192952,0.48866004,0.8511032,1.0971684,0.84109396,-0.15096813,0.062378697,-0.10079864,0.4501207,-0.09100848,-0.014643571,-0.1618044,0.36900228,0.16600962,0.1309534,0.4790014,0.46738005,1.0772387,-0.09478204,0.39013767,0.230951,0.11584865,0.22734125,0.19432892,0.33168986,0.21535155,0.10552421,0.78847545,-0.6059302,-0.45437244,-0.086648606,-0.051364124,-0.2660718,-1.0647042,-1.0881932,-1.0633938,-0.79627013,0.409053,-0.51149654,0.5404277,0.1790991,0.20217101,0.10821607,-0.13563341,-0.16214369,-0.56544346,-0.69932914,-0.5091913,0.670217,-0.065176785,-0.041446973,-0.049389068,-0.0968613,-0.16971946,-0.17020454,0.107242465,0.05676938,-0.3193295,0.8477037,-0.42231575,-0.81171435,-0.31457004,-0.27736542,-0.24364054,0.21421055,0.14374484,0.037824307,-0.7889828,0.34584245,0.9467775,-0.0030629828,0.0154526,-0.13370128,0.038253505,0.013339376,0.25979012,0.5283393,0.07772401,0.10231762,0.46796215,-0.3731488,0.0060310178,0.08615372,0.04689461,-0.10249994,-0.04076855,0.1544223,0.46744305,0.041177005,0.1644007,-0.07401037,0.4499842,0.4720136,-0.30480534,0.077430114,0.5301323,0.57150203,-0.11410992 },\n",
      "};\n"
     ]
    }
   ],
   "source": [
    "\"\"\" (ESP32) For Arduino code \"\"\"\n",
    "\n",
    "print(\"char W[%d][%d]=\"%(L1.shape[1], L1.shape[0]))\n",
    "print(\"{\")\n",
    "for c in range(0,L1.shape[1]):\n",
    "    print(\"{\",end=\"\")\n",
    "    \n",
    "    for r in range(0,L1.shape[0]-1):\n",
    "        print(L1[r,c],end=\",\")\n",
    "    print(L1[r+1,c],\"},\")\n",
    "\n",
    "print(\"};\")"
   ]
  },
  {
   "cell_type": "code",
   "execution_count": 20,
   "metadata": {
    "scrolled": true
   },
   "outputs": [
    {
     "name": "stdout",
     "output_type": "stream",
     "text": [
      "char W[20][40]=\n",
      "{\n",
      "{-0.50094885,0.18646789,0.2648695,-0.069093145,0.56966776,1.0575473,0.4374765,0.23318288,0.04900072,0.19727905,-0.065004334,0.2342236,0.07949648,0.71277064,0.35496214,0.22453415,-0.14336026,-0.07870077,0.117305756,0.11412179,0.15991949,0.3122174,-0.24330653,0.2102865,0.056656253,0.4249376,-0.08933671,-0.05524187,-0.1118556,0.34846452,-0.14876716,0.57269543,0.087635405,0.22897239,0.17061354,-0.70010096,0.21925023,0.22828466,0.25153932,0.3999124 },\n",
      "{-0.10307538,0.014759355,-0.30340868,-0.04907089,0.2773584,-0.29256737,-0.58178955,-0.29642934,0.22698261,0.32898387,-0.13609727,-0.3610933,0.08975762,-0.08181123,0.29787186,0.31387284,-0.25351205,-0.30945328,0.07484772,-0.09854269,-0.27586707,-0.6805784,-0.20164658,-0.11618824,0.49293083,-0.051134318,-0.41965687,0.0850149,-0.4029098,0.27317443,-0.16289978,-0.06275971,-0.31673583,0.033910163,-0.13991849,0.086230196,0.25846067,-0.13433026,0.29781717,-0.3613322 },\n",
      "{-0.06073948,-0.011845379,0.15560001,0.13525993,0.73509294,0.09607148,-0.2665075,0.105441175,-0.09552693,0.22565287,0.025876144,-0.13646054,0.3236989,0.41596213,-0.22227067,0.024116972,-0.21767092,-0.047118522,-0.278117,0.14937703,0.026427902,-0.25691888,-0.22265846,-0.16724688,0.38261497,-0.12564126,-0.35019675,-0.387728,-0.25397727,-0.077452786,0.14421256,0.07894161,0.39050564,0.03444896,0.14007978,-0.46726212,0.24385777,0.0141664995,0.23003522,0.5064198 },\n",
      "{-0.14621039,0.23725355,0.019320115,-0.15041547,-0.04334133,0.43725336,-0.16295175,-0.35395637,0.13650526,-0.032709803,-0.28787616,-0.2660313,0.0403246,0.16017962,0.53530073,-0.22451828,0.078739755,0.049865164,0.07268869,-0.03376343,0.15249881,0.052368153,0.030926658,0.12657055,-0.35974142,0.16490145,0.06592966,0.03936729,0.16265777,-0.09706398,0.14192894,0.20336321,-0.13977654,0.020983228,0.064300984,0.006130697,0.038011696,-0.022935715,-0.16350782,0.14029759 },\n",
      "{-0.01444264,0.18597868,-0.41918984,-0.24910286,0.4324174,0.036961798,-0.17923914,0.23871322,0.11258904,0.22076046,-0.1735913,-0.15723437,0.3020847,0.3920975,0.103700235,-0.25494426,0.0037257872,-0.33321527,0.052697346,-0.03726541,-0.20895985,-0.16321641,0.076340646,-0.15326346,-0.16794305,0.20594227,0.078060456,0.1851165,0.07700257,-0.0016617648,-0.2329076,0.025565691,-0.011261371,-0.09863193,0.30545592,-0.04180816,-0.08155129,-0.12838374,0.026380636,0.31796083 },\n",
      "{-0.32602262,0.032319903,0.16914105,-0.35720235,-0.0711658,0.66895753,0.22250558,-0.13415277,-0.15177794,0.28775543,-0.46834216,-0.19522007,-0.15763578,0.19896282,0.5267293,0.30047202,-0.24145998,-0.08430768,0.31465697,0.3642456,-0.32495704,-0.31685746,-0.22690268,-0.10570096,0.5591238,0.08721636,-0.20933305,0.02940028,-0.19753711,0.081940725,0.24403073,0.25256926,-0.13857943,0.2697345,0.09201526,-0.39828613,0.09024972,0.2994114,0.30702883,-0.11426997 },\n",
      "{-0.24992365,0.1267819,-0.18631226,-0.2721434,0.40622684,-0.029101074,0.1873141,-0.0438064,0.34061068,0.30904374,-0.21444078,0.06588445,0.22929212,0.11004936,0.2201881,0.52324647,-0.12079404,-0.04485744,-0.15161596,0.41020963,-0.022553554,-0.22107531,-0.32235804,-0.5542987,0.5716305,0.17322424,-0.2553279,-0.106598854,0.059250616,-0.10819848,-0.09976261,0.3130473,0.05497849,0.0550221,0.08666258,-0.29856873,0.108460605,-0.0002806531,0.45263708,0.33414647 },\n",
      "{-0.034629982,0.09964275,-0.036472246,0.1391149,0.080467895,-0.1956168,0.080316015,0.014817412,-0.27775273,-0.26004383,0.076687135,-0.36208972,-0.21222211,-0.21554142,-0.28037256,0.067916535,0.065408014,-0.08586308,0.2752506,-0.13096815,-0.22383288,-0.28959665,0.060363904,0.072704695,-0.5803081,-0.070069194,0.08168655,-0.26550564,0.059635095,-0.028050872,-0.33653054,0.023748498,-0.11716571,-0.14825407,-0.03435451,-0.0011748603,0.29678634,0.1943858,-0.19028968,-0.16116376 },\n",
      "{-0.27289382,0.015862148,-0.34677687,-0.24313423,-0.07900243,-0.30097586,0.18017668,0.124676876,0.19922121,0.111034095,-0.09724946,0.06431505,-0.08937368,0.20402767,0.1276463,-0.016248727,0.041323803,0.023837022,-0.30290878,-0.1288799,-0.15520397,0.12868215,-0.3425722,-0.38142887,-0.19232917,-0.23080885,0.04579874,-0.20809042,-0.060004465,0.08008413,-0.037938483,-0.29067484,-0.080506496,-0.08432283,-0.018457815,-0.4655415,0.16249475,-0.23380801,0.15489617,0.17755419 },\n",
      "{-0.5330026,-0.08822881,0.03626316,-0.19255045,0.42620614,0.810602,0.3417024,0.6738245,0.15803446,-0.019779095,-0.3541133,0.0773175,0.208618,0.036136903,0.39819065,0.08525697,-0.30070183,-0.01262009,0.2391693,0.04722903,0.17715658,0.07772796,-0.33235356,-0.24365954,-0.30329302,0.50786185,-0.20180379,-0.27766597,-0.063933365,0.30153275,0.11661692,0.32422054,-0.33634683,0.19211306,-0.025775312,-0.46157667,0.13708574,0.282992,0.438231,0.20947981 },\n",
      "{-0.32498813,-0.13212149,-0.20506464,-0.32108444,-0.105827056,-0.14660543,-0.08870091,0.28930357,-0.03140018,0.27189177,-0.05943963,-0.22776212,-0.31681463,0.25043547,0.016306901,0.4859363,-0.33754522,-0.2550098,0.18196535,0.35556063,-0.2681033,0.07058226,-0.021705253,-0.10563569,0.17636792,0.011243143,-0.23023145,0.0738119,-0.2536226,-0.101395145,0.068281576,0.107549205,-0.09411847,0.24081549,-0.23825164,-0.25115976,0.037608027,0.014512944,0.16882017,0.10932879 },\n",
      "{-0.16773716,-0.4514042,0.12170709,-0.21363628,0.36362547,0.27549392,-0.05816014,0.09727821,0.3303137,-0.3209886,0.102133945,0.14357787,0.042254303,0.08768049,0.11675985,0.057538897,0.32582188,-0.034889292,-0.06344237,-0.3972145,-0.027014852,0.050394528,-0.05363793,0.073744215,0.093556084,0.393699,0.07358518,0.26241803,0.20887874,-0.08244787,0.13910684,-0.2852581,-0.00726155,0.005105504,-0.3356511,-0.5493156,-0.30435282,-0.26258042,0.40720567,-0.30220017 },\n",
      "{-0.21788733,0.23889686,-0.104772925,0.054823637,-0.19378893,0.09453781,0.43924338,0.030003263,-0.021859532,0.26365492,0.16583355,-0.077770844,-0.25771412,-0.09100303,-0.046323407,-0.050087,-0.09858022,0.027765077,0.2923328,-0.1824295,0.064406775,-0.03943887,-0.2945123,0.123255335,-0.136262,-0.22229347,0.06954072,-0.4004771,-0.15826164,0.05025596,-0.027986681,0.14056951,0.13499354,0.020035483,0.07962434,-0.45572188,0.18439232,0.30504626,0.052427914,-0.022506762 },\n",
      "{-0.18480012,0.07344606,-0.27532905,0.030235607,0.13408487,0.69095147,-0.32501432,0.20137697,-0.1494535,-0.15088014,-0.12628922,0.17824341,-0.16279826,-0.07509209,0.63237673,0.04953249,-0.25148654,0.17739429,0.15088324,0.45880243,0.2005894,0.05023487,-0.42688438,0.2256742,0.06656008,0.1519142,-0.103770696,-0.005511657,-0.42279425,-0.08412998,0.07367169,0.3203166,-0.102676414,0.17451565,-0.037289754,-0.7675737,-0.28212643,0.33405536,0.33916202,0.02670459 },\n",
      "{-0.069781125,-0.01103774,-0.03509452,-0.016917285,0.119431384,0.21979123,-0.13523662,-0.22285458,-0.4570159,-0.3404085,-0.117860936,-0.04432011,0.29818144,0.18270098,-0.107398525,0.085484095,-0.20523164,-0.12932941,-0.034616128,0.03919165,-0.081882864,-0.06578134,0.17815912,0.14944817,0.024305288,-0.12083532,-0.2368384,-0.17421651,-0.32734692,0.07532683,-0.118956015,0.22282365,-0.04895379,-0.0032574204,0.10776049,0.01225544,-0.2464689,0.08863284,-0.18337168,-0.098122224 },\n",
      "{-0.21201089,0.14532891,0.185512,0.2442143,-0.009173626,0.03457605,0.3486591,-0.0077440646,0.31092286,0.29603902,0.23671478,0.09687184,-0.5344896,0.028919704,0.18699394,0.11570807,0.16265938,0.080703005,-0.057863086,-0.08214929,0.12832394,0.18630251,-0.056030527,-0.026819555,0.1260417,-0.095349535,-0.19588625,0.20245521,-0.2491158,0.085119575,0.087164566,-0.022516852,-0.018999133,-0.13202755,-0.010392613,-0.07518629,0.09023449,-0.17985995,-0.04247592,-0.18354595 },\n",
      "{0.003834556,-0.24126059,-0.018807124,-0.167967,0.14229168,-0.120409384,0.1688921,-0.05560893,0.14169693,-0.28761792,0.076446414,-0.29281828,-0.31522587,-0.219154,-0.017196745,-0.033582218,-0.06555134,0.056995623,-0.18776819,0.07200547,-0.2891283,0.09281407,-0.2502184,-0.061258618,-0.17587571,-0.04269507,-0.21383663,0.07683972,-0.27973512,-0.007890675,-0.27734554,-0.20088169,-0.20516099,-0.14629088,-0.31771877,-0.32333344,0.01212585,-0.18849258,-0.2928614,-0.18412471 },\n",
      "{-0.09137658,-0.20592746,0.045014713,-0.11640744,-0.04029911,0.083954364,0.2076472,0.041139897,-0.10711933,-0.0026581946,-0.042171884,-0.19948734,-0.19209146,-0.10362731,-0.2666414,-0.27417406,0.07068907,-0.21390045,0.1980011,-0.065598674,-0.1495891,0.06297351,-0.21589641,-0.013341295,-0.14731789,0.06597263,-0.29203078,0.03527409,-0.23222359,-0.22917823,0.092772014,0.04524191,-0.18294002,-0.09422572,-0.20102389,-0.17937483,-0.05648938,-0.031791143,0.006961729,-0.2288883 },\n",
      "{0.0075303735,-0.2074351,0.18383157,-0.006484622,-0.26788536,-0.19282417,-0.15411304,0.086705916,-0.058153257,-0.58738434,-0.1959723,0.30664966,0.08862252,-0.04634613,-0.40676877,0.1372983,0.03261907,0.19968729,-0.1828509,-0.15303302,0.1678157,0.22327211,-0.06360274,0.040313736,0.027371833,-0.09585688,-0.27298644,-0.15639316,-0.15897731,0.027455544,0.22066225,-0.13387278,0.23888521,-0.1838735,-0.21060358,-0.019312546,-0.20004804,-0.02748649,0.275965,-0.34101596 },\n",
      "{0.12849484,-0.08109535,0.15410703,0.09342637,0.181265,0.43888804,0.15033403,0.30720133,-0.45143366,-0.09845832,0.14976487,0.029711366,-0.1473697,0.48140657,0.52006966,-0.21622592,-0.0016972609,-0.14138325,-0.103176534,0.37577307,-0.15633984,-0.06564062,0.032159038,-0.031446353,-0.023018546,-0.31317776,0.010518862,-0.13993466,-0.093078,0.22326037,-0.19535154,0.43625066,-0.040948447,0.24292782,-0.07110968,-0.099990234,0.3015189,-0.16056564,0.08694327,-0.18611106 },\n",
      "};\n"
     ]
    }
   ],
   "source": [
    "print(\"char W[%d][%d]=\"%(L2.shape[1], L2.shape[0]))\n",
    "print(\"{\")\n",
    "for c in range(0,L2.shape[1]):\n",
    "    print(\"{\",end=\"\")\n",
    "    \n",
    "    for r in range(0,L2.shape[0]-1):\n",
    "        print(L2[r,c],end=\",\")\n",
    "    print(L2[r+1,c],\"},\")\n",
    "\n",
    "print(\"};\")"
   ]
  },
  {
   "cell_type": "code",
   "execution_count": 21,
   "metadata": {
    "scrolled": true
   },
   "outputs": [
    {
     "name": "stdout",
     "output_type": "stream",
     "text": [
      "char W[10][20]=\n",
      "{\n",
      "{-1.2115914,0.037342124,-0.98658544,0.07210789,0.18750507,-0.14302722,-0.0800087,0.2185814,-0.35395986,-0.55705667,0.0809525,-0.64065206,-1.0055577,-1.0479017,0.0886749,-0.08754623,-0.2641452,-0.54812074,-0.060374517,-0.11967228 },\n",
      "{-0.6017507,-1.7784722,-0.7278359,0.09200161,0.118414804,-0.19045469,-0.371071,0.1530769,-0.24148451,0.05184363,-0.12731381,-0.8216744,-1.1817058,-0.27261746,0.09255493,-0.0071925027,0.32633922,-1.0492023,-0.050503537,-0.06706495 },\n",
      "{-0.8113109,-0.06860735,-0.49526507,0.0679649,0.17469957,-1.0287733,-0.19364601,0.19417767,0.0027038823,-1.3973743,-0.11203216,-0.5745281,-1.1098894,-0.9904791,0.096503235,-0.0032536094,0.2596323,-0.5031557,0.02029332,-0.11702421 },\n",
      "{-0.7240343,-0.08820589,-0.59101534,0.16168946,0.128002,-1.1231971,-0.8612594,0.25577608,-0.18058537,-1.357296,-0.36679444,-0.6052598,-0.80793965,-0.4817541,0.044488586,0.0022712133,-0.16391589,-0.73512393,-0.0334895,-0.17314889 },\n",
      "{-0.8466997,-0.07719185,-0.5803858,-0.07092532,0.1516259,-1.1509562,-1.3225784,0.26318684,0.1747489,-0.6248749,0.12783787,-0.7086853,-0.74262404,-0.81395,0.01837727,-0.0015267556,0.048801232,-0.28434452,-0.05910677,-0.0146938525 },\n",
      "{-0.6604343,-0.058860656,-0.55865186,0.11586293,0.24337944,-0.6713542,-0.26815942,0.26497832,-0.32927427,-0.036485463,-0.272994,-0.5174675,-0.81939065,-0.93929994,0.05120469,-0.021377007,-0.4908539,-0.7145328,-0.16126704,-0.13893114 },\n",
      "{-0.61078167,-0.064011864,-0.49056324,-0.041166212,0.23637982,-0.545451,-0.09143067,0.09085057,-0.4024417,-0.043835014,-0.21083671,-1.2201247,-0.6625413,-0.79693043,0.12069498,-0.36521128,-0.12591736,-0.9709551,-0.10119054,-0.084841125 },\n",
      "{-0.83279514,-0.03963371,-0.99093956,0.08458243,0.10106887,-0.53947717,-0.62928396,0.24561292,-0.22608534,-1.464406,-0.023328533,-0.7118422,-0.39171115,-0.9716769,0.030332766,0.08758445,-0.031880874,-0.2138614,-0.049487595,-0.110267244 },\n",
      "{-1.2420667,-0.119233824,-2.7856085,0.103734866,0.14439689,-1.0506715,-0.86251974,0.28655648,-0.111076035,-1.2710179,-0.45622632,-0.96420646,-2.4073982,-1.1646284,0.14597511,-0.010601714,0.29193598,-1.281869,-0.08294858,-0.15602297 },\n",
      "{-0.6875942,-0.04187335,-1.1777266,0.0716264,0.18549038,-0.5019901,-0.567425,0.34124428,-0.18409674,-1.098683,-0.3235808,-1.713638,-0.29753378,-1.037863,-0.016883465,0.025624441,-0.21057898,0.06762951,-0.08271776,-0.0944217 },\n",
      "};\n"
     ]
    }
   ],
   "source": [
    "print(\"char W[%d][%d]=\"%(L3.shape[1], L3.shape[0]))\n",
    "print(\"{\")\n",
    "for c in range(0,L3.shape[1]):\n",
    "    print(\"{\",end=\"\")\n",
    "    \n",
    "    for r in range(0,L3.shape[0]-1):\n",
    "        print(L3[r,c],end=\",\")\n",
    "    print(L3[r+1,c],\"},\")\n",
    "\n",
    "print(\"};\")"
   ]
  },
  {
   "cell_type": "code",
   "execution_count": null,
   "metadata": {},
   "outputs": [],
   "source": []
  }
 ],
 "metadata": {
  "accelerator": "TPU",
  "colab": {
   "collapsed_sections": [],
   "name": "Neural Networks on Microcontrollers.ipynb",
   "provenance": []
  },
  "kernelspec": {
   "display_name": "Python 3",
   "language": "python",
   "name": "python3"
  },
  "language_info": {
   "codemirror_mode": {
    "name": "ipython",
    "version": 3
   },
   "file_extension": ".py",
   "mimetype": "text/x-python",
   "name": "python",
   "nbconvert_exporter": "python",
   "pygments_lexer": "ipython3",
   "version": "3.8.5"
  }
 },
 "nbformat": 4,
 "nbformat_minor": 1
}
