{
 "cells": [
  {
   "cell_type": "code",
   "execution_count": 1,
   "metadata": {
    "id": "PcyIxv15AzCm"
   },
   "outputs": [],
   "source": [
    "import tensorflow as tf\n",
    "import matplotlib.pyplot as plt\n",
    "import numpy as np\n",
    "import cv2 as cv\n",
    "import seaborn as sns\n",
    "import sklearn.metrics as metrics"
   ]
  },
  {
   "cell_type": "code",
   "execution_count": 2,
   "metadata": {
    "colab": {
     "base_uri": "https://localhost:8080/"
    },
    "id": "QGkzE-giECdo",
    "outputId": "46b5c31e-1929-490f-a411-d60db6072e01"
   },
   "outputs": [],
   "source": [
    "mnist = tf.keras.datasets.mnist\n",
    " \n",
    "(x_train, y_train), (x_test, y_test) = mnist.load_data()"
   ]
  },
  {
   "cell_type": "code",
   "execution_count": 3,
   "metadata": {
    "colab": {
     "base_uri": "https://localhost:8080/"
    },
    "id": "ceyJtOvw01Qh",
    "outputId": "61efc917-ebfd-40ef-d04d-9e6d00e45351"
   },
   "outputs": [
    {
     "name": "stdout",
     "output_type": "stream",
     "text": [
      "(60000, 10, 10, 1) (10000, 10, 10, 1)\n"
     ]
    }
   ],
   "source": [
    "\"\"\" resizing images into r x r \"\"\"\n",
    "\n",
    "r = 10\n",
    "\n",
    "sz = x_train.shape[0]\n",
    "s  = x_test.shape[0]\n",
    "\n",
    "X_train = np.zeros((sz, r, r))\n",
    "X_test  = np.zeros((s , r, r))\n",
    "\n",
    "for i in range(sz):\n",
    "  X_train[i,:,:] = cv.resize(x_train[i,:,:], (r,r))\n",
    " \n",
    "for i in range(s):\n",
    "  X_test[i,:,:] = cv.resize(x_test[i,:,:], (r,r))\n",
    "\n",
    "X_train = np.reshape(X_train, (60000, r, r, 1))\n",
    "X_test  = np.reshape(X_test,  (10000, r, r, 1))\n",
    "\n",
    "print(X_train.shape, X_test.shape)"
   ]
  },
  {
   "cell_type": "code",
   "execution_count": 4,
   "metadata": {
    "id": "S9xmQi75EDuq"
   },
   "outputs": [],
   "source": [
    "\"\"\" Creating the layers in model \"\"\"\n",
    "\n",
    "model = tf.keras.models.Sequential([\n",
    "    \n",
    "  tf.keras.layers.Flatten(input_shape=(10, 10)),\n",
    "  tf.keras.layers.Dense(40, activation='relu',use_bias=False),\n",
    "  tf.keras.layers.Dense(20, activation='relu',use_bias=False),\n",
    "  tf.keras.layers.Dense(10, use_bias=False),\n",
    "    \n",
    "])"
   ]
  },
  {
   "cell_type": "code",
   "execution_count": 5,
   "metadata": {
    "id": "orRCXTmcRhK8"
   },
   "outputs": [],
   "source": [
    "\"\"\" Specifying the Loss function \"\"\"\n",
    "\n",
    "loss_fn = tf.keras.losses.SparseCategoricalCrossentropy(from_logits=True)"
   ]
  },
  {
   "cell_type": "code",
   "execution_count": 6,
   "metadata": {
    "id": "6DGDNEr0TZOV"
   },
   "outputs": [],
   "source": [
    "\"\"\" Specifying the Optimization Algorithm and \n",
    "     metrics to use for evaluation while training \"\"\"\n",
    "\n",
    "model.compile(optimizer='adam',\n",
    "              loss=loss_fn,\n",
    "              metrics=['accuracy'])"
   ]
  },
  {
   "cell_type": "code",
   "execution_count": 7,
   "metadata": {
    "colab": {
     "base_uri": "https://localhost:8080/"
    },
    "id": "mItqxFxmikoh",
    "outputId": "2b7e6595-fa57-4d10-8a7c-e6a84495ad3c"
   },
   "outputs": [
    {
     "name": "stdout",
     "output_type": "stream",
     "text": [
      "Epoch 1/20\n",
      "7500/7500 [==============================] - 6s 744us/step - loss: 3.6062 - accuracy: 0.5128\n",
      "Epoch 2/20\n",
      "7500/7500 [==============================] - 6s 741us/step - loss: 0.3778 - accuracy: 0.8913\n",
      "Epoch 3/20\n",
      "7500/7500 [==============================] - 6s 770us/step - loss: 0.2709 - accuracy: 0.9241\n",
      "Epoch 4/20\n",
      "7500/7500 [==============================] - 7s 893us/step - loss: 0.2217 - accuracy: 0.9368\n",
      "Epoch 5/20\n",
      "7500/7500 [==============================] - 6s 830us/step - loss: 0.2023 - accuracy: 0.9426\n",
      "Epoch 6/20\n",
      "7500/7500 [==============================] - 6s 821us/step - loss: 0.1927 - accuracy: 0.9445\n",
      "Epoch 7/20\n",
      "7500/7500 [==============================] - 7s 900us/step - loss: 0.1878 - accuracy: 0.9460\n",
      "Epoch 8/20\n",
      "7500/7500 [==============================] - 7s 941us/step - loss: 0.1705 - accuracy: 0.9510\n",
      "Epoch 9/20\n",
      "7500/7500 [==============================] - 7s 957us/step - loss: 0.1712 - accuracy: 0.9519\n",
      "Epoch 10/20\n",
      "7500/7500 [==============================] - 8s 1ms/step - loss: 0.1641 - accuracy: 0.9518\n",
      "Epoch 11/20\n",
      "7500/7500 [==============================] - 7s 970us/step - loss: 0.1579 - accuracy: 0.9538\n",
      "Epoch 12/20\n",
      "7500/7500 [==============================] - 7s 991us/step - loss: 0.1590 - accuracy: 0.9548\n",
      "Epoch 13/20\n",
      "7500/7500 [==============================] - 7s 893us/step - loss: 0.1546 - accuracy: 0.9556\n",
      "Epoch 14/20\n",
      "7500/7500 [==============================] - 7s 894us/step - loss: 0.1551 - accuracy: 0.9572\n",
      "Epoch 15/20\n",
      "7500/7500 [==============================] - 7s 907us/step - loss: 0.1494 - accuracy: 0.9579\n",
      "Epoch 16/20\n",
      "7500/7500 [==============================] - 7s 933us/step - loss: 0.1541 - accuracy: 0.9569\n",
      "Epoch 17/20\n",
      "7500/7500 [==============================] - 7s 953us/step - loss: 0.1512 - accuracy: 0.9581\n",
      "Epoch 18/20\n",
      "7500/7500 [==============================] - 7s 916us/step - loss: 0.1544 - accuracy: 0.9569\n",
      "Epoch 19/20\n",
      "7500/7500 [==============================] - 7s 888us/step - loss: 0.1464 - accuracy: 0.9581\n",
      "Epoch 20/20\n",
      "7500/7500 [==============================] - 7s 906us/step - loss: 0.1497 - accuracy: 0.9582\n"
     ]
    },
    {
     "data": {
      "text/plain": [
       "<tensorflow.python.keras.callbacks.History at 0x214000ec340>"
      ]
     },
     "execution_count": 7,
     "metadata": {},
     "output_type": "execute_result"
    }
   ],
   "source": [
    "\"\"\" Traning the model \"\"\"\n",
    "\n",
    "model.fit(X_train, y_train, epochs=20, batch_size=8, use_multiprocessing=True)"
   ]
  },
  {
   "cell_type": "code",
   "execution_count": 8,
   "metadata": {
    "colab": {
     "base_uri": "https://localhost:8080/"
    },
    "id": "wyMKqKvuTxlq",
    "outputId": "63e6fa1c-b9a9-454d-f49b-45449edcf4e6"
   },
   "outputs": [
    {
     "name": "stdout",
     "output_type": "stream",
     "text": [
      "313/313 [==============================] - 0s 863us/step - loss: 0.2098 - accuracy: 0.9525\n"
     ]
    },
    {
     "data": {
      "text/plain": [
       "[0.20984551310539246, 0.9524999856948853]"
      ]
     },
     "execution_count": 8,
     "metadata": {},
     "output_type": "execute_result"
    }
   ],
   "source": [
    "\"\"\" Evaluating the model \"\"\"\n",
    "\n",
    "model.evaluate(X_test, y_test, verbose=1)"
   ]
  },
  {
   "cell_type": "code",
   "execution_count": 9,
   "metadata": {
    "id": "K2G5-qcVUrj4"
   },
   "outputs": [],
   "source": [
    "\"\"\" Adding the Softmax layer at the end of model \"\"\"\n",
    "\n",
    "probability_model = tf.keras.Sequential([\n",
    "  model,\n",
    "  tf.keras.layers.Softmax()\n",
    "])"
   ]
  },
  {
   "cell_type": "code",
   "execution_count": 10,
   "metadata": {
    "colab": {
     "base_uri": "https://localhost:8080/"
    },
    "id": "cEUaUXUEUzT6",
    "outputId": "bb9d154a-8521-4c2d-a204-f3a695d01df5"
   },
   "outputs": [
    {
     "name": "stdout",
     "output_type": "stream",
     "text": [
      "              precision    recall  f1-score   support\n",
      "\n",
      "           0       0.95      0.99      0.97       980\n",
      "           1       0.99      0.98      0.98      1135\n",
      "           2       0.95      0.96      0.95      1032\n",
      "           3       0.93      0.96      0.94      1010\n",
      "           4       0.95      0.95      0.95       982\n",
      "           5       0.96      0.94      0.95       892\n",
      "           6       0.95      0.96      0.96       958\n",
      "           7       0.98      0.92      0.95      1028\n",
      "           8       0.94      0.94      0.94       974\n",
      "           9       0.94      0.94      0.94      1009\n",
      "\n",
      "    accuracy                           0.95     10000\n",
      "   macro avg       0.95      0.95      0.95     10000\n",
      "weighted avg       0.95      0.95      0.95     10000\n",
      "\n"
     ]
    }
   ],
   "source": [
    "y_prob = probability_model(X_test)\n",
    "\n",
    "y_pred = np.argmax( y_prob, axis=1)\n",
    "\n",
    "print(metrics.classification_report(y_test, y_pred))"
   ]
  },
  {
   "cell_type": "code",
   "execution_count": 11,
   "metadata": {},
   "outputs": [
    {
     "name": "stdout",
     "output_type": "stream",
     "text": [
      "Comfusion Matrix\n",
      " [[ 969    0    4    0    1    1    2    1    2    0]\n",
      " [   0 1108    6    1    1    2    7    1    8    1]\n",
      " [   7    0  987   19    1    0    3    2   12    1]\n",
      " [   0    1    9  967    0   15    1    3    7    7]\n",
      " [   2    3    7    0  928    0   14    5    1   22]\n",
      " [  11    1    0   14    2  837   13    0   11    3]\n",
      " [  11    4    1    1    3    9  921    0    8    0]\n",
      " [   6    3   23   13    8    0    2  949    6   18]\n",
      " [   8    0    6   18    5    5    6    3  911   12]\n",
      " [   5    3    0   10   26    4    0    8    5  948]]\n"
     ]
    },
    {
     "data": {
      "text/plain": [
       "<AxesSubplot:>"
      ]
     },
     "execution_count": 11,
     "metadata": {},
     "output_type": "execute_result"
    },
    {
     "data": {
      "image/png": "[encoded data removed]",
      "text/plain": [
       "<Figure size 432x288 with 2 Axes>"
      ]
     },
     "metadata": {
      "needs_background": "light"
     },
     "output_type": "display_data"
    }
   ],
   "source": [
    "labels = [0,1,2,3,4,5,6,7,8,9]\n",
    "\n",
    "cf_matrix = metrics.confusion_matrix( y_test, y_pred)\n",
    "\n",
    "print(\"Comfusion Matrix\\n\", cf_matrix)\n",
    "\n",
    "sns.heatmap(cf_matrix/np.sum(cf_matrix), annot=False, cmap='Blues', \n",
    "            xticklabels = labels , yticklabels = labels)"
   ]
  },
  {
   "cell_type": "code",
   "execution_count": 12,
   "metadata": {
    "id": "D_ARFX97ZSio"
   },
   "outputs": [],
   "source": [
    "\"\"\" saving the model \"\"\"\n",
    "\n",
    "model.save('mnist_ESP32.h5')"
   ]
  },
  {
   "cell_type": "code",
   "execution_count": null,
   "metadata": {},
   "outputs": [],
   "source": [
    "\n"
   ]
  },
  {
   "cell_type": "code",
   "execution_count": 13,
   "metadata": {
    "colab": {
     "base_uri": "https://localhost:8080/",
     "height": 298
    },
    "id": "EDtQb44_Vboo",
    "outputId": "23cb89cb-dfe2-47d9-c9b5-0872f1f14885"
   },
   "outputs": [
    {
     "data": {
      "text/plain": [
       "<matplotlib.image.AxesImage at 0x214044b6850>"
      ]
     },
     "execution_count": 13,
     "metadata": {},
     "output_type": "execute_result"
    },
    {
     "data": {
      "image/png": "[encoded data removed]",
      "text/plain": [
       "<Figure size 432x288 with 1 Axes>"
      ]
     },
     "metadata": {
      "needs_background": "light"
     },
     "output_type": "display_data"
    }
   ],
   "source": [
    "idx = 253\n",
    "\n",
    "img = X_test[idx:idx+1,:]\n",
    "im = np.reshape(img, (r,r))\n",
    "\n",
    "plt.imshow(im, cmap='gray')"
   ]
  },
  {
   "cell_type": "code",
   "execution_count": 14,
   "metadata": {
    "colab": {
     "base_uri": "https://localhost:8080/"
    },
    "id": "CUIhADDzCGbm",
    "outputId": "ecc1ffdd-0fed-4202-8eb1-8d50790b2158"
   },
   "outputs": [
    {
     "data": {
      "text/plain": [
       "array([[  0,   0,   0,   0,   0,   0,   0,   0,   0,   0],\n",
       "       [  0,   0,   0,   0,   0,   0,   0,   0,   0,   0],\n",
       "       [  0,   0,   0,   0, 232, 185,  76,  64,   0,   0],\n",
       "       [  0,   0,   0,   0, 226,   0,   0,   0,   0,   0],\n",
       "       [  0,   0,   0,  70, 214, 130,   4,   0,   0,   0],\n",
       "       [  0,   0,   0,   4,   0,   5, 222,   0,   0,   0],\n",
       "       [  0,   0,   0,   0,   0,   0, 209,   0,   0,   0],\n",
       "       [  0,   0,  73,   7,   0,  59,  59,   0,   0,   0],\n",
       "       [  0,   0,   0, 215, 179, 140,   0,   0,   0,   0],\n",
       "       [  0,   0,   0,   0,   0,   0,   0,   0,   0,   0]])"
      ]
     },
     "execution_count": 14,
     "metadata": {},
     "output_type": "execute_result"
    }
   ],
   "source": [
    "np.int32(im)"
   ]
  },
  {
   "cell_type": "code",
   "execution_count": 15,
   "metadata": {
    "scrolled": false
   },
   "outputs": [
    {
     "name": "stdout",
     "output_type": "stream",
     "text": [
      "Predicted by model : 5\n"
     ]
    }
   ],
   "source": [
    "print(\"Predicted by model :\", np.argmax( probability_model(img).numpy(), axis=1)[0] )"
   ]
  },
  {
   "cell_type": "code",
   "execution_count": null,
   "metadata": {},
   "outputs": [],
   "source": []
  },
  {
   "cell_type": "code",
   "execution_count": 16,
   "metadata": {
    "scrolled": false
   },
   "outputs": [],
   "source": [
    "L1 = model.weights[0].numpy()"
   ]
  },
  {
   "cell_type": "code",
   "execution_count": 17,
   "metadata": {
    "scrolled": true
   },
   "outputs": [],
   "source": [
    "L2 = model.weights[1].numpy()"
   ]
  },
  {
   "cell_type": "code",
   "execution_count": 18,
   "metadata": {},
   "outputs": [],
   "source": [
    "L3 = model.weights[2].numpy()"
   ]
  },
  {
   "cell_type": "code",
   "execution_count": 19,
   "metadata": {},
   "outputs": [
    {
     "name": "stdout",
     "output_type": "stream",
     "text": [
      "float L1[100][40]=\n",
      "{\n",
      "{-0.03260249,-0.06414746,0.19837423,-0.055651784,0.06970988,0.20601447,0.11822118,0.01776819,0.035808593,-0.17961761,-0.13555819,-0.08031066,0.07552503,-0.062656626,-0.07688308,0.012911886,-0.18040112,-0.059948772,0.1432691,-0.10453721,-0.17583343,-0.055393398,-0.094376706,0.11037539,0.045298234,-0.112740055,0.16421853,-0.019632667,-0.027120963,0.16987385,-0.12057469,0.091568604,-0.081379786,-0.07742567,0.17900701,-0.1664394,0.058779344,0.06363799,0.05346985,-0.071795076 },\n",
      "{0.063822106,0.21867478,-0.0047013313,0.1778975,0.048819527,0.1648248,0.0635827,-0.096083865,0.19731282,0.04616345,0.15054975,0.05324708,-0.016598478,-0.19880088,-0.0839787,0.15751095,-0.08399824,0.05790429,-0.12186282,0.14664818,-0.084649555,-0.25597158,-0.24654683,-0.14789166,0.13702556,0.07050039,-0.059252545,0.077437565,0.05277048,-0.17707646,-0.13691626,0.07488631,0.0027817339,-0.10657167,0.048687205,0.13320996,0.11049908,-0.080823705,0.037928157,0.24325499 },\n",
      "{0.24896026,0.60191727,-0.44350448,0.59888244,0.055064593,0.82284874,0.20528664,-0.35082966,-0.011419895,-0.28407794,-0.059011474,-0.08697821,0.1311601,-0.18313691,-0.09056236,-0.20524797,-0.6640574,0.12423838,-0.15230949,0.040842373,0.14491531,-0.15151915,-0.35569057,-0.009989575,-0.47271997,-0.018251384,0.42365992,-0.08256964,0.52424526,0.28463194,-0.071925096,-0.048811633,0.49815467,-0.17442091,0.12403938,-0.09568683,0.98309827,0.11640802,0.29392263,0.07342824 },\n",
      "{0.23859452,1.0444351,-0.89246655,1.2204133,0.1339475,1.5239223,-0.20041005,-0.60616684,-0.2311641,-0.3077158,-0.07075163,-0.4740468,0.37276635,0.26094845,-0.4512458,0.45693603,-1.4130039,0.4859331,-0.47588846,0.015432296,-0.06410116,-1.1359291,-0.7630209,-0.27240863,0.011179602,0.34841883,0.8896612,0.051256415,0.15756632,0.71594447,0.22986752,-0.10554382,0.93958956,-0.80669695,0.13982885,0.20625962,1.8714601,0.03900239,0.2761941,0.081655174 },\n",
      "{-0.24919179,0.7746945,-0.7933674,0.29717964,0.08606558,1.0022863,-0.5942502,-0.87178475,0.29843113,-0.1595571,0.052344967,-0.09745824,-0.18459894,0.29140475,0.22146468,0.52617794,-0.83482534,0.09195023,0.1083804,0.19047378,-0.023142993,-1.0016747,-0.19408926,-0.4434188,0.027306335,0.5987813,0.24407606,-0.27420518,-0.43872643,0.021342443,-0.0912615,-0.22073987,0.88442945,-0.43273732,0.024867078,-0.015646415,1.1622635,-0.18031079,0.26379564,-0.6040315 },\n",
      "{-0.27015746,0.56106424,-0.74574184,0.16290131,-0.037648175,1.0068923,-0.22163318,-1.2181182,0.037952077,-0.12466077,-0.10147418,0.09708282,-0.8227652,-0.09475155,0.58001566,0.7568348,-0.3225733,0.28842303,0.3985482,-0.16872817,0.22160092,-0.55226415,0.46673596,-0.23975559,0.6270674,0.2656507,1.10713,0.31301063,-0.34039065,0.4681896,0.69436735,0.011907288,-0.41891494,-0.3234232,0.4496952,-0.10666178,0.63506925,-0.35685772,0.027425325,-0.027380804 },\n",
      "{0.43828833,0.9954608,-0.8331633,0.6335323,-0.08403655,0.30373222,-0.32478794,-0.4365702,-0.14309943,-0.2112293,0.4422193,0.15487137,-0.5680874,-0.543307,0.12095787,1.046378,-0.20094354,0.8659655,0.022980738,0.08397672,-0.06284116,-1.0891902,-0.0031661137,-0.054285318,0.30663675,0.4169691,0.9840621,-0.64363927,-0.23947664,0.9171378,0.1481359,-0.048471596,-1.0479324,-0.050708722,0.24914283,-0.0061289836,1.4747758,-0.06317394,-0.15763943,0.1751119 },\n",
      "{1.054111,1.3938189,-0.21337768,0.8679471,-0.059063457,0.11837569,0.06856708,-0.14727002,0.046957664,-0.31725585,0.0063316463,-0.32298756,0.42504168,-0.55517155,-0.30432224,0.137897,-0.2180459,0.36657938,-0.20346178,-0.08747507,0.07612501,-0.8868811,-0.50991714,-0.02592726,-0.16669631,-0.035580322,-0.16199942,-0.10213138,1.1863284,-0.8583741,0.10079267,-0.050714355,0.21303836,0.008315728,0.17994554,0.13317202,0.9484821,-0.1696124,0.10139041,0.18848525 },\n",
      "{0.088861816,0.5554518,-0.49673936,0.27041337,0.08824439,-0.0118693225,0.24338129,-0.18946478,0.19496259,0.07873109,-0.120524645,-0.22306062,-0.07207296,0.10109141,-0.1968318,0.034291893,-0.007508245,0.05592649,0.04973327,0.16644932,0.019691005,-0.23642266,-0.26343632,0.12782691,-0.026868813,0.01430437,-0.10363535,0.12790681,0.24863686,-0.19410187,0.082412675,0.08473517,-0.07327484,-0.18520023,-0.004825279,0.08260854,0.30952844,-0.5179569,0.10527393,0.31246644 },\n",
      "{-0.05969636,0.02475433,-0.20405048,0.08402525,-0.005929932,0.07564126,0.053669736,-0.08688332,0.058447674,0.18625312,0.16526298,0.16313691,-0.023238316,-0.17857341,0.025237396,-0.069597945,0.072365806,0.083106294,0.1833166,0.015100583,0.18522032,0.005964294,0.10899831,0.13146178,-0.034364298,-0.13666642,-0.05488965,-0.059118792,0.03641717,0.12414287,0.12542973,0.15379505,0.18830575,0.16959931,-0.17423865,-0.0127877,0.16780107,-0.14090276,-0.086931445,-0.03401816 },\n",
      "{-0.07508248,0.19817993,-0.033679232,-0.08399389,0.32719144,0.22360991,0.16534962,0.084809616,0.18634586,0.11092572,-0.09873081,-0.016797334,0.13928138,-0.16611533,-0.08037676,-0.13707045,0.02790536,-0.24027346,0.12541689,0.16066678,0.069930956,0.051250745,-0.08043404,0.0761597,0.10249967,0.23251806,0.1869268,-0.15602618,0.17460461,0.31865686,0.04644628,0.46196017,0.16563256,0.026648074,-0.08101525,0.015606042,-0.23682939,0.16302545,-0.12327133,-0.012479752 },\n",
      "{0.19016723,-0.09818126,-0.23648573,-0.38495284,1.0447483,-0.5323906,0.0353411,-0.23953766,0.5130202,-0.15764655,0.50069165,0.017531471,0.28483933,-0.56083155,0.7100629,-0.12477179,0.20946953,0.38945755,0.47695664,-0.094460405,-0.20930946,-0.18704958,-0.31032598,0.18631744,0.013038869,-0.5507388,0.30133983,0.5451018,-0.09442379,-0.9069221,-0.020690441,0.8208047,0.16807275,0.44561583,0.62835956,0.5449808,-0.042147484,-0.5267992,0.20526592,-0.52288496 },\n",
      "{-0.034134425,-0.31309173,-0.17448537,0.44704676,0.36119813,-0.22579004,-0.02497674,-0.030721152,0.17361419,0.20625615,-0.03795523,-0.52185076,0.183283,-0.18536462,-0.6223048,0.3050239,0.4109095,0.4189507,0.5932595,-0.7677707,0.23691094,-0.06537623,-0.45154595,0.4218845,-0.64672613,-0.3613657,0.7177252,0.14597932,0.76507616,0.22485721,-0.46716946,0.46350208,0.61130226,0.14747213,-0.25424182,-0.77463305,0.48291692,0.2964678,0.23522839,-0.046125103 },\n",
      "{-0.48108035,-0.30349267,-0.13832536,-0.053528666,0.48591596,0.344795,0.32595587,-1.0053742,0.42069224,0.23283456,-0.17803434,-1.3820367,-0.10578676,0.19617197,0.5081796,0.35315034,-0.15279078,-0.11348701,-0.097279705,-0.13401727,-0.27395853,0.1300823,-0.9635332,0.092216976,-0.34309286,-0.096297935,0.79770833,-0.5307333,0.23894078,0.21991885,0.048825983,0.6063449,0.6493852,-0.83867913,-0.1754845,-0.38859123,0.19919576,-0.54046685,0.22335495,0.30225897 },\n",
      "{-1.0042078,0.03812588,0.0011482576,0.21838821,0.17058626,0.1410705,0.37873855,0.06353605,0.021819156,0.09320401,-0.41182786,-1.1890572,-0.027853625,0.10771408,0.06266248,0.28582805,-1.8242327,0.05837697,-0.41815105,-0.35957026,0.6884399,-0.097479664,-0.98797494,0.082685664,-0.2176051,-0.07266829,-0.8227439,-0.3034935,-1.9469051,0.068752125,-0.110645756,-0.26375738,-0.14020859,-1.9068806,-0.45120546,0.62318003,0.18408647,-0.8860208,0.013379333,-0.17099395 },\n",
      "{0.076669015,0.14557447,-0.2784672,-0.69614553,0.2095699,-0.34163466,0.039929867,-0.017877655,0.21222533,0.26686305,-0.09674492,-0.9315581,-0.12954894,0.23379546,0.13116635,0.02941638,-0.020018412,0.057436883,-0.25908256,-0.16311061,0.038172178,0.016505208,-0.5310028,-0.3891544,-0.09084692,0.05299955,0.12936762,0.17088714,-0.32712784,-0.075468674,0.16190466,0.11679337,-0.9791642,-0.69534975,-0.37300566,0.21494716,0.11792208,-1.2917984,0.07245094,-0.100667864 },\n",
      "{0.21827689,0.32642075,0.32444727,-0.49242568,-0.1402289,0.06285864,0.20183127,-0.30311933,0.2255276,-0.038795162,-0.050247304,-1.2451836,0.030963626,0.18338312,0.1241338,0.0157393,-0.028838122,-0.23629367,-0.35876748,-0.078666635,-0.018512007,-0.101890884,-0.62182677,-1.4060694,-0.24217373,0.025812397,-0.20982021,0.007759657,0.059385177,0.2542996,-0.1713981,0.029060537,-0.2129852,-0.205948,0.08341567,-0.051315654,-0.0840305,-0.712094,0.38407534,0.15737942 },\n",
      "{0.0275008,0.453693,0.33456606,0.12920535,-0.20187214,-0.039575662,-0.2988883,0.037175864,0.33221057,0.2531451,-0.05123486,-1.1040744,0.120678075,0.05898742,0.15750349,0.13641232,-0.07185743,-0.67702806,-0.022965673,-0.46481457,0.33735642,-0.14252551,-0.44207472,-0.7705322,-0.07876843,0.51155263,-0.7287529,0.052696183,0.13254675,0.024601856,-0.8366111,0.4846929,-0.02537693,-0.24841172,-0.6814984,0.02103471,0.27520987,-0.23651342,0.3472092,0.15096076 },\n",
      "{-0.18775116,-0.3277991,0.56290096,0.51809937,-0.5678839,-0.66974086,-0.18578218,0.57355493,0.1783435,0.20156719,-0.23865838,-0.1854888,-0.0038246273,-0.35999337,0.109724365,0.0291623,0.11644512,-0.302988,0.010241925,-0.13983585,0.1025784,-0.08269859,-0.19672824,-0.15973246,-0.27190804,0.7773846,-0.25246647,-0.09202615,0.37945807,-0.8867127,-0.5048167,0.49682045,0.08563849,0.86932784,-0.3948777,0.30609825,-0.13877334,-0.112363614,-0.112822086,0.47932345 },\n",
      "{-0.78201056,0.6996243,0.17588547,0.04569623,-0.2875629,0.117649816,0.7020474,-0.4815518,0.4657754,0.4552196,0.11713145,-0.1247435,-0.2563034,-0.10252121,0.3175336,-0.22376315,0.21305527,-0.0842746,0.45484972,0.0619516,-0.10089891,0.13143504,-0.3077972,-0.20663315,0.08998198,0.09282464,0.03901839,-0.43244332,-0.17632556,0.09332308,0.12592687,0.28016794,-0.013339566,-0.043353647,0.13430473,0.08431009,-0.16221738,0.024755616,-0.023380958,0.2067347 },\n",
      "{0.16932462,0.20844288,0.16348742,0.089239635,0.8676084,-0.022861423,0.91149163,-0.19379286,0.8255002,-0.3940276,0.5473958,0.2821498,-0.35599926,-0.4601818,-0.51701874,0.023195265,-0.086731926,0.68817836,-0.16653733,0.043259673,-0.008860835,-0.60122913,0.025740907,0.06847371,-0.52067447,0.20085254,0.8122415,0.03519903,-0.3327902,1.0726005,0.017026499,1.1804181,-0.29449064,-0.046519663,-0.11307413,0.35211793,0.5208463,0.4260703,0.3345368,0.3019748 },\n"
     ]
    },
    {
     "name": "stdout",
     "output_type": "stream",
     "text": [
      "{-0.11997507,-0.4651328,-0.34593627,0.1736762,0.19948316,0.09059643,0.35600632,-0.4165129,0.4871122,0.16435178,0.52972215,-0.22998148,0.18073651,-0.050579198,-0.5134415,-0.3387041,0.2195023,0.110028274,0.017039068,0.14905855,0.07211561,0.11522124,-0.11877455,0.5307413,-0.21316889,-0.7958161,0.72403,0.45357117,0.036200833,-0.07687243,-0.09308198,-0.27385566,0.47865707,0.27706462,0.17069119,0.08463817,0.09924261,-0.27525732,0.14444013,0.14350244 },\n",
      "{-0.46727258,-0.136409,0.06556698,0.143608,0.54315084,0.11530025,0.277207,-1.0182348,-0.13645294,0.03145436,-0.102570236,-0.30962113,-0.49420667,0.1841765,-0.8191586,-0.25430372,0.04920586,0.25811496,0.1159145,0.3838754,-0.47641164,-0.065630116,-0.43658042,0.47615182,-0.049963113,0.21858391,0.057819817,0.10708965,0.38231215,-0.34880906,-0.49919736,-0.020497447,0.2305809,0.17269056,-0.7392233,-0.8639276,-0.27933326,0.40311915,0.39945123,0.041604318 },\n",
      "{-2.0382543,-0.13953103,0.13527365,-0.22721647,0.4001806,0.27335864,0.24091312,-0.05509608,-0.023897603,0.044160374,0.19900419,0.0044675563,0.14048864,-0.11225288,0.0055383085,0.08237902,0.17441201,0.025258888,0.09947096,0.08523505,-0.57650286,0.17747359,-0.3013047,0.096714005,-0.1721195,0.060522124,-0.15821736,-2.4868672,-1.0112635,0.054574613,-0.010582084,-0.010417902,0.24341571,0.08846071,-0.11819795,-0.27104586,-0.27638367,0.26885355,0.17776337,-0.1985648 },\n",
      "{-0.24042255,-0.022749228,0.16730306,0.2624067,0.15119436,-0.3695629,0.20495287,-0.09554784,-0.10338058,0.16756035,0.22995713,-0.22877795,0.023760755,0.06422166,0.0966618,0.19285426,-1.9339375,-0.15594818,-0.16453014,-0.36258203,0.26530287,0.04305274,-0.022714768,-0.18993649,0.06758105,0.07669001,-0.13288401,-0.7489976,-1.0716096,0.16235995,0.07857727,0.23623624,-1.4792922,-0.027671596,0.020800946,-0.0076534403,-0.047740873,0.38907412,0.23637831,-0.052115746 },\n",
      "{0.11809646,-0.028208865,-0.039659962,-1.8959252,0.139223,-0.18921149,0.20467912,-0.01179151,0.020430945,-0.06425744,-0.081097275,-0.27539957,-0.07409924,0.23895295,0.22029413,-0.15669288,0.08773502,-0.03152206,-0.623247,-0.1361492,-0.15013857,0.056674935,0.16181275,0.14472781,-0.0739036,0.16130592,-0.40402564,0.26506862,0.14578037,0.19142178,0.1916356,0.16506459,-1.0206039,0.29277897,-0.04070676,0.11583351,-0.018403921,0.034761604,0.108744554,-0.14903182 },\n",
      "{0.063736826,-0.39555678,-0.33479768,0.32102215,0.16934453,-0.18475094,0.23067798,-0.49774274,0.016867016,0.13423587,0.06005557,-0.33929798,0.15510194,0.19887249,0.12616904,0.13324541,0.2549526,0.035927076,-0.7854229,-0.2658658,-1.582876,0.055797767,0.5127435,-0.81945455,0.16533665,0.5837825,-0.20597167,0.1922752,0.052429106,-0.053994793,-0.3093203,0.009200034,-0.093735754,0.17937472,-0.1113746,0.40058988,-0.2606375,-0.09186061,0.24895841,-0.03394824 },\n",
      "{-0.09806379,-1.4260153,-0.18637076,0.33536673,0.047896795,-0.07724757,0.126999,-0.0938686,0.05396323,0.016271159,0.023702577,-0.09202694,0.17327525,0.19586915,0.07841377,-0.005892065,-0.15575527,-0.007916305,0.6548444,-0.71396583,0.37781778,0.14351961,0.27432272,-1.2779089,0.16057636,0.92697304,0.007011733,0.18671338,-0.083993375,0.06594622,-0.68934923,-0.028806385,-0.1889951,-0.048843753,0.18651718,0.0076498655,-0.34787455,0.073364414,0.1591247,0.23101442 },\n",
      "{-0.51488584,-1.8766127,-0.3654937,0.05502444,0.051257927,-0.26562908,-0.107193515,0.39115766,0.47776175,0.3896526,0.05294665,-0.1583175,-0.5479756,0.2355268,0.08708336,0.17445846,-0.1318406,-0.32286313,0.3543531,-0.04276457,0.18354383,0.27121007,-0.029256614,-0.5055437,0.13581912,0.8127446,-0.121672556,0.44454324,0.38893786,-0.3376148,0.28699973,0.12201211,-0.24390303,-0.6475499,0.31537467,0.13434228,-0.19883046,0.5115464,0.2131686,-0.10771469 },\n",
      "{-0.8849889,-0.27090427,0.04247675,0.42264208,0.019599894,0.26194078,0.22901794,0.49022105,0.5746455,0.517654,-0.70797956,0.35872138,-0.06919003,-0.8016579,-0.07569568,-0.45840955,0.31096014,0.23383832,0.44531205,0.078184746,-0.16799834,0.57967395,-0.30750299,-0.20042144,-0.76079315,0.68521076,-0.7117835,-0.22265562,0.23622653,-0.4797216,-0.12749428,-0.12886897,-0.52905256,-0.4077108,0.7101444,0.24222134,0.092595056,0.39052224,-1.086065,-0.21052025 },\n",
      "{-0.16425169,0.2619061,0.16344619,-0.22358324,0.49400565,-0.16542849,-0.23375876,-0.096145,-0.07599372,-0.18692267,0.7730249,-0.27268043,0.63788307,-0.18854955,-0.43128234,0.22862066,-0.124058485,0.1644193,-0.06342425,0.5458542,-0.15122478,-0.960397,0.44172823,-0.03879114,0.43926948,0.2580037,1.3207464,0.3623524,-0.71956307,-0.073561795,-0.0013872046,0.11871774,-0.024258709,0.7541185,-0.18145871,-0.041481502,-0.38023752,0.7186699,0.641649,0.22738734 },\n",
      "{0.019506877,-0.87848145,-0.5009426,0.3208048,-1.1132056,0.06372264,0.3153388,-0.043848787,0.1850208,0.4318599,0.015670933,0.030105999,0.020643609,-0.047309812,-0.09379132,-0.14350402,0.12643789,0.35634243,0.078713864,0.5120584,-0.23917814,0.24251947,-0.48964244,0.17484504,-0.071772166,-0.19808462,0.22698982,0.015729627,0.14296238,0.5477094,-0.49575678,0.2904767,0.0711657,0.61080533,-1.1626585,0.2911462,-0.6472131,-0.18639107,0.12310321,0.21684515 },\n",
      "{-1.3220417,-0.20815508,0.010307201,-0.29290172,-1.6346445,-0.080579534,0.16876219,-1.631333,-0.1684264,-0.26380205,0.023950411,0.036486547,0.07956318,-0.38987386,0.110540666,-0.077860065,-0.07452201,0.51709956,-0.053558297,-0.0068364455,0.12370237,0.2765413,0.18714248,-0.31670308,0.0868458,-0.20173061,0.11717554,-0.100198105,0.14791425,0.2816008,0.19109587,0.13465245,0.25296563,0.25599954,-0.29344577,-0.27999547,-0.276144,0.032845523,0.16633053,0.27214682 },\n",
      "{-0.31848857,-0.09459811,0.16350013,0.025548464,-1.9524829,0.55612445,0.10836107,-0.45961922,-0.032742452,0.2910898,-0.01248798,0.1910756,-0.05982072,-0.2200616,0.06516646,0.265571,0.23663878,0.5217004,0.040329933,0.35976386,0.043529566,0.17907317,0.040553827,-0.13796195,0.07248154,-0.019194696,-0.07123648,-0.7222669,-0.6520816,-0.09883,-0.33744624,0.121236086,-0.20964274,0.2902165,0.055783935,0.11577774,-0.21981272,0.21999675,0.30536848,0.06787735 },\n",
      "{0.017764289,0.0006585373,-0.017289324,0.09565229,-0.8345662,-0.31988,0.25941068,0.29107636,-0.015044443,0.1554157,0.185778,0.44125953,-0.12269229,-0.16664365,-0.07885609,-0.11856653,-0.8924549,0.0064549665,-0.035383437,0.18844469,-0.09514039,0.13391393,-0.104348816,0.4906747,0.3589897,-0.026305838,0.25865573,-0.43069413,-0.42919794,-0.36169663,0.19730848,-0.07336249,-0.79912436,0.12307325,0.16043825,0.045212436,-0.13838758,0.0777503,0.02408639,-0.10958915 },\n",
      "{0.12155588,-0.7170583,-0.04239901,-1.13269,-0.10798374,-0.20763846,0.26767656,-0.33947378,0.077666365,-0.09250451,-0.057434574,0.32853538,0.007719888,-0.60163635,-0.32705605,-0.124902636,0.048320103,0.17289282,-0.95491546,-0.48921138,-0.0770892,0.15546331,-0.012466455,-0.0847993,0.35383615,-0.73742896,0.17833978,0.17420276,0.33833393,-0.31203425,0.07047098,0.10152685,-0.22963138,0.07919,-0.04293957,-0.37162358,-0.18788216,-0.25031108,0.13993643,-0.3784518 },\n",
      "{-0.3180187,-1.0963241,0.0016213708,0.44864517,-0.13369916,-0.055120263,0.08178162,-0.19809234,0.009461951,-0.2159808,0.24181782,-0.045134056,0.20869245,0.373421,-0.034797497,-0.023364993,0.031178901,-0.0012601464,-0.36479908,-0.20174468,-1.8531709,0.23554382,-0.04318235,-0.8941054,0.44711438,-1.1939107,0.15226923,-0.00227935,0.018951405,0.15728031,-0.32956615,0.01830604,0.19964033,0.15403163,0.15046905,-0.22813934,-0.28128052,-0.12326905,0.009676594,0.023985174 },\n",
      "{-0.36569047,-0.71051157,-0.21710825,-0.123581424,0.006595922,0.39581758,0.05338679,0.06587743,0.021946387,0.14376564,0.25605726,0.08495423,-0.13168107,0.23276792,-0.08064762,0.014177402,-0.61028284,-0.18975234,0.5946664,0.21961828,0.0022588482,0.1973477,0.24718323,-0.64760506,0.37459344,-1.7453204,0.09951442,-0.2118345,-0.582733,0.15059583,-0.5081138,0.061719514,0.17132434,-0.13307051,0.49223623,0.17363396,-0.16236876,0.33244815,0.011751631,0.0864215 },\n",
      "{-1.3940303,0.19552547,-0.16228826,-0.3260769,0.050051015,0.035875194,0.283802,-0.104176246,0.008064921,0.5278657,0.08379418,0.007362877,-0.08618538,0.33801463,0.43453497,-0.48725516,-0.30412787,-0.030036848,0.18713248,0.33748922,-0.030881468,-0.1583839,0.19523627,-0.8693419,-0.0039061161,-1.5739398,0.17204306,0.09337512,-0.45751497,-0.0074835485,0.72270083,0.11490221,0.2815161,-0.4211487,0.82399637,-0.10796406,-0.5385633,0.45248258,-0.0067868745,0.015460112 },\n",
      "{-0.21842536,0.074357286,-0.05242311,-0.18898499,0.13994007,-0.21436778,0.25081673,0.019885447,0.3357968,0.4328006,-1.0777249,0.2947581,-0.5538656,-1.144423,0.25774944,-0.76177996,-0.37652576,0.21924473,-0.13321227,-0.058788348,0.5747217,0.45016563,-0.15848042,0.10773859,-0.45963582,0.37455407,-0.24946798,0.55521476,0.10628883,-0.42933944,0.90095216,0.31214067,0.47877294,-0.32760325,0.84436125,0.042409986,-1.1856107,-0.29251266,-0.9652162,0.27938658 },\n",
      "{-0.10276038,0.13789937,-0.23996548,0.08502984,0.15004338,-0.20809406,0.13727696,-0.57846195,-0.17626497,-0.4263269,0.43845975,0.31970367,-0.14942446,0.18142542,-0.59671485,-0.18422525,0.021749863,0.26733923,0.25094053,0.55630696,-0.02306844,-1.102572,-0.3856738,0.009918702,0.9971718,0.28038073,1.4642553,0.0068997145,-0.025142131,-0.32297105,-0.14445387,0.12882668,-0.11520718,0.62093127,-0.009459525,-0.48421234,-0.17429379,0.1230501,0.7724207,0.38054088 },\n",
      "{0.39091504,-1.3339125,0.21666159,-0.14811382,0.35292554,-0.023319544,-0.17587224,-0.6154206,-0.16880822,-0.01980222,-0.096238695,0.10324471,0.03685357,-0.3616781,-0.1673932,-0.0068090446,-0.26905838,0.40159234,0.038100734,0.19772223,0.12584837,-0.20086658,-0.2845188,-0.8077568,0.038920797,0.3030075,0.25628403,0.48184836,0.022293758,-2.4728477,0.056359325,-0.025278568,-0.03070839,-0.09277557,-0.40734887,0.04303941,-0.63626915,0.08006863,-0.38930807,0.18014263 },\n",
      "{-1.1778253,0.23045279,0.14080675,-0.10163646,0.17196247,0.2217417,-0.34717628,-0.10843031,-0.68748736,0.054766133,0.3800682,0.10441432,-0.22896153,-0.10672423,0.047170416,-0.17466776,0.15581898,-0.28207043,0.14468327,0.030507958,-0.16861537,0.08294383,-0.021143641,-0.1551224,0.12744258,0.21889143,0.04099483,-0.64009535,0.16166657,-2.765569,-0.14909221,0.056312557,-0.18799269,-0.09284532,0.090633415,0.044767626,-0.23383103,-0.0063882726,0.00023156167,0.09248438 },\n",
      "{-0.1245506,-0.19888683,0.008646727,0.117506355,0.41681686,0.33890927,-0.32388243,0.12514985,-0.18423066,-0.32212904,0.19581696,0.08209546,-0.031938016,-0.122387946,0.12954357,-0.31320208,0.3504438,-0.67322516,0.078721315,0.43012258,-2.2119346,0.1927178,-0.08041545,0.14524652,0.048643187,0.07975172,0.1733718,-0.9430423,-0.44406524,-1.4210916,-0.18462282,-0.105785966,-0.13222814,-0.059367612,0.25402755,0.19696426,0.033441275,-0.04899919,0.1534423,0.11685636 },\n",
      "{0.066727795,0.013207547,-0.37986287,-0.077246964,0.4344045,-0.30967802,-0.06468098,0.34694585,0.14188321,0.057818417,-0.47922987,0.13327011,-0.08006836,0.079869986,-0.045369055,-0.5368229,-0.1495519,-0.4334863,-0.33228597,-0.18455862,0.029026784,0.023567507,-0.34206617,0.18702744,-0.11723739,0.10094316,-0.06794645,-0.2771613,0.24723423,-0.3685486,0.04196014,-0.093048535,-0.09498922,-0.1917296,0.12348574,0.07002975,-0.28740463,0.03557106,-1.840677,-0.012510874 },\n",
      "{0.047273993,-0.10288007,-0.19748063,-0.1177281,0.100093134,-0.109536394,-0.3074808,-0.35170808,0.13016917,0.23105471,-0.7773248,-0.17085566,0.09449253,-1.3308691,0.27692935,0.0036449232,0.033487145,0.046095468,-0.61024374,-0.2941826,0.11722592,0.30313537,-0.32483062,-0.17503169,-0.20713307,-0.16923021,-0.28488407,0.24352707,-0.18250932,0.114488214,0.09457464,0.03618323,0.3842493,0.15843749,-0.52377164,0.12894948,-0.19683456,0.17599611,-0.086659454,-0.21035945 },\n",
      "{-0.31725526,0.31226778,-0.05235039,0.052787162,0.00076371356,-0.061705813,-0.24902754,-0.02568834,0.14436804,0.048823144,-0.15384512,-0.3829305,0.0327294,-0.10016415,-0.086546205,-0.098608546,0.0070040086,0.020144694,0.043979995,-0.013723794,-0.2170218,0.038182225,0.2143611,-0.40220466,0.027592197,-0.14401412,0.17785887,0.15025249,-0.1717383,0.09636148,-0.53759795,0.052645575,0.14119157,0.202203,-1.3403306,0.120927565,-0.13821883,-0.05265238,-0.17909685,-0.08209027 },\n",
      "{-0.23124622,0.2175488,0.08333684,0.028145824,-0.1060882,-0.0511325,-0.33050728,-0.0703253,-0.39749148,-0.16138482,-0.12945254,-0.33272788,-0.22177942,-0.05293504,0.35060203,-0.20243618,-0.087006696,0.0067353724,0.13281155,0.14605425,0.510625,-0.3373449,0.5052161,-0.41127828,0.46698084,-0.47864217,0.175341,-0.31601566,-0.31840605,0.017918272,-0.47141084,0.04347188,0.029313546,-0.07424282,-1.8692452,0.0970179,0.0015775315,0.22835714,-0.3318647,0.19292228 },\n",
      "{-0.081344336,0.19436012,0.03933749,0.13124847,-1.1097988,0.053541604,-0.50581217,-0.4719954,-1.0567474,0.52351695,-0.2619261,0.14929116,0.19604297,-0.049699,0.18728542,-0.79190254,0.025058262,-0.09282443,-0.22125626,0.4076809,0.35407987,-0.109584786,0.09720023,0.086584784,0.46150696,-0.7672983,0.19768243,-0.160227,-0.35963973,0.1377909,-0.06472542,0.11708058,0.4131871,-0.07958753,-1.4013761,0.2723319,0.3364003,-0.15705802,-0.036577497,0.37001088 },\n",
      "{-0.34545523,-1.3896365,-0.42074415,-0.17115694,0.051270448,-0.41813904,0.23787038,-0.06989096,-0.45755267,0.27514648,-0.21788374,0.24399143,-0.32668027,-0.2650076,-0.3021896,0.486706,0.5616424,0.16983135,0.27374774,-0.2654511,0.46746212,-0.2613436,0.3798366,0.07382216,-0.020711709,-0.30300075,0.4679996,-0.56822973,-0.66209567,0.4461847,0.76508,-0.11901644,-0.059027888,-0.84937125,0.55969536,0.12015281,-0.34160206,0.016574036,-0.089091964,-0.36208537 },\n",
      "{-0.0040165484,0.24784184,-0.11156153,-0.028778661,0.5506231,0.08979509,0.6607324,-0.5011351,0.8174339,-0.0067985835,0.18761274,0.07443769,0.043802623,-0.35717803,-0.32041708,0.15333287,-0.09728391,0.32875842,-0.07985248,0.26870444,0.09625694,-0.30870098,-0.4044747,-0.027150558,0.20251794,0.32333404,0.37252164,-0.1607152,-0.075085774,0.745829,-0.14837801,0.09971762,0.19259913,0.10029527,0.4569114,0.28470907,-0.36355406,0.09367382,0.1563913,0.12092456 },\n",
      "{-0.1527896,0.11296019,-0.033854205,0.05026988,0.49372864,-0.23990192,-0.36669996,-0.03517827,-0.094525,-1.2199308,-0.960579,0.05355127,0.07573845,-0.13951832,-0.19142321,-0.6972552,0.80054027,-1.3739359,-0.12798163,-0.0856204,0.09373626,0.26090297,0.13619365,0.19327831,0.2745464,-0.34289467,-0.08989261,0.7720562,0.20744506,0.41514608,0.22031334,-0.6975888,0.24453837,-0.114176765,0.012273117,0.3504914,0.1960732,-0.10836908,0.08620026,-0.26919287 },\n",
      "{0.110789075,0.095480956,0.110524535,-0.03446668,-0.011866613,-0.0917685,-0.36804068,0.20624489,-0.79258376,-0.49063087,-1.0192078,-0.21366519,0.018193295,0.16592315,-0.11348138,-0.73448485,0.18593717,-1.4092604,0.07459529,-0.030181214,-0.06513748,0.096889466,0.17717372,0.24545239,0.2970055,0.0077385074,0.0919548,0.305744,0.008526224,0.44502723,-0.29573807,-0.58164006,-0.036972683,-0.3263267,-0.07534579,-0.28554708,0.17073955,-0.14679208,0.008339113,-0.50820684 },\n",
      "{0.17080617,-0.026470894,0.07421151,0.08737696,-0.17555244,0.21869624,-0.021662068,0.10615465,-1.1366928,0.03973935,-1.2024738,0.09715398,0.011736389,0.09209824,0.1290596,-0.011099117,-0.10401426,-0.34670353,0.075566255,0.20629019,-1.3958569,0.17819022,-0.06677688,-0.0357197,-0.0077973944,0.019749142,0.13353297,-0.103787005,0.20565107,0.5094031,-0.16448104,0.019446777,-0.062371477,0.08760755,0.1065104,-0.17491743,0.16836692,0.047313347,-0.40573564,-0.6318499 },\n"
     ]
    },
    {
     "name": "stdout",
     "output_type": "stream",
     "text": [
      "{0.17687762,-0.052679952,-0.2251528,0.004996757,-0.028388115,0.094098195,-0.042361002,0.086596705,-0.709242,0.24084137,-0.7190234,0.16201077,-0.0014776462,-0.036804274,0.19488724,0.024637936,-0.078906044,-0.011943396,-0.08822355,-1.3045552,0.0354003,0.18201475,-0.253612,-0.3272955,-0.47393107,-0.12077447,-3.7979336,0.08348174,0.09479759,0.3122843,-0.35068366,0.21804798,-0.030425629,-0.10522488,0.038848434,0.4397322,0.07897326,0.08216364,-2.7600598,0.03984441 },\n",
      "{-0.05218934,-0.093779884,-0.5051243,0.11620922,0.076080725,-0.43770882,-0.30094254,-0.07841562,-0.33576113,-0.003725556,-0.4158808,-0.09904433,0.11333325,-0.5227729,0.15289733,0.069112256,0.20438938,0.09497403,-0.279436,-1.1544045,-0.12448506,0.6963656,0.13287005,0.034026746,-0.6754759,-0.111129284,0.22669362,-0.019896936,-0.015512397,0.040145773,-0.03318903,-0.05017941,0.05392544,0.08372835,-0.09948195,0.07712949,0.17540859,0.24897358,-0.033708174,0.18518104 },\n",
      "{-0.16014768,0.13913949,0.11001516,0.10944378,-0.050185926,0.0004812019,-0.1466172,0.17826241,-0.1259628,-0.27088252,-0.271996,-0.009237845,-0.27278432,0.16887958,0.01666995,-0.7348471,0.28004655,0.11949717,0.05811026,0.031867325,-0.8297014,0.030076513,0.1391985,0.10596778,-0.05342969,-0.017916618,0.0114982575,-0.70502937,0.22017221,-0.0048293993,-0.4422493,-0.13179214,-0.22158769,0.19727798,0.062947206,-0.12297711,-0.029222656,0.37044373,-0.27369526,-0.25633037 },\n",
      "{0.31806856,0.35275537,0.22150403,0.18124615,-0.09188382,-0.07907053,-0.05629637,0.27656534,0.15067458,-0.25888947,-0.65058833,0.24979925,0.027972486,-0.09325477,-0.19388026,-1.5411942,0.09670714,0.26456216,0.046768125,0.23658234,-0.13566808,0.10076964,-0.16488594,0.22730438,0.24815851,0.007400471,0.09056046,-0.3300387,-0.04080113,-0.02373224,-0.4276959,-0.011884779,-0.2175745,-0.15562938,-0.639009,-0.38877252,0.022797095,0.12323396,-0.14754899,-0.61146027 },\n",
      "{0.3165306,0.20279965,-0.13934247,-0.066414125,0.13078858,0.12179724,0.011238362,0.7304393,-0.29281586,-0.44600317,-1.3036919,0.12789164,0.18389475,-0.10598199,-0.30731598,-1.3840733,-0.35409513,0.35033885,-0.14793387,0.14733192,-0.18647067,0.10508735,-1.5268067,0.22029899,0.38013548,0.22838812,0.5035583,-0.06518331,-0.42568132,0.4181822,-0.5832596,0.14310634,0.15919651,-0.3038692,-0.76168776,-0.29299834,0.008657873,-0.38175508,-0.006626439,-0.34165984 },\n",
      "{0.82658386,-0.8074732,-0.073146634,-0.38341886,0.9480494,-0.27364329,0.28122234,-0.1441119,0.070164114,-0.691071,-0.15861617,0.38714015,-0.08909792,0.3701774,-0.55079347,1.1511724,0.29074043,0.5020602,0.117736585,-0.14343208,-0.1667431,0.038956147,0.6707593,0.3516477,-0.7499424,-0.16735211,0.18353282,0.115421966,-0.5353228,0.5073763,0.4135528,0.13086247,0.4780983,-0.16069785,-0.11658902,0.39014968,0.65964526,-1.2758723,-0.4794261,-0.55672306 },\n",
      "{0.32442352,-0.088758826,0.012023041,-0.20111191,0.5777885,-0.1442196,0.1870635,-0.25365707,0.7697168,-0.47932965,-0.04600857,-0.04583834,0.5552986,-0.30980498,-0.46667278,-0.16432077,0.10831264,0.568769,-0.30835676,-0.07316387,0.08963986,-0.31496304,-0.10243648,-0.1518739,-0.6827355,-0.077816755,0.29304916,0.5813709,-0.34878045,0.9900269,0.42714873,0.9159041,0.110556126,0.64799416,0.20361738,1.0930842,0.121067256,-0.3008782,-0.06346229,-0.10549299 },\n",
      "{0.34631974,0.050804876,0.04185021,-0.4909491,-0.0014970435,-0.38727477,0.0030459345,0.61655396,0.7512615,-0.08021688,-0.17675392,0.02463825,-0.07355423,-0.10862199,0.078247905,0.20831896,-0.1382256,0.33802778,-0.25015762,0.3645469,-0.17603901,-0.14865562,-0.5744949,-0.24478738,0.18988171,-0.00892185,0.10448365,-0.002529309,0.08932067,0.3498105,-0.18203264,-0.44872084,-0.37696016,-0.781317,0.30380395,-0.0885542,0.35152212,-0.27587178,-0.0044512483,-0.45466524 },\n",
      "{-0.1079152,0.016671872,0.15330522,0.09467388,-0.049419764,-0.21056527,-0.3837545,0.27559614,0.72803843,0.24832244,-0.2805544,0.03576592,-0.3217556,0.29666057,0.12129524,0.21336357,-0.07880871,0.20257574,0.14146996,-0.049463794,0.1990678,0.16521469,-0.07562975,-0.11991504,0.16147144,-0.20941925,-0.16032214,0.10984501,0.12772222,0.084178425,-0.4211321,-1.3012704,-0.03889371,0.07148592,0.17963906,-0.42588496,0.22242856,-0.53397095,-0.19740418,-2.121618 },\n",
      "{0.30625227,0.088010825,0.23553579,0.08573369,-0.1350179,0.08891015,-0.13719079,-0.06193466,0.41401598,0.7134556,0.11513721,0.15892717,-0.18137877,0.22054319,0.22468947,0.28637967,-0.28951705,0.13874549,0.07475058,0.31696656,-1.6030966,0.016195333,-0.06792565,-0.45590514,0.20598468,-0.18966657,-0.7209149,-0.08265908,-0.018443445,-0.085813865,-1.1530641,-1.8017143,0.06263094,0.15373556,0.004968332,-0.6974389,0.42763618,-0.2693326,-0.16855529,-0.25659046 },\n",
      "{0.1200148,0.2628028,0.21071358,0.03351381,-0.11440008,0.22495548,-0.08701112,0.044186328,-0.28924692,-0.47005925,0.20459442,0.1832628,0.27429825,-0.19351222,0.17413558,0.25906157,-0.09857073,0.117397435,-0.004544213,-0.9604351,0.16773154,0.4182878,0.3252934,-0.6673196,-0.036054745,-0.36560714,-0.8033663,0.105672255,0.047584202,0.08220469,-0.056656577,-1.7655783,0.17958055,-0.2687344,0.09191511,-0.5903195,0.21814783,0.11822604,-0.5738686,0.58729136 },\n",
      "{-0.36630172,-0.085671,-0.4996348,0.09319183,0.10283145,-0.55694807,-0.35413605,0.19371395,-0.039812986,-0.22568697,-0.0052276496,-0.10385562,-0.20130305,0.21204023,-0.13071792,-0.7018207,0.27344155,0.08907378,-0.08752621,-0.60241604,-0.047156733,0.33685073,0.1783121,-0.64508355,-0.20815961,0.06689409,0.14166869,-0.038050838,0.11221819,0.028072005,0.12893163,-0.50677997,-0.035953645,0.09529794,0.040487204,-0.02475918,0.3903655,-0.1704583,0.014791212,0.061749324 },\n",
      "{-0.2021795,0.2079403,0.34154305,0.22165406,0.23579332,-0.23370835,-0.029684212,0.078648016,0.042143624,-0.2860516,-0.21534391,0.11564357,-0.20131199,0.19201507,-0.41529146,-0.95197684,0.0069350037,0.20995522,-0.016404228,0.067220725,-0.769905,0.07872751,-0.0833177,-0.046555996,0.1522107,0.018593015,0.17265397,-0.79885274,0.05026492,-0.03231356,-0.35855785,-0.014767104,0.03315964,0.11834384,0.06271375,-0.013642546,0.36069983,-0.36167884,-0.19067614,0.18496442 },\n",
      "{-0.0031012914,0.082002245,-0.03159109,-0.0035666982,0.31347543,0.11113212,0.10173363,0.20060073,-0.0881443,-0.40370142,-0.9553037,0.118552715,0.09331879,0.087723285,-0.51491445,-0.069365785,0.10374488,0.253278,-0.35409117,0.15978871,-0.07558462,0.29510203,-0.056459706,0.31461173,-0.027401026,0.06442315,0.034042273,0.15686557,-0.13632847,-0.08225325,0.12962992,0.19153266,0.15191448,-0.11152628,-0.0032471633,-0.61286575,0.29806525,0.0051342575,0.06573411,-0.043695204 },\n",
      "{-0.24049291,0.12706448,-0.22324227,0.3335675,-0.014179532,0.1724973,0.12257166,-0.16519453,-0.08971297,0.23340787,-0.38580692,0.18763934,0.014013072,0.31864324,-0.011786183,0.65807337,0.23009658,0.12521887,-0.10925872,-0.4560857,0.07144872,0.13710666,0.016374428,0.38941678,-0.221044,0.27213162,-0.2398161,0.37515467,-0.42732295,0.07762722,-0.17530303,0.14287122,-0.16923258,-0.73827165,-0.6608225,-0.47082272,0.39746088,-0.5354325,0.060916092,-0.16096929 },\n",
      "{0.8262449,-0.85890716,-0.6092477,-0.09968261,0.676549,-0.60422146,-0.7860113,-0.8262612,-0.18156745,-0.09673531,1.2633569,0.51521015,0.632836,1.496312,-0.81343096,1.2840853,1.089007,1.309708,0.10546894,-0.08133798,-0.085724205,-1.076368,0.9738678,0.3620228,-0.5365907,-0.66685426,0.032390837,0.4605945,0.56349343,0.4380841,0.6859909,0.5136028,-0.35621583,-1.3255162,-0.33123457,-0.58541363,0.35923076,0.7455166,-1.3548559,-0.54220587 },\n",
      "{-0.49993476,-0.3780635,-0.18260826,-0.03159467,0.9532911,-0.1064955,0.888557,-0.4393796,0.889157,-0.07828123,0.53185165,0.6592065,0.17257032,0.5969064,0.0359444,0.05327309,-0.35315356,0.079157524,-0.035658427,0.19456024,0.12929492,-0.31289122,0.27495807,0.0038524165,0.28218773,-0.08699197,0.43973163,0.3687021,0.21641505,-0.23634875,-0.0029363271,0.8907812,0.009958489,0.19472276,0.046759326,0.15851897,-0.31558692,0.5467744,0.23952553,-0.35693616 },\n",
      "{-0.071025744,0.25515288,-0.17968771,-0.07709159,0.21912749,0.24888939,0.64086187,0.08332017,-0.28211722,0.4034864,-0.2847253,0.6671343,-0.46542597,0.24436188,0.13641652,0.57878095,0.39525884,0.43800077,-0.17625488,-0.24624434,0.18849082,0.15466774,-0.5632555,-0.29973164,-0.1450635,0.45924908,-0.52807766,0.2517027,-0.120453,0.1961,0.22717005,0.2749357,0.2041526,-0.18118618,-0.4898192,0.5319955,-0.045042098,-0.7764397,0.18870012,-1.316671 },\n",
      "{-0.30657932,-0.10670281,-0.05875902,0.06564856,0.027841806,-0.06562867,0.42187086,-1.2065586,0.16776673,0.16842183,-0.010628804,-0.07619145,-0.61389333,0.03065269,0.20632806,0.30025828,-0.109942794,0.14554644,0.07159772,-0.4030761,-0.25674784,-0.05072333,-0.93391716,0.1564531,-0.21876113,0.11119334,-1.8188972,0.028541196,-0.07266281,-0.07354694,0.30688763,0.16012713,-0.16434912,-0.6736196,0.053404253,0.1871055,0.20083743,-0.25883773,0.13999718,-0.28884497 },\n",
      "{-0.018218538,0.15586832,-0.21676467,-0.20596011,-0.089068554,-0.012473433,0.035521988,-0.7416344,0.320372,0.23055677,0.2984819,0.100479625,0.00745959,0.23375216,0.27422413,0.35807377,-0.54760855,0.050272427,-0.41675246,-1.127747,-1.3151715,0.26040605,-0.40981954,0.14403805,0.2275832,0.20295995,0.088773124,-0.157708,-0.01557254,-0.0865544,-0.11188331,0.41486958,0.031116476,-0.9121304,0.19437344,0.24529271,0.39763394,-0.015201657,-0.025481284,0.32455942 },\n",
      "{0.26612055,0.22320318,-0.66568995,0.009271912,-0.022270204,0.08209804,0.30174577,-0.06271104,0.19027594,-0.1942986,0.31542942,0.10070503,0.3446847,0.09257791,-0.011951323,-0.12591286,-0.35413954,0.099777915,-0.36563042,-0.87322974,-0.11934889,0.14601873,-0.23385283,-0.07275961,0.41168058,0.0061341096,0.059748508,-0.13280588,0.14618781,-0.115460336,0.24074693,0.23392078,-0.043110475,-0.31952196,0.10922523,0.07718782,0.2202364,-0.16431797,0.08096882,0.3355462 },\n",
      "{0.06351328,0.13903427,-0.5076908,0.10535226,0.082107686,-0.0867475,0.269631,0.10411303,-0.061109453,-0.17073214,0.14699985,-0.18042424,-0.97901195,-0.012450101,-0.029052753,-0.022530708,-0.003748601,-0.037911776,0.100227416,0.1424745,0.061526943,0.20675728,0.092059314,0.018451793,-0.045841753,0.05222802,-0.20421724,-0.17021678,-0.037036497,-0.17275678,0.25027156,0.13310854,0.079367764,-0.0021789647,0.029242951,-0.106001034,0.061344326,-0.49598145,0.23324671,0.007246073 },\n",
      "{-0.21868528,0.12294564,0.35264647,0.00142973,-0.012812911,0.09177551,0.2091433,0.04205814,0.10887729,-0.26827002,0.22881718,-0.34808078,-0.36091852,-0.17799301,0.23828426,0.39059633,-0.0076765236,-0.28017116,0.024313204,0.1620509,-0.22142346,0.30775675,0.22070323,-0.03345508,-0.07568124,0.21516626,-0.019668536,-0.8259273,0.032126863,0.073047094,0.4206464,0.042603675,-0.13232525,-0.52841496,-0.007418831,-0.33906457,0.38251635,-1.7876968,0.11597719,0.09938789 },\n",
      "{0.50693184,-0.0557473,0.112542264,-0.13999619,0.044533,0.13672623,0.59009296,-0.23643969,-0.06947519,0.043587472,0.60554284,-0.030253412,0.114443764,-0.1283491,-0.08559098,0.24099223,0.034671307,-0.47683448,0.03470739,-0.002148998,-0.6263362,0.37647095,0.20341836,-0.17653444,-0.46850783,0.26865894,-0.67319673,-0.8421747,-0.46674603,0.21778621,0.2932393,-0.013399453,-0.4361777,-0.79002845,-0.1277755,-1.3280941,0.31755194,-0.27130714,0.26563156,-0.22994928 },\n",
      "{0.48258314,-0.2701625,0.38823593,0.32111117,-0.19740553,0.05387556,0.63452965,-0.028878808,-0.69523937,0.15231273,0.6921325,0.2066261,-0.2908533,0.3058376,0.52443635,0.12183134,-0.08936645,0.12462847,0.3631092,-0.063640356,-0.5578008,0.25736016,0.3902995,0.5366323,-0.24503656,0.6383551,-1.0018855,0.402098,-0.3861906,0.05138346,-0.009695989,0.00046175756,-0.4816748,-1.049635,-0.10237549,0.08652307,0.5566615,-0.110348284,0.11211796,-0.017752068 },\n",
      "{0.44377756,-0.26666734,-0.46194115,0.61666554,1.2940114,-0.6565043,0.04260298,0.17790456,0.11760594,-0.7077685,1.6195755,0.44969,-0.014247762,0.18901424,-0.40105394,1.3994763,0.08682984,0.9309344,0.23160654,0.034503076,0.041345492,-0.33012438,-0.44944513,-0.00460641,0.30021358,-0.24825601,-0.23659606,0.6232624,-0.09043765,1.0148524,0.16451862,0.40637973,-0.26484895,-0.64071643,-0.34550008,-0.2797987,0.79306513,-0.8381749,-0.3116103,0.08061445 },\n",
      "{0.012297288,-0.19678766,-0.11231908,0.0006465763,0.15492864,0.01366967,0.07121776,0.008547306,-0.10670943,0.052522972,-0.18893144,0.15041901,-0.060068965,-0.2064994,0.019569054,0.17309643,-0.14998382,-0.17813882,0.076005414,0.11877565,0.04258032,0.08072011,0.049115732,0.15167515,0.14228348,0.053567186,0.10956006,-0.11086778,0.16354029,0.07349543,0.031444818,-0.1783898,-0.18002728,0.032913044,0.12432964,0.08919449,-0.016273454,-0.13454351,0.1786096,0.05020328 },\n",
      "{0.31514245,0.33566806,-0.8203898,-0.28934497,0.33119312,0.29302412,0.039905712,-0.96483713,-0.3795072,-1.1412843,0.32012928,-0.009195407,-0.5504054,-0.115035444,-0.34879613,0.5142382,-0.4350493,-0.40896335,0.006396319,-0.17588717,0.19472727,-0.26547834,0.7175237,-0.020012181,-0.18466634,0.16687946,0.48517284,-0.16233028,-0.16268413,0.24985124,-0.16952284,0.13543588,0.08410922,-0.96131104,0.22710995,-0.4178218,0.110852145,0.010301317,0.116270415,-0.90824807 },\n",
      "{-0.6543857,0.1072488,-0.8772844,0.1877372,0.1004147,-0.23625852,0.49861848,-0.42349443,-0.7892531,-0.29695302,0.1052713,-0.9141006,-0.048729815,0.07097729,-0.24907434,0.12998682,-0.5395496,-0.049472515,-0.032333717,-0.68382555,-0.7050062,0.0938572,0.34971341,0.12719776,0.19971539,-0.13639387,0.07228066,0.10984098,0.17354207,0.01490654,-0.48978058,0.31499138,0.12012068,-0.47187486,-0.14471644,-0.23870987,-0.4282322,0.22578785,-0.24134307,-0.61961776 },\n",
      "{-0.16946444,-0.0707446,-0.46484414,-0.04370473,0.107191525,-0.15579267,0.4724941,0.20239294,-0.11254399,0.15749139,0.033621613,-1.689525,0.10848247,0.12744373,0.21773565,-0.11788629,-0.56321394,0.045284975,-0.14639667,-0.56303537,0.24521483,-0.16554353,-0.17620529,-0.019387117,-0.040444486,0.15287279,0.22972402,0.12537204,-0.052356616,-0.056926906,-0.24163584,0.4779573,0.06421811,0.042532932,0.012394631,-0.1310501,-0.17996028,-0.048506312,0.036920182,-0.55879253 },\n",
      "{0.15754983,0.2553605,-0.2904286,-0.0559912,0.036198527,-0.07061265,0.3972766,-0.09340143,0.012188016,0.20836103,0.05465412,-1.1801947,0.20593333,0.24687442,0.29965356,-0.17912595,-0.13109699,0.07378116,-0.44555345,-0.3014255,0.2943171,0.13106938,-0.2761807,0.08217447,0.18171442,0.014278769,-0.034882896,0.2388453,-0.08308306,-0.008155672,-0.075257815,0.37555113,0.14215419,-0.045880638,0.05504855,-0.10453546,-0.4763403,0.1832105,0.0694143,0.110999964 },\n",
      "{0.07861449,0.060973488,-0.03140152,-0.13183253,0.06194545,0.16672724,0.09143627,0.13045897,-0.10787453,-0.11153918,0.077449575,-1.494316,-0.6320814,-0.14068313,0.18068026,0.10510326,0.056351986,-0.0058871866,0.17177436,-0.19413418,0.16923332,-0.12670562,-0.06135543,0.03764312,0.22243404,0.1767636,0.16751936,0.3678177,-0.17757466,-0.03763837,-0.1366909,0.13542093,-0.50461435,-0.16533421,-0.015993714,-0.34716442,-0.6507483,0.11254609,0.013636738,0.14311887 },\n",
      "{0.34908074,-0.08576456,0.06493238,-0.12362442,-0.13795924,0.1712125,0.17906348,0.23680623,0.027660234,-0.23333026,0.020885235,-1.4045967,-0.6706664,0.08309972,0.38455316,0.2730864,-0.03272922,0.020184146,-0.039980117,0.2291089,0.52837837,0.13079774,-0.3989537,-0.12323255,-0.4780753,-0.07398161,-0.09558896,-0.12971364,-0.037175123,-0.12506312,-0.10879545,0.06238793,-0.5527444,-0.19205233,-0.07071487,-0.9341619,-0.69356555,-2.4286172,-0.17665264,0.09067363 },\n",
      "{-0.08511407,-0.49991915,0.49859914,0.22878157,0.011917022,0.21620396,0.063589364,0.57181156,-0.30258903,0.008696468,0.29722604,-0.34965584,0.25293326,-0.31011578,0.6748751,0.3023884,-0.027649712,-0.14220452,0.14842366,0.021213915,0.18532762,-0.0467049,0.5585388,-0.35517848,-0.15888603,0.21527644,-0.01903294,0.27233598,0.5025855,0.04460804,-0.23267046,-0.19414534,-0.3617083,-0.47868043,-0.10606602,-0.30824712,0.22123088,-0.83158875,-0.14741841,0.16609564 },\n"
     ]
    },
    {
     "name": "stdout",
     "output_type": "stream",
     "text": [
      "{0.031131165,-0.09382766,0.53230065,0.14547785,-0.034922324,-0.14295577,0.2031222,0.37200633,-0.030277638,-0.098612115,0.824744,-0.3263131,0.37228864,0.15812653,0.97267884,0.44399244,-0.3658442,-0.17636499,0.61737025,-0.15166566,-0.012825411,-0.2352009,0.04512628,0.07918307,-0.5356677,0.17476995,-1.0196795,0.7437036,0.57508326,0.09784744,0.008036328,0.20609823,-0.24438296,-0.26272655,0.21891977,0.34086847,-0.8378894,0.1520727,-1.2418084,0.37647033 },\n",
      "{1.0144092,-0.09631214,-0.16208017,0.19300836,0.51891476,0.34586838,-0.36464125,0.13754034,-0.09076739,-0.7691149,0.59081984,0.27201298,0.41647762,-0.37810412,-0.22976242,0.65653354,0.07616008,0.38119575,0.37537432,0.16813745,0.5856921,-0.6326848,0.0053015584,-0.08929321,-0.40028724,0.3899556,-0.011771426,1.0603707,0.27183995,0.33613443,0.75472337,0.18873,0.059023283,-0.55299205,-0.004835172,0.16897443,0.19660527,-0.13997579,0.12790288,0.013929884 },\n",
      "{-0.099795945,0.11328618,0.07688086,-0.16666882,0.019261748,0.016030326,0.11038639,-0.17130762,0.10329385,0.108434126,-0.002602458,-0.16218022,-0.012479812,-0.20050366,-0.020286903,-0.035963833,0.10934566,0.085104,0.12295653,-0.032095402,0.021326214,0.054203942,0.06345941,-0.1490403,-0.20687802,0.14299135,-0.10582652,0.11044948,-0.19718379,0.1519172,-0.16687301,-0.13650778,-0.109421805,0.065405324,-0.10085066,-0.08669355,-0.052573606,-0.058102414,0.038133577,-0.092233166 },\n",
      "{-0.020591334,0.015232414,0.10919151,0.036238354,0.35748488,-0.13908592,0.23400173,-0.084535494,-0.024978595,-0.5499738,-0.53749055,-0.26805997,0.6627188,0.31568384,0.7806833,0.49678677,0.0011353387,-0.05455966,-0.13035631,0.03446944,-0.054363698,0.5714655,0.5598286,-0.20250209,0.28507072,-0.1549955,-0.44279262,-0.40967628,-0.42943266,0.7028283,-0.033333674,-0.1829496,-0.22616567,-0.2083478,-0.16326824,0.52801454,-0.20976076,-0.34099498,-0.042504396,-0.116022274 },\n",
      "{0.1380318,-0.13185039,0.28893867,-0.46533063,0.24940635,-0.26662222,0.38574672,-1.1051769,-0.049504034,-0.9126979,0.18817818,-0.32885525,0.7200568,0.19246817,0.52903765,1.2426738,0.007251199,-0.76264846,0.2818968,-0.08336393,0.090187855,0.12664688,0.5163664,-0.06333979,1.012071,0.13855216,-0.13671444,0.33937255,-0.52950054,0.27026162,0.07533495,0.5125866,-0.48167372,-0.014208563,-0.255867,0.24910584,-1.0013026,-0.17796573,0.8098643,0.51668704 },\n",
      "{-0.17250487,0.05867042,0.15018505,-0.21980634,0.3787157,0.25456023,0.43997008,-0.922254,-0.034845173,-0.15785335,0.026398487,-0.14403065,-0.14619733,0.20222548,0.18240017,-0.11947888,-0.11900033,0.05031312,0.41761255,0.35512808,-0.29648224,-0.23800299,0.41393188,-0.06394666,-0.081670046,0.21688133,-0.2785688,-0.19948721,-0.29949874,0.26901805,-0.34648475,0.18360578,-0.37049943,0.51954,-0.12418565,0.27323896,-1.2609304,0.087838374,0.21236369,-0.40437138 },\n",
      "{-0.21514529,0.04007747,0.06498692,-0.08277443,0.45515025,0.6695895,0.27545938,-0.48981997,0.14270152,-0.43263945,-0.08386038,-0.0140508665,0.3284549,0.22259113,0.37145892,0.12912178,-1.1063895,-0.0048963656,-0.39362398,0.61779535,-0.18240725,-0.27132025,0.21150997,0.3804889,-0.23515537,0.49807057,-0.14839602,-0.6015687,-1.2928511,0.14972031,-0.25414947,0.02342777,-0.59284514,0.36943546,0.14234442,-0.049387194,-1.9920497,-0.04688385,-0.02790802,0.2021724 },\n",
      "{-0.5681216,-0.9574794,-0.21673556,-2.6755805,0.14543217,-1.3858045,0.35213655,-0.10426807,-0.67010057,-0.5204051,-0.09590688,-0.58310765,-0.16088961,-0.044228923,0.689232,-0.47603387,-0.19383775,0.26784942,-0.06107716,0.32023343,-0.5846025,0.13663174,0.46089846,-0.25506997,0.6391022,0.20762862,-0.17672233,-0.13723473,-1.0906464,0.2117134,-0.2831864,0.12590545,-0.7308638,0.52247155,0.24295186,0.18806158,-1.919473,0.42133513,0.27851152,-0.24754691 },\n",
      "{-0.45542595,-0.05825879,0.20488803,-0.6608112,-0.27901214,-0.36109716,0.48365355,-0.490799,-0.88716805,-0.979136,-0.09395874,0.23292424,-0.08678763,-1.2126102,0.5750022,-0.85635334,-0.40582368,-0.14776145,-0.17486817,0.3455788,-0.16691291,-0.026474837,-0.11238754,-0.52858603,-0.03504346,0.367706,-0.151584,-0.12611291,-0.5681239,-0.03565047,0.39376068,0.2354542,-0.24326293,0.5588386,0.08639321,1.0448123,-1.6960585,-0.168028,0.6634798,-0.42595723 },\n",
      "{-0.13403615,0.38460746,0.17204827,-1.1478167,-0.084860146,0.056485727,-0.289114,-0.047342952,-0.21688624,-0.7265606,0.29987627,-0.01262067,0.09612649,-0.3660126,0.9006422,0.19234379,-0.58591497,0.17052168,-0.24929361,0.109408125,0.11010062,-0.02564079,0.7111368,0.1092097,0.29218012,0.5730807,0.4609495,0.5720596,-0.40086836,-0.0015912328,-0.19075851,0.3206922,0.22398609,0.5780045,0.21731222,0.7071982,-0.9520534,-0.38645074,0.4954255,-0.40135878 },\n",
      "{-0.13392517,0.4266236,0.53306025,0.3345429,0.3860386,0.55905086,-0.25732043,-0.4387613,0.13263775,-0.11030133,0.37325063,-0.05555638,0.23009314,0.16855739,-0.04229993,0.37454182,-0.12647936,-0.27238613,0.040133905,0.70526516,-0.022831718,0.07911511,0.18821697,-0.065371335,-0.25215146,0.51153326,0.07373505,-0.11034188,-0.43272156,-0.08132668,-0.18502183,0.07222732,-0.109496094,-0.30328712,0.37642482,0.11859847,-0.41599303,-0.25227547,0.5410393,-0.18306626 },\n",
      "{-0.17285353,0.10173376,0.05017282,-0.07125023,0.044798926,-0.13804576,0.18882449,0.029476643,0.17512561,-0.1393638,0.089205846,0.12475319,0.1145706,-0.06370981,0.0951833,0.15218101,0.1508383,0.11195271,-0.01584819,0.035550117,0.012533307,-0.18362232,0.052878156,0.17048286,-0.17434275,-0.10363624,0.06835921,0.06504281,-0.07791816,-0.1219025,0.049260065,-0.065548375,0.11200099,0.008594498,0.012933984,0.12692975,0.0041942894,-0.020782247,-0.035077572,-0.01823695 },\n",
      "};\n"
     ]
    }
   ],
   "source": [
    "\"\"\" (ESP32) For Arduino code \"\"\"\n",
    "\n",
    "print(\"float L1[%d][%d]=\"%(L1.shape[0], L1.shape[1]))\n",
    "print(\"{\")\n",
    "for r in range(0,L1.shape[0]):\n",
    "    print(\"{\",end=\"\")\n",
    "    \n",
    "    for c in range(0,L1.shape[1]-1):\n",
    "        print(L1[r,c],end=\",\")\n",
    "    print(L1[r,c+1],\"},\")\n",
    "\n",
    "print(\"};\")"
   ]
  },
  {
   "cell_type": "code",
   "execution_count": 20,
   "metadata": {
    "scrolled": true
   },
   "outputs": [
    {
     "name": "stdout",
     "output_type": "stream",
     "text": [
      "float L2[40][20]=\n",
      "{\n",
      "{0.5006527,0.15596005,-0.1672403,0.052782357,-0.096520364,0.31014717,0.21276405,0.025218822,0.13325532,-0.36444628,0.44486594,0.35966957,0.055546556,0.06964138,0.9122869,0.015787346,0.1383998,-0.30143252,-0.065851144,-0.10188077 },\n",
      "{0.37395597,0.26933497,-0.022759022,0.001475852,0.056722116,0.2381198,0.14795776,-0.17334688,-0.35345697,0.12049912,-0.17080167,-0.3755839,-0.32126415,0.0432991,0.3520575,-0.042747363,-0.11484495,-0.3416608,-0.09530745,-0.12596773 },\n",
      "{0.35967308,-0.2291307,-0.57884693,0.10702728,-0.04011343,0.24757876,-0.025189294,-0.1477279,0.11933198,0.045301933,0.22134484,0.16552967,0.30977008,0.097110264,-0.21318552,0.27943856,0.32912368,0.09605492,0.17241548,-0.20681721 },\n",
      "{-0.23369682,0.10637958,0.0042611277,0.0004369146,-0.014026129,-0.07305968,0.31404996,-0.06947277,-0.21630116,-0.18399706,0.14203261,0.423838,0.37730995,-0.19754826,0.38806877,-0.11207275,0.095499545,-0.31153315,-0.24718936,-0.33384255 },\n",
      "{0.20678702,-0.09798091,-0.16078746,-0.14894734,-0.15358424,-0.07027267,-0.17933165,0.24385513,-0.22932178,0.15816209,0.26417688,0.11403904,0.087152325,0.09472821,0.19433697,-0.24542862,-0.39735618,-0.20318213,-0.05974113,-0.033281107 },\n",
      "{0.041500125,0.12450527,0.007573143,0.12919652,0.12583946,0.088032305,0.20124243,-0.36176503,-0.2629812,0.039691195,-0.02401026,0.207105,0.12188399,-0.09834422,-0.1672384,0.08016697,-0.0021574746,-0.20812397,0.09941572,-0.04456191 },\n",
      "{0.039912816,-0.1093713,0.04310434,-0.18376014,0.07443233,-0.17210232,-0.33074588,0.057350095,-0.1726026,0.06641593,-0.17766874,-0.26807857,-0.32051736,-0.16348743,-0.034927186,-0.03724878,-0.2677125,0.118063524,-0.21624376,-0.021749329 },\n",
      "{0.3902066,-0.053554088,-0.32348922,-0.16668779,-0.026230615,0.047271773,0.2682895,-0.114458844,-0.016493477,-0.13234833,0.10487425,0.03656468,0.4080033,-0.09114956,0.18685594,-0.15804063,0.061927244,-0.102956325,0.036375757,0.017982472 },\n",
      "{0.046895728,-0.042635877,-0.2726155,-0.39725432,-0.22590044,0.005622374,-0.17072298,0.058582734,-0.08308676,0.32198882,0.29762036,-0.23214164,-0.018063381,-0.0336059,-0.08441935,0.090096585,0.035678912,0.07197234,0.4536672,0.10569584 },\n",
      "{0.07988277,-0.0274805,0.22985207,0.051181737,-0.04216674,-0.4219601,-0.002936472,0.015081596,-0.22418955,-0.046324503,-0.019938884,-0.38862988,0.18494473,-0.07416467,0.15459114,-0.282914,-0.15732042,-0.2385158,0.046014924,-0.3484216 },\n",
      "{-0.14579736,-0.0069620856,-0.186652,0.14288116,-0.26259127,0.23251595,0.0953104,0.21479452,-0.009665608,-0.17063798,0.13285422,0.027587486,0.28459528,0.08268802,-0.03421231,0.012370503,-0.38388208,-0.23231894,0.15113284,-0.23222929 },\n",
      "{-0.09854435,-0.13157068,0.13103347,0.03697332,0.07287911,-0.18313031,-0.5659502,0.22217387,0.056896526,0.11823135,0.4816431,-0.018120747,-0.33886996,-0.3311051,0.009323841,-0.06527776,-0.022705909,0.18061835,0.27879313,-0.09039997 },\n",
      "{-0.020424286,-0.030084483,-0.10643363,-0.20882702,-0.6618993,-0.20928776,0.087995246,-0.03972305,-0.09707604,-0.07327347,0.026731443,0.61414385,0.26681682,0.26937434,0.29908705,-0.27657816,0.3006577,-0.24667169,0.08002733,0.16119133 },\n",
      "{0.08705074,-0.17138675,0.00016949959,0.029265957,0.12802354,-0.03295753,0.07951464,0.084605776,-0.35705087,-0.27156112,0.18666224,-0.14673932,0.16454996,-0.006896955,-0.3402688,0.05034417,0.040357523,0.051614344,-0.23272908,-0.27198076 },\n",
      "{-0.59709173,0.016840335,0.103448145,-0.18843824,0.006403946,-0.38569316,-0.102397956,0.013355707,-0.14495647,0.0068129315,-0.17107402,-0.16964138,-0.08075187,-0.20095819,-0.4455786,0.17838553,0.04591455,-0.32757372,-0.4388988,-0.08827214 },\n",
      "{0.0810849,-0.024719633,-0.42579374,0.14488402,-0.029742805,0.025177648,-0.049893394,0.22890283,0.19081539,-0.23586176,0.25810355,-0.19035092,-0.15948185,0.2920125,0.5874131,0.085763425,0.20057711,0.03051788,0.4341444,-0.09781183 },\n",
      "{-0.30143785,-0.040505365,-0.13600405,0.075892754,-0.11484688,0.24275744,0.31427613,0.03374006,-0.3196316,-0.35511807,-0.055423547,0.47983387,0.0887555,-6.491628e-05,0.59071785,-0.20318443,0.03175615,0.061657805,0.6163685,0.06862081 },\n",
      "{0.117934994,-0.066038884,-0.11990941,0.15123884,-0.3732368,0.28339615,-0.081725374,0.15971068,-0.23215897,-0.022521235,0.3022083,-0.38509503,-0.22392637,0.077705435,0.25439376,-0.24838468,-0.29064837,0.045252368,0.009935513,-0.14465013 },\n",
      "{-0.1511993,-0.07974206,-0.34018564,-0.09003574,-0.094560765,0.1880398,0.30649772,-0.029909434,-0.040822554,-0.52320886,0.124342866,0.43482736,0.08745528,-0.15337758,0.43496257,0.1913574,0.086524315,0.2594832,0.49356338,0.22809182 },\n",
      "{0.26562047,-0.14819048,-0.84206617,0.14972863,-0.17768237,0.59318614,0.13949344,0.11964896,-0.08517802,-0.048246007,0.40229148,0.45586133,0.11591076,0.40633616,0.28653994,0.04850614,-0.4989504,0.059343323,0.26448148,-0.09664973 },\n",
      "{-0.18780512,0.49254435,-0.17901303,0.13724487,-0.23490784,-0.20235221,-0.71690583,0.47070226,0.025898125,0.13130808,-0.29978073,-0.33792508,-0.09114847,-0.41311744,1.0551008,-0.2401192,0.47759923,0.092841685,0.6457435,0.12356504 },\n",
      "{-0.7511318,-0.01315708,0.023875438,-0.45504338,-0.059653897,-0.47474954,0.015037114,-0.011507051,-0.25323907,0.0034649118,-0.5157669,-0.4885941,-0.49220362,0.0019699452,-0.71690166,-0.52112067,0.021525959,-0.53003097,-0.48451093,-0.31169292 },\n",
      "{-0.06812007,-0.2502046,0.041027088,-0.37191895,-0.34678125,-0.18495482,-0.12642711,0.096897826,-0.23377174,0.14963603,-0.104958445,0.03253482,0.058147173,0.09436024,-0.1553425,-0.28178754,0.12349158,-0.26099887,-0.042618364,-0.32152748 },\n",
      "{0.038244575,-0.33088773,-0.21098503,0.23322107,-0.34746233,-0.04017266,-0.011104172,0.27432,-0.07834442,0.25748202,0.14506014,0.029515453,-0.08291312,0.07509374,-0.1673689,0.09146024,-0.41994646,-0.0081679905,0.2157358,-0.087178804 },\n",
      "{-0.3546686,-0.03413694,-0.048999336,-0.40857127,0.19310273,-0.049508423,-0.07730944,-0.1375262,-0.24026357,-0.037093192,-0.52465934,-0.2843969,-0.393636,0.007488687,-0.29764163,-0.11511365,0.0021174797,-0.32144395,-0.14088838,-0.08164873 },\n",
      "{-0.03002885,0.32300353,-0.09136788,-0.07562631,0.09698444,0.04112197,-0.2834858,-0.2655359,0.08812817,0.1978675,0.06267421,-0.039274484,-0.22837415,-0.011606997,-0.19830032,-0.10595258,-0.019595575,-0.13173671,0.34652856,-0.2338258 },\n",
      "{0.18069969,0.18410362,-0.18510382,-0.11986551,-0.0850676,0.31073537,-0.017713938,0.09382232,-0.08519833,0.01211312,-0.08450071,-0.14333838,-0.067218415,0.24484348,0.13179234,-0.016129041,-0.27374616,-0.13893555,-0.20088008,0.11661845 },\n",
      "{-0.21272747,0.5005887,0.23292637,-0.20311266,-0.24699147,-0.31459585,-0.6360166,0.18180312,-0.34160078,0.15367374,0.056230914,-0.7240008,-0.31246567,0.046072196,0.62093484,0.20746084,0.37803507,-0.10879405,0.2114451,-0.16133824 },\n",
      "{0.514744,0.1837721,-0.46677023,0.010955001,0.12148408,0.13051412,0.14582641,-0.20805682,0.11930885,-0.10134401,-0.11520669,0.37904644,0.20986515,-0.43951577,0.5506222,-0.40931797,0.0039297664,-0.3044211,0.28059763,0.04374617 },\n",
      "{-0.04001201,-0.19164704,-0.078848965,0.065334894,-0.25643504,0.07093786,-0.06733571,0.23813112,-0.10633739,0.12346422,-0.060152918,0.12745911,0.08842228,0.1568157,0.090594396,-0.15626563,-0.25549707,-0.2000667,-0.2411756,-0.1595019 },\n",
      "{0.48416826,0.35259795,-0.058838584,-0.1880823,-0.08211191,0.42219102,-0.14246476,0.20477945,-0.31410626,-0.07252931,-0.22281541,0.10567543,-0.38815334,-0.06228911,0.7836907,-0.1984045,0.37654147,0.17807658,0.4315537,-0.07527742 },\n",
      "{-0.20572196,0.017218823,-0.23537715,-0.058374707,-0.15773153,-0.15587442,0.021535724,0.061342783,0.14723025,0.18343706,-0.06515448,-0.011998664,-0.16715322,-0.06656062,0.057840742,-0.014590765,0.27914312,0.030731494,0.13407588,0.049894564 },\n",
      "{-0.3404459,0.5468407,-0.55996513,0.098164506,0.026880093,0.26239207,-0.08658519,-0.055271856,0.005543326,0.10719542,-0.15998062,-0.005680097,0.07696761,-0.30192506,0.7903323,0.17991473,0.0727934,-0.2961448,0.30716673,-0.046266407 },\n",
      "{0.27759388,-0.12778652,-0.19063602,-0.31268275,0.034034345,0.18812607,-0.030892314,0.00017697572,-0.33361474,0.090740696,0.120125815,0.05179792,0.3036356,0.2767091,0.292691,-0.31972805,0.1889525,0.07215058,0.122906305,-0.2880787 },\n",
      "{0.63562334,0.46048743,-0.016973278,-0.29965472,-0.036240846,0.13633715,-0.14694938,-0.4275633,-0.020134289,0.39610735,0.06573064,0.1325603,-0.29588422,-0.08050985,0.12847297,0.078704506,0.10696408,-0.31764203,0.7954729,-0.31995246 },\n",
      "{-0.28756484,0.031459548,0.047494926,0.0006702506,-0.0039238404,0.14031379,0.072663695,-0.0016017451,-0.07199598,0.25017273,-0.03105284,0.11283563,-0.023151776,0.10346261,-0.0673792,0.16222179,0.08326503,-0.110665455,0.17425397,-0.049572024 },\n",
      "{0.035077866,0.06479306,-0.08155685,-0.37445083,-0.06416504,-0.12887007,0.04323084,0.06996848,-0.2858577,-0.15328993,0.08867612,-0.3679841,-0.16180672,-0.33086815,-0.4692056,0.030169945,-0.15038145,-0.03637896,-0.36216298,-0.043881338 },\n",
      "{-0.068421714,-0.15538384,-0.076922566,-0.039766528,-0.46721134,0.07532968,0.26012203,-0.15442587,0.013292944,-0.11314577,0.14284678,0.12811416,0.086401224,0.16546567,-0.18946373,-0.31766233,0.060047377,0.32539272,-0.113701604,0.11197909 },\n",
      "{0.18962215,0.01916556,-1.1842334,-0.22321679,0.13559733,0.37649193,-0.105269775,-0.17280467,-0.0014792733,-0.23165052,-0.23964499,0.41725984,-0.1976427,0.097799174,0.14752716,0.34867713,-0.30051932,-0.017990515,-0.060291212,-0.00803302 },\n",
      "{0.38166928,-0.06658604,0.25852662,0.17030062,0.035299763,0.07817154,-0.05235765,0.020468175,0.19690187,-0.08710392,0.089574285,0.17494608,-0.17237301,-0.08078955,0.24704899,-0.23934947,-0.24448103,-0.08875931,0.073691495,-0.037248306 },\n",
      "};\n"
     ]
    }
   ],
   "source": [
    "print(\"float L2[%d][%d]=\"%(L2.shape[0], L2.shape[1]))\n",
    "print(\"{\")\n",
    "for r in range(0,L2.shape[0]):\n",
    "    print(\"{\",end=\"\")\n",
    "    \n",
    "    for c in range(0,L2.shape[1]-1):\n",
    "        print(L2[r,c],end=\",\")\n",
    "    print(L2[r,c+1],\"},\")\n",
    "\n",
    "print(\"};\")"
   ]
  },
  {
   "cell_type": "code",
   "execution_count": 21,
   "metadata": {
    "scrolled": true
   },
   "outputs": [
    {
     "name": "stdout",
     "output_type": "stream",
     "text": [
      "float L3[20][10]=\n",
      "{\n",
      "{-0.7059337,-0.4747883,-0.4772646,-0.7549963,-0.8756577,-0.44372153,-0.27724436,-0.59987324,-1.334821,-0.9327553 },\n",
      "{0.04287861,0.11016501,0.028884804,0.015127964,0.008049444,0.11396198,0.15863766,0.05749439,0.083253816,-0.0068915244 },\n",
      "{0.09272303,0.10283514,0.097882904,0.08145373,0.094201915,0.05778225,0.10084658,0.08603897,0.18384469,0.08911514 },\n",
      "{-0.42084488,0.061154984,-0.18852215,0.027906992,-0.10068319,0.35828516,0.12384552,-0.051649246,-0.030730793,0.16196252 },\n",
      "{0.3020636,-0.26738235,0.22763123,0.14884984,0.17566207,0.2110184,0.20461561,0.19204082,0.1820782,0.18501872 },\n",
      "{-0.39089885,-1.0921583,-0.6938419,-1.4663419,-0.24507429,-0.48746547,0.2985998,0.0200052,-1.0275924,-1.0227082 },\n",
      "{-0.11419385,-0.18453164,-0.07337778,-0.20236997,-0.029330837,-0.16044027,-0.056910925,-0.09313015,-0.14715593,-0.1612687 },\n",
      "{-0.033661384,0.04318981,0.07818806,0.036291473,-0.020551836,-0.06473203,-0.09700832,0.021280155,0.0033238083,-0.032332227 },\n",
      "{-0.3982478,-0.20557594,0.02917264,-0.0431478,-0.09384356,-0.090781406,0.08939701,0.18876341,0.08768361,0.17227094 },\n",
      "{0.0713999,0.050445896,0.026890796,0.17960773,0.09058081,0.18339002,0.05064367,0.09027077,0.139216,0.15797466 },\n",
      "{-0.7270657,-0.40060136,-0.068401605,-0.95041686,-0.62920636,-0.36280927,-0.3615792,-0.5193938,-0.7123133,-0.87081254 },\n",
      "{-0.7633876,-0.42421356,-0.6105852,-1.2557408,-0.033361886,-0.57517135,-0.5374648,-0.16397245,-0.6208712,-0.3692718 },\n",
      "{-0.82928276,-0.8908579,-0.34563196,-1.0729526,-0.24415699,-1.1141495,-0.6310353,-0.48850816,-0.787268,-0.46067637 },\n",
      "{-0.1566653,-0.038899295,-0.06046667,-0.041368242,-0.03094258,-0.1058885,-1.396729,0.044208705,-0.08187632,-0.01137478 },\n",
      "{-1.3350587,-0.4213352,-0.7436293,-1.0717064,-0.90344375,-0.90146166,-0.45053023,-1.086621,-1.6254929,-1.5062354 },\n",
      "{-0.07563768,-0.27480578,-0.24600133,-0.7961136,-0.9486321,-0.43826464,-0.45168337,-0.6319298,-0.8669344,-0.8266328 },\n",
      "{-0.09186893,-0.024387214,-0.11849918,-0.08146076,0.017388312,-0.05583757,-0.15436865,-0.04835095,-0.07135008,0.03943001 },\n",
      "{0.10930033,-0.007811547,-0.110425875,-0.09988939,-0.20907457,0.072814584,-0.5522183,0.1253139,0.16263181,-0.0015106845 },\n",
      "{-1.6219087,0.11669166,-1.172902,0.04663479,0.15079695,0.15465389,-0.14941849,0.021509932,-1.5112627,-0.13868618 },\n",
      "{0.22955714,0.18124644,-0.25409397,0.28038675,-0.10385034,-0.062073287,-0.35313118,-0.10197589,-0.1710314,0.10369225 },\n",
      "};\n"
     ]
    }
   ],
   "source": [
    "print(\"float L3[%d][%d]=\"%(L3.shape[0], L3.shape[1]))\n",
    "print(\"{\")\n",
    "for r in range(0,L3.shape[0]):\n",
    "    print(\"{\",end=\"\")\n",
    "    \n",
    "    for c in range(0,L3.shape[1]-1):\n",
    "        print(L3[r,c],end=\",\")\n",
    "    print(L3[r,c+1],\"},\")\n",
    "\n",
    "print(\"};\")"
   ]
  },
  {
   "cell_type": "code",
   "execution_count": null,
   "metadata": {},
   "outputs": [],
   "source": []
  }
 ],
 "metadata": {
  "accelerator": "TPU",
  "colab": {
   "collapsed_sections": [],
   "name": "Neural Networks on Microcontrollers.ipynb",
   "provenance": []
  },
  "kernelspec": {
   "display_name": "Python 3",
   "language": "python",
   "name": "python3"
  },
  "language_info": {
   "codemirror_mode": {
    "name": "ipython",
    "version": 3
   },
   "file_extension": ".py",
   "mimetype": "text/x-python",
   "name": "python",
   "nbconvert_exporter": "python",
   "pygments_lexer": "ipython3",
   "version": "3.8.5"
  }
 },
 "nbformat": 4,
 "nbformat_minor": 1
}
